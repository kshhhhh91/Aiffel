{
 "cells": [
  {
   "cell_type": "markdown",
   "id": "5010a411",
   "metadata": {},
   "source": [
    "# 프로젝트 : 다양한 OCR모델 비교하기"
   ]
  },
  {
   "cell_type": "markdown",
   "id": "d6d58b2e",
   "metadata": {},
   "source": [
    "[Google OCR API](https://cloud.google.com/vision), [keras-ocr](https://keras-ocr.readthedocs.io/en/latest/index.html), [Tesseract](https://pypi.org/project/pytesseract/)<br>\n",
    "이 세 가지 OCR 모듈을 검증해보고 비교해보는 프로젝트를 진행해보자.\n",
    "- 텍스트의 모양\n",
    "- 텍스트의 크기\n",
    "- 텍스트의 배치\n",
    "- 텍스트의 노이즈\n",
    "등이 OCR의 성능에 영향을 미치는 주요한 요인들이다.\n",
    "<br> 이미지에 나타난 특징에 따라 얼마나 정확하게 문자를 detect하고 recognize 하는지를 검증하기 위한 이미지 데이터를 사용해야한다."
   ]
  },
  {
   "cell_type": "markdown",
   "id": "b6ff4bd8",
   "metadata": {},
   "source": [
    "## Step 1. 검증용 데이터셋 준비"
   ]
  },
  {
   "cell_type": "markdown",
   "id": "2413e07f",
   "metadata": {},
   "source": [
    "## Step 2. 세 가지 OCR로 테스트 진행\n",
    "이미지 리스트를 정리한 후 반복문을 실행하며 모듈이 출력한 결과를 모아보자."
   ]
  },
  {
   "cell_type": "code",
   "execution_count": null,
   "id": "6640085f",
   "metadata": {},
   "outputs": [],
   "source": []
  },
  {
   "cell_type": "markdown",
   "id": "7214266a",
   "metadata": {},
   "source": [
    "## Step 3. 테스트 결과 정리\n",
    "모듈들마다 출력 형태가 다르기 때문에 분석 결과를 일목요연하게 정리해보는 것이 도움이 될 것이다. 시각화 방법도 함께 활용해보자."
   ]
  },
  {
   "cell_type": "code",
   "execution_count": null,
   "id": "dcfbe931",
   "metadata": {},
   "outputs": [],
   "source": []
  },
  {
   "cell_type": "markdown",
   "id": "3264a04d",
   "metadata": {},
   "source": [
    "## Step 4. 결과 분석과 결론 제시\n",
    "\n",
    "구현하고자 하는 서비스의 목적과 내용을 먼저 정리한 후<br>\n",
    "검토한 OCR 모델들이 그 목적에 부합하는지 확인하기 위해 필요한 평가 기준을 제시.\n",
    "<br> 그 기준에 따라 위에서 정리한 테스트 결과를 분석하여 가장 나은 대안의 모델을 선정."
   ]
  },
  {
   "cell_type": "code",
   "execution_count": null,
   "id": "574870eb",
   "metadata": {},
   "outputs": [],
   "source": []
  }
 ],
 "metadata": {
  "kernelspec": {
   "display_name": "Python 3 (ipykernel)",
   "language": "python",
   "name": "python3"
  },
  "language_info": {
   "codemirror_mode": {
    "name": "ipython",
    "version": 3
   },
   "file_extension": ".py",
   "mimetype": "text/x-python",
   "name": "python",
   "nbconvert_exporter": "python",
   "pygments_lexer": "ipython3",
   "version": "3.9.7"
  }
 },
 "nbformat": 4,
 "nbformat_minor": 5
}
