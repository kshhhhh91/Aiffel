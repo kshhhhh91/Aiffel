{
 "cells": [
  {
   "cell_type": "markdown",
   "id": "47c335b4",
   "metadata": {},
   "source": [
    "# 뉴스기사 요약해보기"
   ]
  },
  {
   "cell_type": "markdown",
   "id": "d6061890",
   "metadata": {},
   "source": [
    "> **추상적 요약(Abstractive Summarization)**\n",
    "<br> 원문으로부터 내용이 요약된 새로운 문장을 생성해낸다. 자연어 생성(NLG)의 영역이다.\n",
    "<br><br> **추출적 요약(Extractive Summarization)**\n",
    "<br> 원문에서 문장들을 추출해서 요약하는 방식이다. 문장 분류(Text Classification)의 영역이다."
   ]
  },
  {
   "cell_type": "markdown",
   "id": "0e6b61c2",
   "metadata": {},
   "source": [
    "## * 데이터 준비하기"
   ]
  },
  {
   "cell_type": "code",
   "execution_count": 1,
   "id": "4b2df14b",
   "metadata": {},
   "outputs": [
    {
     "name": "stderr",
     "output_type": "stream",
     "text": [
      "[nltk_data] Downloading package stopwords to /aiffel/nltk_data...\n",
      "[nltk_data]   Package stopwords is already up-to-date!\n"
     ]
    }
   ],
   "source": [
    "# 다운로드한 뉴스 기사 데이터에서 불용어를 제거하기 위해 NTLK(Natural Language Toolkit) 불러오기\n",
    "import nltk\n",
    "nltk.download('stopwords')\n",
    "\n",
    "# 모듈 불러오기\n",
    "import numpy as np\n",
    "import pandas as pd\n",
    "import os\n",
    "import re\n",
    "import matplotlib.pyplot as plt\n",
    "from nltk.corpus import stopwords\n",
    "from bs4 import BeautifulSoup \n",
    "from tensorflow.keras.preprocessing.text import Tokenizer \n",
    "from tensorflow.keras.preprocessing.sequence import pad_sequences\n",
    "import urllib.request\n",
    "import warnings\n",
    "warnings.filterwarnings(\"ignore\", category=UserWarning, module='bs4')"
   ]
  },
  {
   "cell_type": "code",
   "execution_count": 2,
   "id": "f70aa0dd",
   "metadata": {},
   "outputs": [],
   "source": [
    "# 데이터 불러오기\n",
    "urllib.request.urlretrieve(\"https://raw.githubusercontent.com/sunnysai12345/News_Summary/master/news_summary_more.csv\", filename=\"news_summary_more.csv\")\n",
    "data = pd.read_csv('news_summary_more.csv', encoding='iso-8859-1')"
   ]
  },
  {
   "cell_type": "code",
   "execution_count": 3,
   "id": "74b6054a",
   "metadata": {},
   "outputs": [
    {
     "name": "stdout",
     "output_type": "stream",
     "text": [
      "전체 샘플수 : 98401\n"
     ]
    },
    {
     "data": {
      "text/html": [
       "<div>\n",
       "<style scoped>\n",
       "    .dataframe tbody tr th:only-of-type {\n",
       "        vertical-align: middle;\n",
       "    }\n",
       "\n",
       "    .dataframe tbody tr th {\n",
       "        vertical-align: top;\n",
       "    }\n",
       "\n",
       "    .dataframe thead th {\n",
       "        text-align: right;\n",
       "    }\n",
       "</style>\n",
       "<table border=\"1\" class=\"dataframe\">\n",
       "  <thead>\n",
       "    <tr style=\"text-align: right;\">\n",
       "      <th></th>\n",
       "      <th>headlines</th>\n",
       "      <th>text</th>\n",
       "    </tr>\n",
       "  </thead>\n",
       "  <tbody>\n",
       "    <tr>\n",
       "      <th>31998</th>\n",
       "      <td>Russian hackers posed as ISIS to threaten US m...</td>\n",
       "      <td>Russian hackers operated under the name of 'IS...</td>\n",
       "    </tr>\n",
       "    <tr>\n",
       "      <th>31105</th>\n",
       "      <td>Lalu returns to jail after 5-day parole for so...</td>\n",
       "      <td>RJD chief Lalu Prasad Yadav on Monday returned...</td>\n",
       "    </tr>\n",
       "    <tr>\n",
       "      <th>59701</th>\n",
       "      <td>Indian-origin men among 4 dead in midair chopp...</td>\n",
       "      <td>An 18-year-old Indian-origin trainee pilot and...</td>\n",
       "    </tr>\n",
       "    <tr>\n",
       "      <th>55882</th>\n",
       "      <td>Lotuses in full bloom on Thai lake in annual p...</td>\n",
       "      <td>Lotuses of pink and red hues are in full bloom...</td>\n",
       "    </tr>\n",
       "    <tr>\n",
       "      <th>9642</th>\n",
       "      <td>Sidhu open critic of Modi govt, needs CISF sec...</td>\n",
       "      <td>Congress spokesperson Randeep Surjewala has wr...</td>\n",
       "    </tr>\n",
       "    <tr>\n",
       "      <th>42302</th>\n",
       "      <td>Tiger was never supposed to shoot for our 2nd ...</td>\n",
       "      <td>Kapil Sharma has refuted rumours of Tiger Shro...</td>\n",
       "    </tr>\n",
       "    <tr>\n",
       "      <th>96618</th>\n",
       "      <td>Hot and cold water sound different when poured</td>\n",
       "      <td>Hot and cold water sound different when poured...</td>\n",
       "    </tr>\n",
       "    <tr>\n",
       "      <th>28557</th>\n",
       "      <td>Team loses despite needing 3 in 12 balls with ...</td>\n",
       "      <td>Needing 189 to win in a 40-over match, English...</td>\n",
       "    </tr>\n",
       "    <tr>\n",
       "      <th>51397</th>\n",
       "      <td>What is the Judge BH Loya death case?</td>\n",
       "      <td>CBI Judge BH Loya, who was hearing the Sohrabu...</td>\n",
       "    </tr>\n",
       "    <tr>\n",
       "      <th>10196</th>\n",
       "      <td>Tiger Global invests $3mn in US-based startup ...</td>\n",
       "      <td>American hedge fund Tiger Global Management ha...</td>\n",
       "    </tr>\n",
       "  </tbody>\n",
       "</table>\n",
       "</div>"
      ],
      "text/plain": [
       "                                               headlines  \\\n",
       "31998  Russian hackers posed as ISIS to threaten US m...   \n",
       "31105  Lalu returns to jail after 5-day parole for so...   \n",
       "59701  Indian-origin men among 4 dead in midair chopp...   \n",
       "55882  Lotuses in full bloom on Thai lake in annual p...   \n",
       "9642   Sidhu open critic of Modi govt, needs CISF sec...   \n",
       "42302  Tiger was never supposed to shoot for our 2nd ...   \n",
       "96618     Hot and cold water sound different when poured   \n",
       "28557  Team loses despite needing 3 in 12 balls with ...   \n",
       "51397              What is the Judge BH Loya death case?   \n",
       "10196  Tiger Global invests $3mn in US-based startup ...   \n",
       "\n",
       "                                                    text  \n",
       "31998  Russian hackers operated under the name of 'IS...  \n",
       "31105  RJD chief Lalu Prasad Yadav on Monday returned...  \n",
       "59701  An 18-year-old Indian-origin trainee pilot and...  \n",
       "55882  Lotuses of pink and red hues are in full bloom...  \n",
       "9642   Congress spokesperson Randeep Surjewala has wr...  \n",
       "42302  Kapil Sharma has refuted rumours of Tiger Shro...  \n",
       "96618  Hot and cold water sound different when poured...  \n",
       "28557  Needing 189 to win in a 40-over match, English...  \n",
       "51397  CBI Judge BH Loya, who was hearing the Sohrabu...  \n",
       "10196  American hedge fund Tiger Global Management ha...  "
      ]
     },
     "execution_count": 3,
     "metadata": {},
     "output_type": "execute_result"
    }
   ],
   "source": [
    "# 데이터 확인하기\n",
    "print('전체 샘플수 :', (len(data)))\n",
    "data.sample(10)"
   ]
  },
  {
   "cell_type": "markdown",
   "id": "1db1b928",
   "metadata": {},
   "source": [
    "이 데이터는 기사의 본문에 해당하는 text와 headlines 두 가지 열로 구성되어있다.\n",
    "<br> 추상적 요약을 할 때는 text를 본문, headlines를 이미 요약된 데이터로 삼아서 모델을 학습할 예정이고, 추출적 요약을 할 때는 text열만 사용할 예정이다."
   ]
  },
  {
   "cell_type": "markdown",
   "id": "0cdccca6",
   "metadata": {},
   "source": [
    "---"
   ]
  },
  {
   "cell_type": "markdown",
   "id": "056d8b3d",
   "metadata": {},
   "source": [
    "## < 추상적 요약 >"
   ]
  },
  {
   "cell_type": "markdown",
   "id": "21cd01e9",
   "metadata": {},
   "source": [
    "## Step 1. 데이터 전처리하기"
   ]
  },
  {
   "cell_type": "markdown",
   "id": "f6079978",
   "metadata": {},
   "source": [
    "### 1) 데이터 정리하기"
   ]
  },
  {
   "cell_type": "markdown",
   "id": "3afabffd",
   "metadata": {},
   "source": [
    "#### 중복 샘플과 NULL 값이 존재하는 샘플 제거"
   ]
  },
  {
   "cell_type": "markdown",
   "id": "5d833f73",
   "metadata": {},
   "source": [
    "빈칸으로 존재하는 null 데이터, 의미는 같지만 다른 식으로 작성된 글 같은 중복 항목 등\n",
    "<br> 학습할 때 방해가 되는 데이터 먼저 솎아내보자."
   ]
  },
  {
   "cell_type": "code",
   "execution_count": 4,
   "id": "9e55d3bd",
   "metadata": {},
   "outputs": [
    {
     "name": "stdout",
     "output_type": "stream",
     "text": [
      "text 열에서 중복을 배제한 유일한 샘플의 수 : 98360\n",
      "headlines 열에서 중복을 배제한 유일한 샘플의 수 : 98280\n"
     ]
    }
   ],
   "source": [
    "# 데이터의 중복 샘플 유무 확인\n",
    "print('text 열에서 중복을 배제한 유일한 샘플의 수 :', data['text'].nunique())\n",
    "print('headlines 열에서 중복을 배제한 유일한 샘플의 수 :', data['headlines'].nunique())"
   ]
  },
  {
   "cell_type": "markdown",
   "id": "1a1b39de",
   "metadata": {},
   "source": [
    "text가 달라도 headlines는 동일할 수 있다. (같은 내용이지만 다른 기사)\n",
    "<br> text 자체가 중복된 경우는 중복 샘플이니 제거해야 한다."
   ]
  },
  {
   "cell_type": "code",
   "execution_count": 5,
   "id": "07b161ca",
   "metadata": {},
   "outputs": [
    {
     "name": "stdout",
     "output_type": "stream",
     "text": [
      "전체 샘플수 : 98360\n"
     ]
    }
   ],
   "source": [
    "# drop_duplicates()으로 손쉽게 중복 샘플 제거\n",
    "# inplace=True 를 설정하면 DataFrame 타입 값을 return 하지 않고 data 내부를 직접적으로 바꿈\n",
    "data.drop_duplicates(subset = ['text'], inplace=True)\n",
    "print('전체 샘플수 :', (len(data)))"
   ]
  },
  {
   "cell_type": "code",
   "execution_count": 6,
   "id": "7237dd2b",
   "metadata": {},
   "outputs": [
    {
     "name": "stdout",
     "output_type": "stream",
     "text": [
      "headlines    0\n",
      "text         0\n",
      "dtype: int64\n"
     ]
    }
   ],
   "source": [
    "# Null값 남아있는지 확인하기\n",
    "print(data.isnull().sum())"
   ]
  },
  {
   "cell_type": "markdown",
   "id": "0b8bf124",
   "metadata": {},
   "source": [
    "#### 텍스트 정규화와 불용어 제거"
   ]
  },
  {
   "cell_type": "markdown",
   "id": "5158cfc7",
   "metadata": {},
   "source": [
    ">**텍스트 정규화**(Text normalization) : 같은 의미인데도 다른 표현으로 쓰여서 마치 다른 단어들처럼 간주되는 경우에서 같은 표현으로 통일시켜주는 방법\n",
    "<br> 기계의 연산량을 줄일 수 있다.\n",
    "<br> (it'll = it will,  mustn't = must not 등과 같은 것) <br>\n",
    "[텍스트 정규화 사전 출처](https://stackoverflow.com/questions/19790188/expanding-english-language-contractions-in-python)"
   ]
  },
  {
   "cell_type": "code",
   "execution_count": 7,
   "id": "a5526b27",
   "metadata": {},
   "outputs": [
    {
     "name": "stdout",
     "output_type": "stream",
     "text": [
      "정규화 사전의 수:  120\n"
     ]
    }
   ],
   "source": [
    "# 텍스트 정규화를 위한 사전 구성\n",
    "\n",
    "contractions = {\"ain't\": \"is not\", \"aren't\": \"are not\",\"can't\": \"cannot\", \"'cause\": \"because\", \"could've\": \"could have\", \"couldn't\": \"could not\",\n",
    "                \"didn't\": \"did not\",  \"doesn't\": \"does not\", \"don't\": \"do not\", \"hadn't\": \"had not\", \"hasn't\": \"has not\", \"haven't\": \"have not\",\n",
    "                \"he'd\": \"he would\",\"he'll\": \"he will\", \"he's\": \"he is\", \"how'd\": \"how did\", \"how'd'y\": \"how do you\", \"how'll\": \"how will\", \"how's\": \"how is\",\n",
    "                \"I'd\": \"I would\", \"I'd've\": \"I would have\", \"I'll\": \"I will\", \"I'll've\": \"I will have\",\"I'm\": \"I am\", \"I've\": \"I have\", \"i'd\": \"i would\",\n",
    "                \"i'd've\": \"i would have\", \"i'll\": \"i will\",  \"i'll've\": \"i will have\",\"i'm\": \"i am\", \"i've\": \"i have\", \"isn't\": \"is not\", \"it'd\": \"it would\",\n",
    "                \"it'd've\": \"it would have\", \"it'll\": \"it will\", \"it'll've\": \"it will have\",\"it's\": \"it is\", \"let's\": \"let us\", \"ma'am\": \"madam\",\n",
    "                \"mayn't\": \"may not\", \"might've\": \"might have\",\"mightn't\": \"might not\",\"mightn't've\": \"might not have\", \"must've\": \"must have\",\n",
    "                \"mustn't\": \"must not\", \"mustn't've\": \"must not have\", \"needn't\": \"need not\", \"needn't've\": \"need not have\",\"o'clock\": \"of the clock\",\n",
    "                \"oughtn't\": \"ought not\", \"oughtn't've\": \"ought not have\", \"shan't\": \"shall not\", \"sha'n't\": \"shall not\", \"shan't've\": \"shall not have\",\n",
    "                \"she'd\": \"she would\", \"she'd've\": \"she would have\", \"she'll\": \"she will\", \"she'll've\": \"she will have\", \"she's\": \"she is\",\n",
    "                \"should've\": \"should have\", \"shouldn't\": \"should not\", \"shouldn't've\": \"should not have\", \"so've\": \"so have\",\"so's\": \"so as\",\n",
    "                \"this's\": \"this is\",\"that'd\": \"that would\", \"that'd've\": \"that would have\", \"that's\": \"that is\", \"there'd\": \"there would\",\n",
    "                \"there'd've\": \"there would have\", \"there's\": \"there is\", \"here's\": \"here is\",\"they'd\": \"they would\", \"they'd've\": \"they would have\",\n",
    "                \"they'll\": \"they will\", \"they'll've\": \"they will have\", \"they're\": \"they are\", \"they've\": \"they have\", \"to've\": \"to have\",\n",
    "                \"wasn't\": \"was not\", \"we'd\": \"we would\", \"we'd've\": \"we would have\", \"we'll\": \"we will\", \"we'll've\": \"we will have\", \"we're\": \"we are\",\n",
    "                \"we've\": \"we have\", \"weren't\": \"were not\", \"what'll\": \"what will\", \"what'll've\": \"what will have\", \"what're\": \"what are\",\n",
    "                \"what's\": \"what is\", \"what've\": \"what have\", \"when's\": \"when is\", \"when've\": \"when have\", \"where'd\": \"where did\", \"where's\": \"where is\",\n",
    "                \"where've\": \"where have\", \"who'll\": \"who will\", \"who'll've\": \"who will have\", \"who's\": \"who is\", \"who've\": \"who have\",\n",
    "                \"why's\": \"why is\", \"why've\": \"why have\", \"will've\": \"will have\", \"won't\": \"will not\", \"won't've\": \"will not have\",\n",
    "                \"would've\": \"would have\", \"wouldn't\": \"would not\", \"wouldn't've\": \"would not have\", \"y'all\": \"you all\",\n",
    "                \"y'all'd\": \"you all would\",\"y'all'd've\": \"you all would have\",\"y'all're\": \"you all are\",\"y'all've\": \"you all have\",\n",
    "                \"you'd\": \"you would\", \"you'd've\": \"you would have\", \"you'll\": \"you will\", \"you'll've\": \"you will have\",\n",
    "                \"you're\": \"you are\", \"you've\": \"you have\"}\n",
    "\n",
    "print(\"정규화 사전의 수: \", len(contractions))"
   ]
  },
  {
   "cell_type": "code",
   "execution_count": 8,
   "id": "9f88e564",
   "metadata": {},
   "outputs": [
    {
     "name": "stdout",
     "output_type": "stream",
     "text": [
      "불용어 개수 : 179\n",
      "['i', 'me', 'my', 'myself', 'we', 'our', 'ours', 'ourselves', 'you', \"you're\", \"you've\", \"you'll\", \"you'd\", 'your', 'yours', 'yourself', 'yourselves', 'he', 'him', 'his', 'himself', 'she', \"she's\", 'her', 'hers', 'herself', 'it', \"it's\", 'its', 'itself', 'they', 'them', 'their', 'theirs', 'themselves', 'what', 'which', 'who', 'whom', 'this', 'that', \"that'll\", 'these', 'those', 'am', 'is', 'are', 'was', 'were', 'be', 'been', 'being', 'have', 'has', 'had', 'having', 'do', 'does', 'did', 'doing', 'a', 'an', 'the', 'and', 'but', 'if', 'or', 'because', 'as', 'until', 'while', 'of', 'at', 'by', 'for', 'with', 'about', 'against', 'between', 'into', 'through', 'during', 'before', 'after', 'above', 'below', 'to', 'from', 'up', 'down', 'in', 'out', 'on', 'off', 'over', 'under', 'again', 'further', 'then', 'once', 'here', 'there', 'when', 'where', 'why', 'how', 'all', 'any', 'both', 'each', 'few', 'more', 'most', 'other', 'some', 'such', 'no', 'nor', 'not', 'only', 'own', 'same', 'so', 'than', 'too', 'very', 's', 't', 'can', 'will', 'just', 'don', \"don't\", 'should', \"should've\", 'now', 'd', 'll', 'm', 'o', 're', 've', 'y', 'ain', 'aren', \"aren't\", 'couldn', \"couldn't\", 'didn', \"didn't\", 'doesn', \"doesn't\", 'hadn', \"hadn't\", 'hasn', \"hasn't\", 'haven', \"haven't\", 'isn', \"isn't\", 'ma', 'mightn', \"mightn't\", 'mustn', \"mustn't\", 'needn', \"needn't\", 'shan', \"shan't\", 'shouldn', \"shouldn't\", 'wasn', \"wasn't\", 'weren', \"weren't\", 'won', \"won't\", 'wouldn', \"wouldn't\"]\n"
     ]
    }
   ],
   "source": [
    "print('불용어 개수 :', len(stopwords.words('english') ))\n",
    "print(stopwords.words('english'))"
   ]
  },
  {
   "cell_type": "code",
   "execution_count": 9,
   "id": "24711dc0",
   "metadata": {},
   "outputs": [],
   "source": [
    "# 데이터 전처리 함수\n",
    "def preprocess_sentence(sentence, remove_stopwords=True):\n",
    "    sentence = sentence.lower() # 텍스트 소문자화\n",
    "    sentence = BeautifulSoup(sentence, \"lxml\").text # <br />, <a href = ...> 등의 html 태그 제거\n",
    "    sentence = re.sub(r'\\([^)]*\\)', '', sentence) # 괄호로 닫힌 문자열 (...) 제거 Ex) my husband (and myself!) for => my husband for\n",
    "    sentence = re.sub('\"','', sentence) # 쌍따옴표 \" 제거\n",
    "    sentence = ' '.join([contractions[t] if t in contractions else t for t in sentence.split(\" \")]) # 약어 정규화\n",
    "    sentence = re.sub(r\"'s\\b\",\"\", sentence) # 소유격 제거. Ex) roland's -> roland\n",
    "    sentence = re.sub(\"[^a-zA-Z]\", \" \", sentence) # 영어 외 문자(숫자, 특수문자 등) 공백으로 변환\n",
    "    sentence = re.sub('[m]{2,}', 'mm', sentence) # m이 3개 이상이면 2개로 변경. Ex) ummmmmmm yeah -> umm yeah\n",
    "    \n",
    "    # 불용어 제거 (text)\n",
    "    if remove_stopwords:\n",
    "        tokens = ' '.join(word for word in sentence.split() if not word in stopwords.words('english') if len(word) > 1)\n",
    "    # 불용어 미제거 (headlines) - Abstractive한 문장 요약 결과문이 자연스러운 문장이 되려면 이 불용어들이 headlines에는 남아 있는 게 더 좋을 듯\n",
    "    else:\n",
    "        tokens = ' '.join(word for word in sentence.split() if len(word) > 1)\n",
    "    return tokens"
   ]
  },
  {
   "cell_type": "markdown",
   "id": "e9196869",
   "metadata": {},
   "source": [
    "훈련 데이터 전체에 대해서 전처리 수행해보자.\n",
    "<br> text는 불용어를 제거하고, headlines는 불용어를 제거하지 않기 위해 따로 호출해서 진행한다."
   ]
  },
  {
   "cell_type": "code",
   "execution_count": 10,
   "id": "6f4f525c",
   "metadata": {},
   "outputs": [
    {
     "name": "stdout",
     "output_type": "stream",
     "text": [
      "text 전처리 후 결과:  ['saurav kant alumnus upgrad iiit pg program machine learning artificial intelligence sr systems engineer infosys almost years work experience program upgrad degree career support helped transition data scientist tech mahindra salary hike upgrad online power learning powered lakh careers', 'kunal shah credit card bill payment platform cred gave users chance win free food swiggy one year pranav kaushik delhi techie bagged reward spending cred coins users get one cred coin per rupee bill paid used avail rewards brands like ixigo bookmyshow ubereats cult fit', 'new zealand defeated india wickets fourth odi hamilton thursday win first match five match odi series india lost international match rohit sharma captaincy consecutive victories dating back march match witnessed india getting seventh lowest total odi cricket history', 'aegon life iterm insurance plan customers enjoy tax benefits premiums paid save taxes plan provides life cover age years also customers options insure critical illnesses disability accidental death benefit rider life cover age years', 'speaking sexual harassment allegations rajkumar hirani sonam kapoor said known hirani many years true metoo movement get derailed metoo movement always believe woman case need reserve judgment added hirani accused assistant worked sanju']\n"
     ]
    }
   ],
   "source": [
    "clean_text = []\n",
    "# 전체 text 데이터에 대한 전처리 \n",
    "for s in data['text']:\n",
    "    clean_text.append(preprocess_sentence(s))\n",
    "\n",
    "# 전처리 후 출력\n",
    "print(\"text 전처리 후 결과: \", clean_text[:5])"
   ]
  },
  {
   "cell_type": "code",
   "execution_count": 11,
   "id": "36176e42",
   "metadata": {},
   "outputs": [
    {
     "name": "stdout",
     "output_type": "stream",
     "text": [
      "headlines 전처리 후 결과:  ['upgrad learner switches to career in ml al with salary hike', 'delhi techie wins free food from swiggy for one year on cred', 'new zealand end rohit sharma led india match winning streak', 'aegon life iterm insurance plan helps customers save tax', 'have known hirani for yrs what if metoo claims are not true sonam']\n"
     ]
    }
   ],
   "source": [
    "clean_headlines = []\n",
    "# 전체 headlines 데이터에 대한 전처리 \n",
    "for s in data['headlines']:\n",
    "    clean_headlines.append(preprocess_sentence(s, False))  # 불용어 제거를 수행하지 않는다는 의미에서 두 번째 인자로 False를 넣음\n",
    "\n",
    "print(\"headlines 전처리 후 결과: \", clean_headlines[:5])"
   ]
  },
  {
   "cell_type": "markdown",
   "id": "b884a04d",
   "metadata": {},
   "source": [
    "보다 쉽게 확인하기 위해 데이터들을 데이터프레임에 재저장해주자. 빈 값을 가진 샘플들은 모두 Null 값을 가진 샘플로 대체해준다."
   ]
  },
  {
   "cell_type": "code",
   "execution_count": 12,
   "id": "c1aee509",
   "metadata": {},
   "outputs": [],
   "source": [
    "data['text'] = clean_text\n",
    "data['headlines'] = clean_headlines\n",
    "\n",
    "# 빈 값을 Null 값으로 변환\n",
    "data.replace('', np.nan, inplace=True)"
   ]
  },
  {
   "cell_type": "markdown",
   "id": "6c1db9ae",
   "metadata": {},
   "source": [
    "Null 값 생겼는지 확인해보자."
   ]
  },
  {
   "cell_type": "code",
   "execution_count": 13,
   "id": "e7053cfa",
   "metadata": {},
   "outputs": [
    {
     "data": {
      "text/plain": [
       "headlines    0\n",
       "text         0\n",
       "dtype: int64"
      ]
     },
     "execution_count": 13,
     "metadata": {},
     "output_type": "execute_result"
    }
   ],
   "source": [
    "data.isnull().sum()"
   ]
  },
  {
   "cell_type": "markdown",
   "id": "e714682b",
   "metadata": {},
   "source": [
    "### 2) 훈련데이터와 테스트데이터 나누기"
   ]
  },
  {
   "cell_type": "markdown",
   "id": "cf4c0896",
   "metadata": {},
   "source": [
    "학습 진행 위해서는 학습에 사용할 데이터 크기를 결정하고, 문장의 시작과 끝을 표시해줘야 한다."
   ]
  },
  {
   "cell_type": "markdown",
   "id": "499980a4",
   "metadata": {},
   "source": [
    "#### 샘플 최대 길이 정하기"
   ]
  },
  {
   "cell_type": "code",
   "execution_count": 14,
   "id": "3df45af9",
   "metadata": {},
   "outputs": [
    {
     "name": "stdout",
     "output_type": "stream",
     "text": [
      "텍스트의 최소 길이 : 1\n",
      "텍스트의 최대 길이 : 60\n",
      "텍스트의 평균 길이 : 35.09968483123221\n",
      "요약의 최소 길이 : 1\n",
      "요약의 최대 길이 : 16\n",
      "요약의 평균 길이 : 9.299532330215534\n"
     ]
    },
    {
     "data": {
      "image/png": "[encoded data removed]",
      "text/plain": [
       "<Figure size 432x288 with 2 Axes>"
      ]
     },
     "metadata": {
      "needs_background": "light"
     },
     "output_type": "display_data"
    },
    {
     "data": {
      "image/png": "[encoded data removed]",
      "text/plain": [
       "<Figure size 432x288 with 1 Axes>"
      ]
     },
     "metadata": {
      "needs_background": "light"
     },
     "output_type": "display_data"
    },
    {
     "data": {
      "image/png": "[encoded data removed]",
      "text/plain": [
       "<Figure size 432x288 with 1 Axes>"
      ]
     },
     "metadata": {
      "needs_background": "light"
     },
     "output_type": "display_data"
    }
   ],
   "source": [
    "# 길이 분포 출력\n",
    "import matplotlib.pyplot as plt\n",
    "\n",
    "text_len = [len(s.split()) for s in data['text']]\n",
    "headlines_len = [len(s.split()) for s in data['headlines']]\n",
    "\n",
    "print('텍스트의 최소 길이 : {}'.format(np.min(text_len)))\n",
    "print('텍스트의 최대 길이 : {}'.format(np.max(text_len)))\n",
    "print('텍스트의 평균 길이 : {}'.format(np.mean(text_len)))\n",
    "print('요약의 최소 길이 : {}'.format(np.min(headlines_len)))\n",
    "print('요약의 최대 길이 : {}'.format(np.max(headlines_len)))\n",
    "print('요약의 평균 길이 : {}'.format(np.mean(headlines_len)))\n",
    "\n",
    "plt.subplot(1,2,1)\n",
    "plt.boxplot(headlines_len)\n",
    "plt.title('headlines')\n",
    "plt.subplot(1,2,2)\n",
    "plt.boxplot(text_len)\n",
    "plt.title('text')\n",
    "plt.tight_layout()\n",
    "plt.show()\n",
    "\n",
    "plt.title('headlines')\n",
    "plt.hist(headlines_len, bins = 40)\n",
    "plt.xlabel('length of samples')\n",
    "plt.ylabel('number of samples')\n",
    "plt.show()\n",
    "\n",
    "plt.title('text')\n",
    "plt.hist(text_len, bins = 40)\n",
    "plt.xlabel('length of samples')\n",
    "plt.ylabel('number of samples')\n",
    "plt.show()"
   ]
  },
  {
   "cell_type": "markdown",
   "id": "7162d57e",
   "metadata": {},
   "source": [
    "위에서부터 차례대로 그래프는 각각 실제 텍스트와 요약의 길이 분포, 실제 텍스트 샘플 길이별 개수, 요약본 샘플 길이별 개수를 나타내고 있다.\n",
    "<br> text의 최대 길이와 headlines의 적절한 최대 길이를 임의로 정해보자."
   ]
  },
  {
   "cell_type": "code",
   "execution_count": 15,
   "id": "df15beda",
   "metadata": {},
   "outputs": [],
   "source": [
    "text_max_len = 45\n",
    "headlines_max_len = 13"
   ]
  },
  {
   "cell_type": "markdown",
   "id": "9ebd01cd",
   "metadata": {},
   "source": [
    "이 길이를 선택했을 때, 얼마나 많은 샘플들을 자르지 않고 포함할 수 있는지 통계로 확인해보는 것이 길이를 결정하는 데에 도움이 될 것이다. \n",
    "<br> 훈련 데이터와 샘플의 길이를 입력하면 데이터의 몇 %가 해당되는지 계산되는 함수를 만들어보자."
   ]
  },
  {
   "cell_type": "code",
   "execution_count": 16,
   "id": "087246a0",
   "metadata": {},
   "outputs": [],
   "source": [
    "def below_threshold_len(max_len, nested_list):\n",
    "  cnt = 0\n",
    "  for s in nested_list:\n",
    "    if(len(s.split()) <= max_len):\n",
    "        cnt = cnt + 1\n",
    "  print('전체 샘플 중 길이가 %s 이하인 샘플의 비율: %s'%(max_len, (cnt / len(nested_list))))"
   ]
  },
  {
   "cell_type": "code",
   "execution_count": 17,
   "id": "1eb8e8ea",
   "metadata": {},
   "outputs": [
    {
     "name": "stdout",
     "output_type": "stream",
     "text": [
      "전체 샘플 중 길이가 45 이하인 샘플의 비율: 0.9967771451809678\n",
      "전체 샘플 중 길이가 13 이하인 샘플의 비율: 0.9981699877999186\n"
     ]
    }
   ],
   "source": [
    "# text에 적용해보기\n",
    "below_threshold_len(text_max_len, data['text'])\n",
    "\n",
    "# headlines에 적용해보기\n",
    "below_threshold_len(headlines_max_len,  data['headlines'])"
   ]
  },
  {
   "cell_type": "markdown",
   "id": "9cf7773f",
   "metadata": {},
   "source": [
    "정해진 길이보다 길면 제외하는 방법으로 데이터를 정제한다."
   ]
  },
  {
   "cell_type": "code",
   "execution_count": 18,
   "id": "09dfe7e0",
   "metadata": {},
   "outputs": [
    {
     "name": "stdout",
     "output_type": "stream",
     "text": [
      "전체 샘플 수 : 97863\n"
     ]
    }
   ],
   "source": [
    "data = data[data['text'].apply(lambda x: len(x.split()) <= text_max_len)]\n",
    "data = data[data['headlines'].apply(lambda x: len(x.split()) <= headlines_max_len)]\n",
    "print('전체 샘플 수 :',(len(data)))"
   ]
  },
  {
   "cell_type": "markdown",
   "id": "6be86682",
   "metadata": {},
   "source": [
    "#### 시작 토큰과 종료 토큰 추가하기"
   ]
  },
  {
   "cell_type": "markdown",
   "id": "a144d2ef",
   "metadata": {},
   "source": [
    "디코더는 시작 토큰을 입력받아 문장을 생성하기 시작하고, 종료 토큰을 예측한 순간에 문장 생성을 멈춘다. 훈련을 위해 앞 뒤로 추가해보자.\n",
    "<br> 디코더의 입력에 해당하면서 시작 토큰이 맨 앞에 있는 문장의 이름을 decoder_input,\n",
    "<br> 디코더의 출력 또는 레이블에 해당되면서 종료 토큰이 맨 뒤에 붙는 문장의 이름을 decoder_target으로 정한다.\n",
    "<br> 두 개의 문장 모두 headlines열로부터 만들 예정이다."
   ]
  },
  {
   "cell_type": "code",
   "execution_count": 19,
   "id": "ba659428",
   "metadata": {},
   "outputs": [
    {
     "data": {
      "text/html": [
       "<div>\n",
       "<style scoped>\n",
       "    .dataframe tbody tr th:only-of-type {\n",
       "        vertical-align: middle;\n",
       "    }\n",
       "\n",
       "    .dataframe tbody tr th {\n",
       "        vertical-align: top;\n",
       "    }\n",
       "\n",
       "    .dataframe thead th {\n",
       "        text-align: right;\n",
       "    }\n",
       "</style>\n",
       "<table border=\"1\" class=\"dataframe\">\n",
       "  <thead>\n",
       "    <tr style=\"text-align: right;\">\n",
       "      <th></th>\n",
       "      <th>headlines</th>\n",
       "      <th>text</th>\n",
       "      <th>decoder_input</th>\n",
       "      <th>decoder_target</th>\n",
       "    </tr>\n",
       "  </thead>\n",
       "  <tbody>\n",
       "    <tr>\n",
       "      <th>0</th>\n",
       "      <td>upgrad learner switches to career in ml al wit...</td>\n",
       "      <td>saurav kant alumnus upgrad iiit pg program mac...</td>\n",
       "      <td>sostoken upgrad learner switches to career in ...</td>\n",
       "      <td>upgrad learner switches to career in ml al wit...</td>\n",
       "    </tr>\n",
       "    <tr>\n",
       "      <th>1</th>\n",
       "      <td>delhi techie wins free food from swiggy for on...</td>\n",
       "      <td>kunal shah credit card bill payment platform c...</td>\n",
       "      <td>sostoken delhi techie wins free food from swig...</td>\n",
       "      <td>delhi techie wins free food from swiggy for on...</td>\n",
       "    </tr>\n",
       "    <tr>\n",
       "      <th>2</th>\n",
       "      <td>new zealand end rohit sharma led india match w...</td>\n",
       "      <td>new zealand defeated india wickets fourth odi ...</td>\n",
       "      <td>sostoken new zealand end rohit sharma led indi...</td>\n",
       "      <td>new zealand end rohit sharma led india match w...</td>\n",
       "    </tr>\n",
       "    <tr>\n",
       "      <th>3</th>\n",
       "      <td>aegon life iterm insurance plan helps customer...</td>\n",
       "      <td>aegon life iterm insurance plan customers enjo...</td>\n",
       "      <td>sostoken aegon life iterm insurance plan helps...</td>\n",
       "      <td>aegon life iterm insurance plan helps customer...</td>\n",
       "    </tr>\n",
       "    <tr>\n",
       "      <th>4</th>\n",
       "      <td>have known hirani for yrs what if metoo claims...</td>\n",
       "      <td>speaking sexual harassment allegations rajkuma...</td>\n",
       "      <td>sostoken have known hirani for yrs what if met...</td>\n",
       "      <td>have known hirani for yrs what if metoo claims...</td>\n",
       "    </tr>\n",
       "  </tbody>\n",
       "</table>\n",
       "</div>"
      ],
      "text/plain": [
       "                                           headlines  \\\n",
       "0  upgrad learner switches to career in ml al wit...   \n",
       "1  delhi techie wins free food from swiggy for on...   \n",
       "2  new zealand end rohit sharma led india match w...   \n",
       "3  aegon life iterm insurance plan helps customer...   \n",
       "4  have known hirani for yrs what if metoo claims...   \n",
       "\n",
       "                                                text  \\\n",
       "0  saurav kant alumnus upgrad iiit pg program mac...   \n",
       "1  kunal shah credit card bill payment platform c...   \n",
       "2  new zealand defeated india wickets fourth odi ...   \n",
       "3  aegon life iterm insurance plan customers enjo...   \n",
       "4  speaking sexual harassment allegations rajkuma...   \n",
       "\n",
       "                                       decoder_input  \\\n",
       "0  sostoken upgrad learner switches to career in ...   \n",
       "1  sostoken delhi techie wins free food from swig...   \n",
       "2  sostoken new zealand end rohit sharma led indi...   \n",
       "3  sostoken aegon life iterm insurance plan helps...   \n",
       "4  sostoken have known hirani for yrs what if met...   \n",
       "\n",
       "                                      decoder_target  \n",
       "0  upgrad learner switches to career in ml al wit...  \n",
       "1  delhi techie wins free food from swiggy for on...  \n",
       "2  new zealand end rohit sharma led india match w...  \n",
       "3  aegon life iterm insurance plan helps customer...  \n",
       "4  have known hirani for yrs what if metoo claims...  "
      ]
     },
     "execution_count": 19,
     "metadata": {},
     "output_type": "execute_result"
    }
   ],
   "source": [
    "# 요약 데이터에는 시작 토큰과 종료 토큰을 추가한다.\n",
    "data['decoder_input'] = data['headlines'].apply(lambda x : 'sostoken '+ x)\n",
    "data['decoder_target'] = data['headlines'].apply(lambda x : x + ' eostoken')\n",
    "data.head()"
   ]
  },
  {
   "cell_type": "markdown",
   "id": "2f0f6a78",
   "metadata": {},
   "source": [
    "인코더의 입력, 디코더의 입력과 레이블을 각각 다시 Numpy 타입으로 저장해준다."
   ]
  },
  {
   "cell_type": "code",
   "execution_count": 20,
   "id": "5ea33106",
   "metadata": {},
   "outputs": [],
   "source": [
    "encoder_input = np.array(data['text']) # 인코더의 입력\n",
    "decoder_input = np.array(data['decoder_input']) # 디코더의 입력\n",
    "decoder_target = np.array(data['decoder_target']) # 디코더의 레이블"
   ]
  },
  {
   "cell_type": "markdown",
   "id": "2d57a5bc",
   "metadata": {},
   "source": [
    "#### 훈련 데이터와 테스트 데이터 분리\n",
    "분리 패키지를 사용하는 방법이 있지만 여기서는 직접 코딩을 통해 분리해보자."
   ]
  },
  {
   "cell_type": "code",
   "execution_count": 21,
   "id": "55ad87fd",
   "metadata": {},
   "outputs": [
    {
     "name": "stdout",
     "output_type": "stream",
     "text": [
      "[ 5168 80805 90896 ... 53147  5014 77936]\n"
     ]
    }
   ],
   "source": [
    "# encoder_input과 크기와 형태가 같은 순서가 섞인 정수 시퀀스 만들기\n",
    "indices = np.arange(encoder_input.shape[0])\n",
    "np.random.shuffle(indices)\n",
    "print(indices)"
   ]
  },
  {
   "cell_type": "code",
   "execution_count": 22,
   "id": "7fc1ca6c",
   "metadata": {},
   "outputs": [],
   "source": [
    "# 위의 정수 시퀀스를 이용해 다시 데이터의 샘플 순서를 정의해 주면 잘 섞인 샘플이 됨\n",
    "encoder_input = encoder_input[indices]\n",
    "decoder_input = decoder_input[indices]\n",
    "decoder_target = decoder_target[indices]"
   ]
  },
  {
   "cell_type": "code",
   "execution_count": 23,
   "id": "d58c32dd",
   "metadata": {},
   "outputs": [
    {
     "name": "stdout",
     "output_type": "stream",
     "text": [
      "테스트 데이터의 수 : 19572\n"
     ]
    }
   ],
   "source": [
    "# 섞인 데이터를 8:2의 비율로 훈련 데이터와 테스트 데이터로 분리하기 위해 테스트 데이터의 크기 정의\n",
    "n_of_val = int(len(encoder_input)*0.2)\n",
    "print('테스트 데이터의 수 :', n_of_val)"
   ]
  },
  {
   "cell_type": "code",
   "execution_count": 24,
   "id": "f1942675",
   "metadata": {},
   "outputs": [
    {
     "name": "stdout",
     "output_type": "stream",
     "text": [
      "훈련 데이터의 개수 : 78291\n",
      "훈련 레이블의 개수 : 78291\n",
      "테스트 데이터의 개수 : 19572\n",
      "테스트 레이블의 개수 : 19572\n"
     ]
    }
   ],
   "source": [
    "# 정의한 테스트 데이터의 개수 이용해서 전체 데이터 양분\n",
    "encoder_input_train = encoder_input[:-n_of_val]\n",
    "decoder_input_train = decoder_input[:-n_of_val]\n",
    "decoder_target_train = decoder_target[:-n_of_val]\n",
    "\n",
    "encoder_input_test = encoder_input[-n_of_val:]\n",
    "decoder_input_test = decoder_input[-n_of_val:]\n",
    "decoder_target_test = decoder_target[-n_of_val:]\n",
    "\n",
    "print('훈련 데이터의 개수 :', len(encoder_input_train))\n",
    "print('훈련 레이블의 개수 :', len(decoder_input_train))\n",
    "print('테스트 데이터의 개수 :', len(encoder_input_test))\n",
    "print('테스트 레이블의 개수 :', len(decoder_input_test))"
   ]
  },
  {
   "cell_type": "markdown",
   "id": "aaf4dffb",
   "metadata": {},
   "source": [
    "### 3) 정수 인코딩"
   ]
  },
  {
   "cell_type": "markdown",
   "id": "65294fab",
   "metadata": {},
   "source": [
    "#### 단어 집합 만들기"
   ]
  },
  {
   "cell_type": "markdown",
   "id": "48342b7b",
   "metadata": {},
   "source": [
    "기계가 텍스트를 숫자로 처리할 수 있도록 훈련 데이터와 테스트 데이터의 단어들을 모두 정수로 바꿔줘야 한다. <br>각 단어에 고유한 정수를 맵핑하는 작업을 단어 집합을 만든다고 표현한다."
   ]
  },
  {
   "cell_type": "code",
   "execution_count": 25,
   "id": "26b85192",
   "metadata": {},
   "outputs": [],
   "source": [
    "# Keras의 토크나이저를 사용하면 입력된 훈련데이터로부터 단어 집합을 만들 수 있음\n",
    "src_tokenizer = Tokenizer() # 토크나이저 정의\n",
    "src_tokenizer.fit_on_texts(encoder_input_train) # 입력된 데이터로부터 단어 집합 생성"
   ]
  },
  {
   "cell_type": "markdown",
   "id": "c9aeb1a5",
   "metadata": {},
   "source": [
    "빈도 수가 낮은 단어를 훈련데이터에서 제외한다."
   ]
  },
  {
   "cell_type": "code",
   "execution_count": 26,
   "id": "28f8798a",
   "metadata": {},
   "outputs": [
    {
     "name": "stdout",
     "output_type": "stream",
     "text": [
      "단어 집합(vocabulary)의 크기 : 69223\n",
      "등장 빈도가 6번 이하인 희귀 단어의 수: 47135\n",
      "단어 집합에서 희귀 단어를 제외시킬 경우의 단어 집합의 크기 22088\n",
      "단어 집합에서 희귀 단어의 비율: 68.09153027173049\n",
      "전체 등장 빈도에서 희귀 단어 등장 빈도 비율: 3.48697542221892\n"
     ]
    }
   ],
   "source": [
    "threshold = 7\n",
    "total_cnt = len(src_tokenizer.word_index) # 단어의 수\n",
    "rare_cnt = 0 # 등장 빈도수가 threshold보다 작은 단어의 개수를 카운트\n",
    "total_freq = 0 # 훈련 데이터의 전체 단어 빈도수 총 합\n",
    "rare_freq = 0 # 등장 빈도수가 threshold보다 작은 단어의 등장 빈도수의 총 합\n",
    "\n",
    "# 단어와 빈도수의 쌍(pair)을 key와 value로 받는다.\n",
    "for key, value in src_tokenizer.word_counts.items():\n",
    "    total_freq = total_freq + value\n",
    "\n",
    "    # 단어의 등장 빈도수가 threshold보다 작으면\n",
    "    if(value < threshold):\n",
    "        rare_cnt = rare_cnt + 1\n",
    "        rare_freq = rare_freq + value\n",
    "\n",
    "print('단어 집합(vocabulary)의 크기 :', total_cnt)\n",
    "print('등장 빈도가 %s번 이하인 희귀 단어의 수: %s'%(threshold - 1, rare_cnt))\n",
    "print('단어 집합에서 희귀 단어를 제외시킬 경우의 단어 집합의 크기 %s'%(total_cnt - rare_cnt))\n",
    "print(\"단어 집합에서 희귀 단어의 비율:\", (rare_cnt / total_cnt)*100)\n",
    "print(\"전체 등장 빈도에서 희귀 단어 등장 빈도 비율:\", (rare_freq / total_freq)*100)"
   ]
  },
  {
   "cell_type": "code",
   "execution_count": 27,
   "id": "c5c48a4e",
   "metadata": {},
   "outputs": [],
   "source": [
    "src_vocab = 22000\n",
    "src_tokenizer = Tokenizer(num_words=src_vocab) # 단어 집합의 크기를 22,000으로 제한\n",
    "src_tokenizer.fit_on_texts(encoder_input_train) # 단어 집합 재생성"
   ]
  },
  {
   "cell_type": "code",
   "execution_count": 28,
   "id": "df539a7b",
   "metadata": {},
   "outputs": [
    {
     "name": "stdout",
     "output_type": "stream",
     "text": [
      "[[1880, 76, 14257, 2615, 61, 97, 18, 959, 144, 62, 897, 14720, 675, 21, 214, 17379, 4986, 959, 570, 675, 8508, 462, 2287, 127, 6604, 18326, 6769, 959, 667, 462, 3, 76, 14257, 2615, 1], [712, 11769, 13740, 96, 358, 572, 379, 2302, 768, 727, 296, 1797, 4050, 115, 39, 11769, 1112, 305, 712, 13740, 1218, 436, 13740, 173, 186, 436, 572, 1314, 11769, 7134, 1385, 13740, 96, 1288, 43, 2302, 768], [372, 392, 750, 5740, 8001, 5906, 790, 203, 1160, 8381, 629, 414, 2328, 117, 8381, 1577, 33, 396, 228, 415, 4257, 379, 5526, 558, 415, 3360, 1160, 287, 166, 365, 465]]\n"
     ]
    }
   ],
   "source": [
    "# 텍스트 시퀀스를 정수 시퀀스로 변환\n",
    "encoder_input_train = src_tokenizer.texts_to_sequences(encoder_input_train) \n",
    "encoder_input_test = src_tokenizer.texts_to_sequences(encoder_input_test)\n",
    "\n",
    "# 잘 진행되었는지 샘플 출력\n",
    "print(encoder_input_train[:3])"
   ]
  },
  {
   "cell_type": "markdown",
   "id": "f80b04c9",
   "metadata": {},
   "source": [
    "headlines에 대해서 동일한 작업 수행해준다."
   ]
  },
  {
   "cell_type": "code",
   "execution_count": 29,
   "id": "ca020412",
   "metadata": {},
   "outputs": [],
   "source": [
    "tar_tokenizer = Tokenizer()\n",
    "tar_tokenizer.fit_on_texts(decoder_input_train)"
   ]
  },
  {
   "cell_type": "code",
   "execution_count": 30,
   "id": "0da5c505",
   "metadata": {},
   "outputs": [
    {
     "name": "stdout",
     "output_type": "stream",
     "text": [
      "단어 집합(vocabulary)의 크기 : 29995\n",
      "등장 빈도가 5번 이하인 희귀 단어의 수: 19609\n",
      "단어 집합에서 희귀 단어를 제외시킬 경우의 단어 집합의 크기 10386\n",
      "단어 집합에서 희귀 단어의 비율: 65.37422903817303\n",
      "전체 등장 빈도에서 희귀 단어 등장 빈도 비율: 4.662663325999253\n"
     ]
    }
   ],
   "source": [
    "threshold = 6\n",
    "total_cnt = len(tar_tokenizer.word_index) # 단어의 수\n",
    "rare_cnt = 0 # 등장 빈도수가 threshold보다 작은 단어의 개수를 카운트\n",
    "total_freq = 0 # 훈련 데이터의 전체 단어 빈도수 총 합\n",
    "rare_freq = 0 # 등장 빈도수가 threshold보다 작은 단어의 등장 빈도수의 총 합\n",
    "\n",
    "# 단어와 빈도수의 쌍(pair)을 key와 value로 받는다.\n",
    "for key, value in tar_tokenizer.word_counts.items():\n",
    "    total_freq = total_freq + value\n",
    "\n",
    "    # 단어의 등장 빈도수가 threshold보다 작으면\n",
    "    if(value < threshold):\n",
    "        rare_cnt = rare_cnt + 1\n",
    "        rare_freq = rare_freq + value\n",
    "\n",
    "print('단어 집합(vocabulary)의 크기 :', total_cnt)\n",
    "print('등장 빈도가 %s번 이하인 희귀 단어의 수: %s'%(threshold - 1, rare_cnt))\n",
    "print('단어 집합에서 희귀 단어를 제외시킬 경우의 단어 집합의 크기 %s'%(total_cnt - rare_cnt))\n",
    "print(\"단어 집합에서 희귀 단어의 비율:\", (rare_cnt / total_cnt)*100)\n",
    "print(\"전체 등장 빈도에서 희귀 단어 등장 빈도 비율:\", (rare_freq / total_freq)*100)"
   ]
  },
  {
   "cell_type": "code",
   "execution_count": 31,
   "id": "4e399c64",
   "metadata": {},
   "outputs": [
    {
     "name": "stdout",
     "output_type": "stream",
     "text": [
      "input\n",
      "input  [[1, 1616, 34, 422, 53, 1281, 5, 510], [1, 6793, 396, 112, 5637, 25, 3, 7, 2393, 1384], [1, 891, 743, 1586, 5, 8786, 17, 238], [1, 38, 1138, 302, 11, 114, 2842, 17, 197, 4, 25], [1, 8, 3, 119, 80, 487, 3235, 3, 18, 683, 392, 40]]\n",
      "target\n",
      "decoder  [[1616, 34, 422, 53, 1281, 5, 510, 2], [6793, 396, 112, 5637, 25, 3, 7, 2393, 1384, 2], [891, 743, 1586, 5, 8786, 17, 238, 2], [38, 1138, 302, 11, 114, 2842, 17, 197, 4, 25, 2], [8, 3, 119, 80, 487, 3235, 3, 18, 683, 392, 40, 2]]\n"
     ]
    }
   ],
   "source": [
    "tar_vocab = 10000\n",
    "tar_tokenizer = Tokenizer(num_words=tar_vocab) \n",
    "tar_tokenizer.fit_on_texts(decoder_input_train)\n",
    "tar_tokenizer.fit_on_texts(decoder_target_train)\n",
    "\n",
    "# 텍스트 시퀀스를 정수 시퀀스로 변환\n",
    "decoder_input_train = tar_tokenizer.texts_to_sequences(decoder_input_train) \n",
    "decoder_target_train = tar_tokenizer.texts_to_sequences(decoder_target_train)\n",
    "decoder_input_test = tar_tokenizer.texts_to_sequences(decoder_input_test)\n",
    "decoder_target_test = tar_tokenizer.texts_to_sequences(decoder_target_test)\n",
    "\n",
    "# 잘 변환되었는지 확인\n",
    "print('input')\n",
    "print('input ',decoder_input_train[:5])\n",
    "print('target')\n",
    "print('decoder ',decoder_target_train[:5])"
   ]
  },
  {
   "cell_type": "markdown",
   "id": "a7d6876f",
   "metadata": {},
   "source": [
    "요약문의 길이가 1인 경우(토큰만 남아있는 경우) 삭제해준다."
   ]
  },
  {
   "cell_type": "code",
   "execution_count": 32,
   "id": "1ec974bc",
   "metadata": {},
   "outputs": [
    {
     "name": "stdout",
     "output_type": "stream",
     "text": [
      "삭제할 훈련 데이터의 개수 : 0\n",
      "삭제할 테스트 데이터의 개수 : 1\n",
      "훈련 데이터의 개수 : 78291\n",
      "훈련 레이블의 개수 : 78291\n",
      "테스트 데이터의 개수 : 19571\n",
      "테스트 레이블의 개수 : 19571\n"
     ]
    }
   ],
   "source": [
    "drop_train = [index for index, sentence in enumerate(decoder_input_train) if len(sentence) == 1]\n",
    "drop_test = [index for index, sentence in enumerate(decoder_input_test) if len(sentence) == 1]\n",
    "\n",
    "print('삭제할 훈련 데이터의 개수 :', len(drop_train))\n",
    "print('삭제할 테스트 데이터의 개수 :', len(drop_test))\n",
    "\n",
    "encoder_input_train = [sentence for index, sentence in enumerate(encoder_input_train) if index not in drop_train]\n",
    "decoder_input_train = [sentence for index, sentence in enumerate(decoder_input_train) if index not in drop_train]\n",
    "decoder_target_train = [sentence for index, sentence in enumerate(decoder_target_train) if index not in drop_train]\n",
    "\n",
    "encoder_input_test = [sentence for index, sentence in enumerate(encoder_input_test) if index not in drop_test]\n",
    "decoder_input_test = [sentence for index, sentence in enumerate(decoder_input_test) if index not in drop_test]\n",
    "decoder_target_test = [sentence for index, sentence in enumerate(decoder_target_test) if index not in drop_test]\n",
    "\n",
    "print('훈련 데이터의 개수 :', len(encoder_input_train))\n",
    "print('훈련 레이블의 개수 :', len(decoder_input_train))\n",
    "print('테스트 데이터의 개수 :', len(encoder_input_test))\n",
    "print('테스트 레이블의 개수 :', len(decoder_input_test))"
   ]
  },
  {
   "cell_type": "markdown",
   "id": "3c841a72",
   "metadata": {},
   "source": [
    "#### 패딩해주기"
   ]
  },
  {
   "cell_type": "code",
   "execution_count": 33,
   "id": "377a19cf",
   "metadata": {},
   "outputs": [],
   "source": [
    "encoder_input_train = pad_sequences(encoder_input_train, maxlen=text_max_len, padding='post')\n",
    "encoder_input_test = pad_sequences(encoder_input_test, maxlen=text_max_len, padding='post')\n",
    "decoder_input_train = pad_sequences(decoder_input_train, maxlen=headlines_max_len, padding='post')\n",
    "decoder_target_train = pad_sequences(decoder_target_train, maxlen=headlines_max_len, padding='post')\n",
    "decoder_input_test = pad_sequences(decoder_input_test, maxlen=headlines_max_len, padding='post')\n",
    "decoder_target_test = pad_sequences(decoder_target_test, maxlen=headlines_max_len, padding='post')"
   ]
  },
  {
   "cell_type": "markdown",
   "id": "eeeb0f41",
   "metadata": {},
   "source": [
    "---"
   ]
  },
  {
   "cell_type": "markdown",
   "id": "4919928e",
   "metadata": {},
   "source": [
    "## Step 2. 어텐션 메커니즘 사용하기"
   ]
  },
  {
   "cell_type": "markdown",
   "id": "834b5847",
   "metadata": {},
   "source": [
    "### 1) 어텐션 메커니즘 seq2seq 모델 설계하기"
   ]
  },
  {
   "cell_type": "code",
   "execution_count": 34,
   "id": "df7b4314",
   "metadata": {},
   "outputs": [
    {
     "name": "stdout",
     "output_type": "stream",
     "text": [
      "WARNING:tensorflow:Layer lstm will not use cuDNN kernels since it doesn't meet the criteria. It will use a generic GPU kernel as fallback when running on GPU.\n",
      "WARNING:tensorflow:Layer lstm_1 will not use cuDNN kernels since it doesn't meet the criteria. It will use a generic GPU kernel as fallback when running on GPU.\n",
      "WARNING:tensorflow:Layer lstm_2 will not use cuDNN kernels since it doesn't meet the criteria. It will use a generic GPU kernel as fallback when running on GPU.\n"
     ]
    }
   ],
   "source": [
    "from tensorflow.keras.layers import Input, LSTM, Embedding, Dense, Concatenate, TimeDistributed\n",
    "from tensorflow.keras.models import Model\n",
    "from tensorflow.keras.callbacks import EarlyStopping, ModelCheckpoint\n",
    "\n",
    "\n",
    "# 인코더 설계 시작\n",
    "embedding_dim = 128\n",
    "hidden_size = 256\n",
    "\n",
    "# 인코더\n",
    "encoder_inputs = Input(shape=(text_max_len,))\n",
    "\n",
    "# 인코더의 임베딩 층\n",
    "enc_emb = Embedding(src_vocab, embedding_dim)(encoder_inputs)\n",
    "\n",
    "# 인코더의 LSTM 1\n",
    "encoder_lstm1 = LSTM(hidden_size, return_sequences=True, return_state=True ,dropout = 0.4, recurrent_dropout = 0.4)\n",
    "encoder_output1, state_h1, state_c1 = encoder_lstm1(enc_emb)\n",
    "\n",
    "# 인코더의 LSTM 2\n",
    "encoder_lstm2 = LSTM(hidden_size, return_sequences=True, return_state=True, dropout=0.4, recurrent_dropout=0.4)\n",
    "encoder_output2, state_h2, state_c2 = encoder_lstm2(encoder_output1)\n",
    "\n",
    "# 인코더의 LSTM 3\n",
    "encoder_lstm3 = LSTM(hidden_size, return_state=True, return_sequences=True, dropout=0.4, recurrent_dropout=0.4)\n",
    "encoder_outputs, state_h, state_c= encoder_lstm3(encoder_output2)"
   ]
  },
  {
   "cell_type": "code",
   "execution_count": 35,
   "id": "50d0eb19",
   "metadata": {},
   "outputs": [
    {
     "name": "stdout",
     "output_type": "stream",
     "text": [
      "WARNING:tensorflow:Layer lstm_3 will not use cuDNN kernels since it doesn't meet the criteria. It will use a generic GPU kernel as fallback when running on GPU.\n"
     ]
    }
   ],
   "source": [
    "# 디코더 설계\n",
    "decoder_inputs = Input(shape=(None,))\n",
    "\n",
    "# 디코더의 임베딩 층\n",
    "dec_emb_layer = Embedding(tar_vocab, embedding_dim)\n",
    "dec_emb = dec_emb_layer(decoder_inputs)\n",
    "\n",
    "# 디코더의 LSTM\n",
    "decoder_lstm = LSTM(hidden_size, return_sequences=True, return_state=True, dropout=0.4, recurrent_dropout=0.2)\n",
    "decoder_outputs, _, _ = decoder_lstm(dec_emb, initial_state=[state_h, state_c])"
   ]
  },
  {
   "cell_type": "code",
   "execution_count": 38,
   "id": "84a11cab",
   "metadata": {},
   "outputs": [
    {
     "name": "stdout",
     "output_type": "stream",
     "text": [
      "Model: \"model_1\"\n",
      "__________________________________________________________________________________________________\n",
      "Layer (type)                    Output Shape         Param #     Connected to                     \n",
      "==================================================================================================\n",
      "input_1 (InputLayer)            [(None, 45)]         0                                            \n",
      "__________________________________________________________________________________________________\n",
      "embedding (Embedding)           (None, 45, 128)      2816000     input_1[0][0]                    \n",
      "__________________________________________________________________________________________________\n",
      "lstm (LSTM)                     [(None, 45, 256), (N 394240      embedding[0][0]                  \n",
      "__________________________________________________________________________________________________\n",
      "input_2 (InputLayer)            [(None, None)]       0                                            \n",
      "__________________________________________________________________________________________________\n",
      "lstm_1 (LSTM)                   [(None, 45, 256), (N 525312      lstm[0][0]                       \n",
      "__________________________________________________________________________________________________\n",
      "embedding_1 (Embedding)         (None, None, 128)    1280000     input_2[0][0]                    \n",
      "__________________________________________________________________________________________________\n",
      "lstm_2 (LSTM)                   [(None, 45, 256), (N 525312      lstm_1[0][0]                     \n",
      "__________________________________________________________________________________________________\n",
      "lstm_3 (LSTM)                   [(None, None, 256),  394240      embedding_1[0][0]                \n",
      "                                                                 lstm_2[0][1]                     \n",
      "                                                                 lstm_2[0][2]                     \n",
      "__________________________________________________________________________________________________\n",
      "attention_layer (AdditiveAttent (None, None, 256)    256         lstm_3[0][0]                     \n",
      "                                                                 lstm_2[0][0]                     \n",
      "__________________________________________________________________________________________________\n",
      "concat_layer (Concatenate)      (None, None, 512)    0           lstm_3[0][0]                     \n",
      "                                                                 attention_layer[0][0]            \n",
      "__________________________________________________________________________________________________\n",
      "dense_1 (Dense)                 (None, None, 10000)  5130000     concat_layer[0][0]               \n",
      "==================================================================================================\n",
      "Total params: 11,065,360\n",
      "Trainable params: 11,065,360\n",
      "Non-trainable params: 0\n",
      "__________________________________________________________________________________________________\n"
     ]
    }
   ],
   "source": [
    "from tensorflow.keras.layers import AdditiveAttention\n",
    "\n",
    "# 어텐션 층(어텐션 함수)\n",
    "attn_layer = AdditiveAttention(name='attention_layer')\n",
    "\n",
    "# 인코더와 디코더의 모든 time step의 hidden state를 어텐션 층에 전달하고 결과를 리턴\n",
    "attn_out = attn_layer([decoder_outputs, encoder_outputs])\n",
    "\n",
    "\n",
    "# 어텐션의 결과와 디코더의 hidden state들을 연결\n",
    "decoder_concat_input = Concatenate(axis=-1, name='concat_layer')([decoder_outputs, attn_out])\n",
    "\n",
    "# 디코더의 출력층\n",
    "decoder_softmax_layer = Dense(tar_vocab, activation='softmax')\n",
    "decoder_softmax_outputs = decoder_softmax_layer(decoder_concat_input)\n",
    "\n",
    "# 모델 정의\n",
    "model = Model([encoder_inputs, decoder_inputs], decoder_softmax_outputs)\n",
    "model.summary()"
   ]
  },
  {
   "cell_type": "markdown",
   "id": "10799caf",
   "metadata": {},
   "source": [
    "### 2) 모델 훈련하기"
   ]
  },
  {
   "cell_type": "code",
   "execution_count": 39,
   "id": "58847b45",
   "metadata": {},
   "outputs": [
    {
     "name": "stdout",
     "output_type": "stream",
     "text": [
      "Epoch 1/50\n",
      "306/306 [==============================] - 202s 632ms/step - loss: 5.2351 - val_loss: 4.7980\n",
      "Epoch 2/50\n",
      "306/306 [==============================] - 193s 631ms/step - loss: 4.6546 - val_loss: 4.4377\n",
      "Epoch 3/50\n",
      "306/306 [==============================] - 193s 630ms/step - loss: 4.3514 - val_loss: 4.2146\n",
      "Epoch 4/50\n",
      "306/306 [==============================] - 193s 631ms/step - loss: 4.1185 - val_loss: 4.0491\n",
      "Epoch 5/50\n",
      "306/306 [==============================] - 193s 632ms/step - loss: 3.9290 - val_loss: 3.9067\n",
      "Epoch 6/50\n",
      "306/306 [==============================] - 193s 631ms/step - loss: 3.7729 - val_loss: 3.8082\n",
      "Epoch 7/50\n",
      "306/306 [==============================] - 194s 634ms/step - loss: 3.6395 - val_loss: 3.7244\n",
      "Epoch 8/50\n",
      "306/306 [==============================] - 193s 631ms/step - loss: 3.5238 - val_loss: 3.6532\n",
      "Epoch 9/50\n",
      "306/306 [==============================] - 193s 632ms/step - loss: 3.4226 - val_loss: 3.5953\n",
      "Epoch 10/50\n",
      "306/306 [==============================] - 194s 633ms/step - loss: 3.3303 - val_loss: 3.5473\n",
      "Epoch 11/50\n",
      "306/306 [==============================] - 193s 630ms/step - loss: 3.2503 - val_loss: 3.5110\n",
      "Epoch 12/50\n",
      "306/306 [==============================] - 192s 627ms/step - loss: 3.1801 - val_loss: 3.4839\n",
      "Epoch 13/50\n",
      "306/306 [==============================] - 188s 616ms/step - loss: 3.1157 - val_loss: 3.4555\n",
      "Epoch 14/50\n",
      "306/306 [==============================] - 190s 619ms/step - loss: 3.0550 - val_loss: 3.4307\n",
      "Epoch 15/50\n",
      "306/306 [==============================] - 190s 620ms/step - loss: 2.9990 - val_loss: 3.4089\n",
      "Epoch 16/50\n",
      "306/306 [==============================] - 189s 619ms/step - loss: 2.9482 - val_loss: 3.3966\n",
      "Epoch 17/50\n",
      "306/306 [==============================] - 189s 619ms/step - loss: 2.8978 - val_loss: 3.3820\n",
      "Epoch 18/50\n",
      "306/306 [==============================] - 189s 619ms/step - loss: 2.8562 - val_loss: 3.3706\n",
      "Epoch 19/50\n",
      "306/306 [==============================] - 190s 620ms/step - loss: 2.8134 - val_loss: 3.3616\n",
      "Epoch 20/50\n",
      "306/306 [==============================] - 190s 621ms/step - loss: 2.7752 - val_loss: 3.3507\n",
      "Epoch 21/50\n",
      "306/306 [==============================] - 190s 620ms/step - loss: 2.7376 - val_loss: 3.3484\n",
      "Epoch 22/50\n",
      "306/306 [==============================] - 189s 618ms/step - loss: 2.7024 - val_loss: 3.3402\n",
      "Epoch 23/50\n",
      "306/306 [==============================] - 189s 619ms/step - loss: 2.6690 - val_loss: 3.3331\n",
      "Epoch 24/50\n",
      "306/306 [==============================] - 189s 618ms/step - loss: 2.6393 - val_loss: 3.3307\n",
      "Epoch 25/50\n",
      "306/306 [==============================] - 191s 625ms/step - loss: 2.6098 - val_loss: 3.3262\n",
      "Epoch 26/50\n",
      "306/306 [==============================] - 190s 619ms/step - loss: 2.5814 - val_loss: 3.3265\n",
      "Epoch 27/50\n",
      "306/306 [==============================] - 189s 618ms/step - loss: 2.5510 - val_loss: 3.3234\n",
      "Epoch 28/50\n",
      "306/306 [==============================] - 191s 624ms/step - loss: 2.5240 - val_loss: 3.3199\n",
      "Epoch 29/50\n",
      "306/306 [==============================] - 192s 626ms/step - loss: 2.4975 - val_loss: 3.3163\n",
      "Epoch 30/50\n",
      "306/306 [==============================] - 193s 629ms/step - loss: 2.4719 - val_loss: 3.3175\n",
      "Epoch 31/50\n",
      "306/306 [==============================] - 192s 628ms/step - loss: 2.4502 - val_loss: 3.3114\n",
      "Epoch 32/50\n",
      "306/306 [==============================] - 193s 629ms/step - loss: 2.4277 - val_loss: 3.3188\n",
      "Epoch 33/50\n",
      "306/306 [==============================] - 191s 626ms/step - loss: 2.4063 - val_loss: 3.3181\n",
      "Epoch 00033: early stopping\n"
     ]
    }
   ],
   "source": [
    "model.compile(optimizer='rmsprop', loss='sparse_categorical_crossentropy')\n",
    "es = EarlyStopping(monitor='val_loss', patience=2, verbose=1) # 조기종료 : 특정 조건이 충족되면 훈련을 멈춤\n",
    "history = model.fit(x=[encoder_input_train, decoder_input_train], y=decoder_target_train, \\\n",
    "          validation_data=([encoder_input_test, decoder_input_test], decoder_target_test), \\\n",
    "          batch_size=256, callbacks=[es], epochs=50)"
   ]
  },
  {
   "cell_type": "markdown",
   "id": "ac022689",
   "metadata": {},
   "source": [
    "훈련 데이터의 손실과 검증 데이터의 손실이 줄어드는 과정을 시각화해본다."
   ]
  },
  {
   "cell_type": "code",
   "execution_count": 40,
   "id": "f7802c4d",
   "metadata": {},
   "outputs": [
    {
     "data": {
      "image/png": "[encoded data removed]",
      "text/plain": [
       "<Figure size 432x288 with 1 Axes>"
      ]
     },
     "metadata": {
      "needs_background": "light"
     },
     "output_type": "display_data"
    }
   ],
   "source": [
    "plt.plot(history.history['loss'], label='train')\n",
    "plt.plot(history.history['val_loss'], label='test')\n",
    "plt.legend()\n",
    "plt.show()"
   ]
  },
  {
   "cell_type": "markdown",
   "id": "f925d2f7",
   "metadata": {},
   "source": [
    "### 3) 인퍼런스 모델 구현하기\n",
    "테스트 단계에서는 정수 인덱스 행렬로 존재하던 텍스트 데이터를 실제 데이터로 복원해야 하므로, 필요한 3개의 사전을 아래와 같이 미리 준비한다."
   ]
  },
  {
   "cell_type": "code",
   "execution_count": 41,
   "id": "a0d04f19",
   "metadata": {},
   "outputs": [],
   "source": [
    "src_index_to_word = src_tokenizer.index_word # 원문 단어 집합에서 정수 -> 단어를 얻음\n",
    "tar_word_to_index = tar_tokenizer.word_index # 요약 단어 집합에서 단어 -> 정수를 얻음\n",
    "tar_index_to_word = tar_tokenizer.index_word # 요약 단어 집합에서 정수 -> 단어를 얻음"
   ]
  },
  {
   "cell_type": "markdown",
   "id": "003d6831",
   "metadata": {},
   "source": [
    "훈련 단계에서는 디코더의 입력부에 정답이 되는 문장 전체를 한꺼번에 넣고 디코더의 출력과 한 번에 비교할 수 있으므로 인코더와 디코더를 엮은 통짜 모델 하나만 준비했다.\n",
    "\n",
    "그러나 정답 문장이 없는 인퍼런스 단계에서는 만들어야 할 문장의 길이만큼 디코더가 반복 구조로 동작해야 하기 때문에 부득이하게 인퍼런스를 위한 인코더와 디코더가 분리된 모델 설계를 별도로 해주어야 한다. "
   ]
  },
  {
   "cell_type": "code",
   "execution_count": 42,
   "id": "a629dd53",
   "metadata": {},
   "outputs": [],
   "source": [
    "# 인코더 설계\n",
    "encoder_model = Model(inputs=encoder_inputs, outputs=[encoder_outputs, state_h, state_c])\n",
    "\n",
    "# 이전 시점의 상태들을 저장하는 텐서\n",
    "decoder_state_input_h = Input(shape=(hidden_size,))\n",
    "decoder_state_input_c = Input(shape=(hidden_size,))\n",
    "\n",
    "dec_emb2 = dec_emb_layer(decoder_inputs)\n",
    "\n",
    "# 문장의 다음 단어를 예측하기 위해서 초기 상태(initial_state)를 이전 시점의 상태로 사용. 이는 뒤의 함수 decode_sequence()에 구현\n",
    "# 훈련 과정에서와 달리 LSTM의 리턴하는 은닉 상태와 셀 상태인 state_h와 state_c를 버리지 않음.\n",
    "decoder_outputs2, state_h2, state_c2 = decoder_lstm(dec_emb2, initial_state=[decoder_state_input_h, decoder_state_input_c])"
   ]
  },
  {
   "cell_type": "code",
   "execution_count": 43,
   "id": "747e827c",
   "metadata": {},
   "outputs": [],
   "source": [
    "# 어텐션 함수\n",
    "decoder_hidden_state_input = Input(shape=(text_max_len, hidden_size))\n",
    "attn_out_inf = attn_layer([decoder_outputs2, decoder_hidden_state_input])\n",
    "decoder_inf_concat = Concatenate(axis=-1, name='concat')([decoder_outputs2, attn_out_inf])\n",
    "\n",
    "# 디코더의 출력층\n",
    "decoder_outputs2 = decoder_softmax_layer(decoder_inf_concat) \n",
    "\n",
    "# 최종 디코더 모델\n",
    "decoder_model = Model(\n",
    "    [decoder_inputs] + [decoder_hidden_state_input,decoder_state_input_h, decoder_state_input_c],\n",
    "    [decoder_outputs2] + [state_h2, state_c2])"
   ]
  },
  {
   "cell_type": "markdown",
   "id": "6fba243d",
   "metadata": {},
   "source": [
    "인퍼런스 단계에서 단어 시퀀스를 완성하는 함수를 만들어준다."
   ]
  },
  {
   "cell_type": "code",
   "execution_count": 47,
   "id": "e0600ba5",
   "metadata": {},
   "outputs": [],
   "source": [
    "def decode_sequence(input_seq):\n",
    "    # 입력으로부터 인코더의 상태를 얻음\n",
    "    e_out, e_h, e_c = encoder_model.predict(input_seq)\n",
    "\n",
    "     # <SOS>에 해당하는 토큰 생성\n",
    "    target_seq = np.zeros((1,1))\n",
    "    target_seq[0, 0] = tar_word_to_index['sostoken']\n",
    "\n",
    "    stop_condition = False\n",
    "    decoded_sentence = ''\n",
    "    while not stop_condition: # stop_condition이 True가 될 때까지 루프 반복\n",
    "\n",
    "        output_tokens, h, c = decoder_model.predict([target_seq] + [e_out, e_h, e_c])\n",
    "        sampled_token_index = np.argmax(output_tokens[0, -1, :])\n",
    "        sampled_token = tar_index_to_word[sampled_token_index]\n",
    "\n",
    "        if (sampled_token!='eostoken'):\n",
    "            decoded_sentence += ' '+sampled_token\n",
    "\n",
    "        #  <eos>에 도달하거나 최대 길이를 넘으면 중단.\n",
    "        if (sampled_token == 'eostoken'  or len(decoded_sentence.split()) >= (headlines_max_len-1)):\n",
    "            stop_condition = True\n",
    "\n",
    "        # 길이가 1인 타겟 시퀀스를 업데이트\n",
    "        target_seq = np.zeros((1,1))\n",
    "        target_seq[0, 0] = sampled_token_index\n",
    "\n",
    "        # 상태를 업데이트 합니다.\n",
    "        e_h, e_c = h, c\n",
    "\n",
    "    return decoded_sentence"
   ]
  },
  {
   "cell_type": "markdown",
   "id": "7c927895",
   "metadata": {},
   "source": [
    "---"
   ]
  },
  {
   "cell_type": "markdown",
   "id": "806c31a8",
   "metadata": {},
   "source": [
    "## Step 3. 실제 결과와 요약문 비교하기"
   ]
  },
  {
   "cell_type": "code",
   "execution_count": 48,
   "id": "4aac9356",
   "metadata": {},
   "outputs": [],
   "source": [
    "# 원문의 정수 시퀀스를 텍스트 시퀀스로 변환\n",
    "def seq2text(input_seq):\n",
    "    temp=''\n",
    "    for i in input_seq:\n",
    "        if (i!=0):\n",
    "            temp = temp + src_index_to_word[i]+' '\n",
    "    return temp\n",
    "\n",
    "# 요약문의 정수 시퀀스를 텍스트 시퀀스로 변환\n",
    "def seq2summary(input_seq):\n",
    "    temp=''\n",
    "    for i in input_seq:\n",
    "        if ((i!=0 and i!=tar_word_to_index['sostoken']) and i!=tar_word_to_index['eostoken']):\n",
    "            temp = temp + tar_index_to_word[i] + ' '\n",
    "    return temp"
   ]
  },
  {
   "cell_type": "code",
   "execution_count": 60,
   "id": "a1847dba",
   "metadata": {
    "scrolled": false
   },
   "outputs": [
    {
     "name": "stdout",
     "output_type": "stream",
     "text": [
      "10\n",
      "원문 : gujarat high court asked centre consider giving job sister indian man lodged pakistani jail since suspicions spy hc directed union ministry home affairs consider giving job within one month compassionate grounds exceptional case \n",
      "실제 제목 : consider giving job to kin of man jailed in pak hc to govt \n",
      "예측 제목 :  hc asks pak govt to bring back man who helped pak govt\n",
      "\n",
      "\n",
      "11\n",
      "원문 : late tv actress pratyusha banerjee last short film hum naa released first death anniversary saturday friend kamya punjabi film story reportedly bears similarities pratyusha life character named rahul said veiled reference boyfriend shot one half months pratyusha committed suicide \n",
      "실제 제목 : late actress pratyusha banerjee last short film released \n",
      "예측 제목 :  pratyusha to star in pratyusha on death anniversary\n",
      "\n",
      "\n",
      "12\n",
      "원문 : facebook rolling new feature called latest conversations search results show recent public posts people trending topics feature also includes live update counter showing many people talking topic one time feature appear searches trending \n",
      "실제 제목 : facebook to begin showing public posts about trending \n",
      "예측 제목 :  facebook tests feature to temporarily mute in\n",
      "\n",
      "\n",
      "13\n",
      "원문 : egyptian court monday sentenced people death attack police station claimed lives policemen attack came aftermath military ouster mohamed country first democratically elected president court decision sent grand mufti opinion \n",
      "실제 제목 : egypt sentences to death for police killings \n",
      "예측 제목 :  death toll in egypt attack attack\n",
      "\n",
      "\n",
      "14\n",
      "원문 : british airways flight operations pakistan international airlines affected monday due fault system several flights delayed booking stopped cause glitch remained unknown official said technical engineering staff working sort problem \n",
      "실제 제목 : after british airways pakistan airlines it system hits snag \n",
      "예측 제목 :  flyers on flight causes flight to stop passengers\n",
      "\n",
      "\n",
      "15\n",
      "원문 : filmmaker anurag basu talking biopic plans make late singer actor kishore kumar said far ranbir confirmed basu added ranbir says available film singer family wants make film things worked accordingly \n",
      "실제 제목 : ranbir are confirmed anurag basu on kishore kumar film \n",
      "예측 제목 :  am happy to do biopic on ranbir biopic johar\n",
      "\n",
      "\n",
      "16\n",
      "원문 : bcci reportedly refused give discount rates match footage makers sachin tendulkar upcoming biopic sachin billion dreams production house said negotiating bcci footage already procured boards however sachin farewell speech provided free makers \n",
      "실제 제목 : bcci refuses to give discount on footage for sachin biopic \n",
      "예측 제목 :  bcci to pay sachin tendulkar for upcoming movie\n",
      "\n",
      "\n",
      "17\n",
      "원문 : ajinkya rahane rishabh pant included india squad one day series england lions ahead world cup rahane lead side first three matches pant feature fourth fifth matches rahane featured odis since india tour south africa february \n",
      "실제 제목 : rahane pant in india squad for series against england lions \n",
      "예측 제목 :  rahane to lead india to play in st odi vs india\n",
      "\n",
      "\n",
      "18\n",
      "원문 : indian weightlifter chanu second consecutive commonwealth games gold medal lifting total kg women kg category gold coast games friday year old gold women kg category glasgow commonwealth games india one silver two gold medals till \n",
      "실제 제목 : indian lifter chanu wins nd straight cwg gold medal \n",
      "예측 제목 :  wins india th gold medal at cwg\n",
      "\n",
      "\n",
      "19\n",
      "원문 : least people killed others injured saturday bus fell bridge bihar district police officials said bus driver lost control vehicle following fell feet ditch government announced ex gratia lakh families deceased \n",
      "실제 제목 : killed injured in bihar bus accident \n",
      "예측 제목 :  killed injured in bus accident in bihar\n",
      "\n",
      "\n"
     ]
    }
   ],
   "source": [
    "for i in range(10,20):\n",
    "    print(i)\n",
    "    print(\"원문 :\", seq2text(encoder_input_test[i]))\n",
    "    print(\"실제 제목 :\", seq2summary(decoder_input_test[i]))\n",
    "    print(\"예측 제목 :\", decode_sequence(encoder_input_test[i].reshape(1, text_max_len)))\n",
    "    print(\"\\n\")"
   ]
  },
  {
   "cell_type": "markdown",
   "id": "f213ee10",
   "metadata": {},
   "source": [
    "---"
   ]
  },
  {
   "cell_type": "markdown",
   "id": "c016b7c1",
   "metadata": {},
   "source": [
    "## < 추출적 요약 >"
   ]
  },
  {
   "cell_type": "markdown",
   "id": "11f8b0e4",
   "metadata": {},
   "source": [
    "추상적 요약은 추출적 요약과는 달리 문장의 표현력을 다양하게 가져갈 수 있지만, 추출적 요약에 비해서 난이도가 높다. 반대로 말하면 추출적 요약은 추상적 요약에 비해 난이도가 낮고 기존 문장에서 문장을 꺼내오는 것이므로 잘못된 요약이 나올 가능성이 낮다."
   ]
  },
  {
   "cell_type": "markdown",
   "id": "48a2105e",
   "metadata": {},
   "source": [
    "### 1) 데이터 다시 불러오기"
   ]
  },
  {
   "cell_type": "code",
   "execution_count": 50,
   "id": "edfea39f",
   "metadata": {},
   "outputs": [],
   "source": [
    "from summa.summarizer import summarize\n",
    "\n",
    "urllib.request.urlretrieve(\"https://raw.githubusercontent.com/sunnysai12345/News_Summary/master/news_summary_more.csv\", filename=\"news_summary_more.csv\")\n",
    "extdata = pd.read_csv('news_summary_more.csv', encoding='iso-8859-1')"
   ]
  },
  {
   "cell_type": "markdown",
   "id": "8636862d",
   "metadata": {},
   "source": [
    "### 2) Summa의 summarize() 사용하기"
   ]
  },
  {
   "cell_type": "markdown",
   "id": "89442129",
   "metadata": {},
   "source": [
    "Summa의 summarize()의 인자로 사용되는 값들\n",
    ">text (str) : 요약할 테스트.<br>\n",
    "ratio (float, optional) – 요약문에서 원본에서 선택되는 문장 비율. 0~1 사이값<br>\n",
    "words (int or None, optional) – 출력에 포함할 단어 수.\n",
    "<br>만약, ratio와 함께 두 파라미터가 모두 제공되는 경우 ratio는 무시한다.\n",
    "<br>split (bool, optional) – True면 문장 list / False는 조인(join)된 문자열을 반환\n",
    "\n",
    "Summa의 summarize는 문장 토큰화를 별도로 하지 않더라도 내부적으로 문장 토큰화를 수행한다. 그렇기 때문에 문장 구분이 되어있지 않은 원문을 바로 입력으로 넣을 수 있다."
   ]
  },
  {
   "cell_type": "code",
   "execution_count": 70,
   "id": "07c847f0",
   "metadata": {
    "scrolled": false
   },
   "outputs": [
    {
     "name": "stdout",
     "output_type": "stream",
     "text": [
      "10\n",
      "원문 : Two minor cousins in Uttar Pradesh's Gorakhpur were allegedly repeatedly burnt with tongs and forced to eat human excreta by their family for being friends with two boys from the same school. The cousins revealed their ordeal to the police and Child Welfare Committee after being brought back to Gorakhpur from Nepal, where they had fled to escape the torture.\n",
      "실제 제목 : UP cousins fed human excreta for friendship with boys\n",
      "추출 제목 : Two minor cousins in Uttar Pradesh's Gorakhpur were allegedly repeatedly burnt with tongs and forced to eat human excreta by their family for being friends with two boys from the same school.\n",
      "\n",
      "\n",
      "11\n",
      "원문 : Isha Ghosh, an 81-year-old member of Bharat Scouts and Guides (BSG), has been imparting physical and mental training to schoolchildren in Jharkhand for several decades. Chaibasa-based Ghosh reportedly walks seven kilometres daily and spends eight hours conducting physical training, apart from climbing and yoga sessions. She says, \"One should do something for society till one's last breath.\"\n",
      "실제 제목 : 81-yr-old woman conducts physical training in J'khand schools\n",
      "추출 제목 : Isha Ghosh, an 81-year-old member of Bharat Scouts and Guides (BSG), has been imparting physical and mental training to schoolchildren in Jharkhand for several decades.\n",
      "\n",
      "\n",
      "12\n",
      "원문 : Urging saints and seers at the Kumbh Mela to quit smoking, Yoga guru Ramdev said, \"We follow Ram and Krishna who never smoked in their life then why should we?\" Making them take a pledge to quit tobacco, he collected chillum (clay pipe) from several sadhus. He said he will deposit the chillums for display at a museum he'll build.\n",
      "실제 제목 : Ram, Krishna didn't smoke, why should we: Ramdev to sadhus at Kumbh\n",
      "추출 제목 : Urging saints and seers at the Kumbh Mela to quit smoking, Yoga guru Ramdev said, \"We follow Ram and Krishna who never smoked in their life then why should we?\" Making them take a pledge to quit tobacco, he collected chillum (clay pipe) from several sadhus.\n",
      "\n",
      "\n",
      "13\n",
      "원문 : Former stripper and regional sales director of a pharmaceutical company, Sunrise Lee, gave a doctor a lap dance in a nightclub to persuade him to prescribe an addictive fentanyl spray in 2012, the company's sales representative told a US court. She said she saw Lee \"sitting on [doctor's] lap, kind of bouncing around.\" Lee has been accused of bribing doctors.\n",
      "실제 제목 : Pharma exec gave doctor a lap dance to sell medicine in US: Witness\n",
      "추출 제목 : Former stripper and regional sales director of a pharmaceutical company, Sunrise Lee, gave a doctor a lap dance in a nightclub to persuade him to prescribe an addictive fentanyl spray in 2012, the company's sales representative told a US court.\n",
      "\n",
      "\n",
      "14\n",
      "원문 : Reliance Industries' Chairman Mukesh Ambani's daughter Isha Ambani, who got married last month, said she only cried at her 'bidaai' because she felt peer pressure as everyone was crying, especially her parents. \"I was emotional too but everyone around me would cry all the time,\" she added. \"It was a very emotional affair for everyone in my family,\" said Isha.\n",
      "실제 제목 :  I only cried at my 'bidaai' as I felt peer pressure: Isha Ambani\n",
      "추출 제목 : \"It was a very emotional affair for everyone in my family,\" said Isha.\n",
      "\n",
      "\n",
      "15\n",
      "원문 : Louis Vuitton owner LVMH, which makes high-end beverages like MoÃÂ«t & Chandon champagne and Hennessy cognac, said it's stockpiling four months' worth of wine and spirits in UK in preparation for Brexit. \"We're ready for worst case scenario if there are difficulties with deliveries,\" the French luxury giant said. The UK is scheduled to leave the EU on March 29.\n",
      "실제 제목 : Louis Vuitton owner to stockpile 4 months of wine, spirits in UK\n",
      "추출 제목 : Louis Vuitton owner LVMH, which makes high-end beverages like MoÃÂ«t & Chandon champagne and Hennessy cognac, said it's stockpiling four months' worth of wine and spirits in UK in preparation for Brexit.\n",
      "\n",
      "\n",
      "16\n",
      "원문 : Filmmaker Karan Johar and actress Tabu turned showstoppers for Gaurav Gupta on the opening night of LakmÃÂ© Fashion Week Summer/ Resort 2019. While Johar wore a red sequinned jacket with black pants, Tabu walked the ramp in a grey embellished gown. The fashion show, which began on January 29, will continue till February 3.\n",
      "실제 제목 : Karan Johar, Tabu turn showstoppers on opening night of LFW\n",
      "추출 제목 : Filmmaker Karan Johar and actress Tabu turned showstoppers for Gaurav Gupta on the opening night of LakmÃÂ© Fashion Week Summer/ Resort 2019.\n",
      "\n",
      "\n",
      "17\n",
      "원문 : In a jibe at Congress President Rahul Gandhi, PM Narendra Modi on Wednesday said those on \"bail will have to go to jail.\" PM Modi added, \"He is out on bail and his associates too are facing charges...I know they will be convicted one day.\" The PM claimed he'd waged a war on corruption because he's from a common household. \n",
      "실제 제목 : Those on bail will go to jail: PM Modi takes jibe at Rahul\n",
      "추출 제목 : \n",
      "\n",
      "\n",
      "18\n",
      "원문 : Days after he threatened to step down from his post if Congress MLAs continue \"crossing the line,\" Karnataka Chief Minister HD Kumaraswamy accused them of taking potshots and asked, \"How many more days can I tolerate such stuff?\" Kumaraswamy, who made the statements after a Congress MLA demanded that Siddaramaiah be made CM again, said, \"Power is ephemeral.\"\n",
      "실제 제목 : How long can I tolerate Congress leaders' potshots: K'taka CM\n",
      "추출 제목 : \n",
      "\n",
      "\n",
      "19\n",
      "원문 : Union Minister Dharmendra Pradhan on Wednesday claimed the illegal mining mafia in Odisha operates under the control of CM Naveen Patnaik and state Congress chief Niranjan Patnaik. He added, \"The time has come for the people of Odisha to put a full stop to their activities...The time has come for us to ask for an explanation from this corrupt government.\"\n",
      "실제 제목 : Odisha CM Patnaik controls mining mafia: Union Minister\n",
      "추출 제목 : Union Minister Dharmendra Pradhan on Wednesday claimed the illegal mining mafia in Odisha operates under the control of CM Naveen Patnaik and state Congress chief Niranjan Patnaik.\n",
      "\n",
      "\n"
     ]
    }
   ],
   "source": [
    "for i in range(10, 20):\n",
    "    print(i)\n",
    "    print(\"원문 :\", extdata['text'][i])\n",
    "    print(\"실제 제목 :\", extdata['headlines'][i])\n",
    "    print(\"추출 제목 :\", summarize(extdata['text'][i], ratio=0.5))\n",
    "    print(\"\\n\")"
   ]
  },
  {
   "cell_type": "markdown",
   "id": "fc1ff669",
   "metadata": {},
   "source": [
    "---"
   ]
  },
  {
   "cell_type": "markdown",
   "id": "b11030f2",
   "metadata": {},
   "source": [
    "## Abstractive / Extractive 요약 결과 비교해보기 + 회고"
   ]
  },
  {
   "cell_type": "markdown",
   "id": "652fe54a",
   "metadata": {},
   "source": [
    "- 일단 전체적인 느낌을 보자면 추상적인 요약은 겉보기로는 요약이 잘된 것처럼 보인다. 실제 헤드라인들과 비교해봤을 때 문장 길이도 비슷하고 어투 또한 헤드라인처럼 느껴진다. 하지만 하나 하나 봤을 때는 그렇지 않다. 그나마 18번 혹은 19번 문장 정도가 비슷하게 요약된 것 같다. 그것도 비슷할 뿐이지 완전 잘된 것이라고는 볼 수 없다. 문법적으로 봤을 때 맞는 문장도 있고 맞지 않는 문장도 있지만 전체적으로 일단 핵심 단어를 어떻게 문법적으로 사용하는지를 모르는 느낌이라 아쉽다. 단어들을 잘 뽑은 문장도 있지만 주어로 가야할 단어가 이상한 위치로 가있거나, 주술 관계는 괜찮지만 엉뚱한 단어를 뽑아서 자리를 채워놨다든가 이런 실수들이 많다. 아마 학습데이터의 양과 학습 정도가 부족해서 그런 것 같은 느낌이 든다.\n",
    "- 추출적 요약에 대해서는 일단 summarize의 인자로 ratio와 words를 써봤는데 ratio를 0.3으로 했을 때 위의 원문들을 하나도 요약하지 못하는 현상이 발생했다. ratio=0.4일 때 겨우 4개의 문장이 요약이 되었고, 그 수준은 그냥 위의 원문의 문장 중 하나를 가져다가 쓴 수준이었다. 추출적 요약은 문장들 중에서 추출을 하는 것이다보니 아예 똑같은 문장을 가져다가 쓰는 듯 싶었다. 때문에 문장 완성도나 핵심단어, 문법적인 측면에서는 추상적 요약보다 훨씬 낫지만, 헤드라인으로 요약하는 것을 바랐기 때문에 이건 제대로 요약하는 것이 아니라는 생각이 들었다. words는 위에서 headlines의 max_len이었던 13을 썼을 때 10개 중 3개의 문장이 요약되었다. 아무래도 headline처럼 문장을 요약하는 것이 아니라, 전체 원문 중 하나의 문장을 추출하는 것이다보니 13개의 단어로는 턱없이 부족한 것 같았다.\n",
    "- 추상적 요약 과정에서 모델 훈련을 할 때 loss값이 높은 것이 눈에 밟혀서 하이퍼파라미터를 변경하거나 다른 시도를 해보고 싶었는데, 학습 시간이 너무 오래 걸려서 포기했다. 인코더와 디코더 등 모델을 쌓는 부분도 너무 어렵고, 데이터 전처리 과정도 너무 길다. 이러한 노력에 비해 결과물이 처참하니 NLP에 대해 정이 떨어지기 시작했다. 지난번에 노래 가사를 만들어내는 것이나 영화 리뷰 감성 분석을 할 때는 재밌었는데, 이번 노드는 재미도 느끼기 힘들었다. 아마 맛보기로 하기엔 너무 한계가 많은 과제가 아니었나 하는 생각이 든다. 다음에 기회가 된다면 정말 많은 양의 데이터와 제대로 된 학습, 그리고 완성도 높은 결과가 동반되는 NLP 과정을 경험해보고 싶다."
   ]
  },
  {
   "cell_type": "code",
   "execution_count": null,
   "id": "9a30d1fc",
   "metadata": {},
   "outputs": [],
   "source": []
  }
 ],
 "metadata": {
  "kernelspec": {
   "display_name": "Python 3 (ipykernel)",
   "language": "python",
   "name": "python3"
  },
  "language_info": {
   "codemirror_mode": {
    "name": "ipython",
    "version": 3
   },
   "file_extension": ".py",
   "mimetype": "text/x-python",
   "name": "python",
   "nbconvert_exporter": "python",
   "pygments_lexer": "ipython3",
   "version": "3.9.7"
  }
 },
 "nbformat": 4,
 "nbformat_minor": 5
}
