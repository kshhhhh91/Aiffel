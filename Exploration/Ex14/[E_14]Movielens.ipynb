{
 "cells": [
  {
   "cell_type": "markdown",
   "id": "5f95c26e",
   "metadata": {},
   "source": [
    "# 프로젝트 : Movielens 영화 추천 실습"
   ]
  },
  {
   "cell_type": "markdown",
   "id": "0c4b9faf",
   "metadata": {},
   "source": [
    "추천시스템의 MNIST라고 부를만한 [Movielens](https://grouplens.org/datasets/movielens/1m/) 데이터셋과\n",
    "<br> [implicit](https://github.com/benfred/implicit) 패키지의 als(AlternatingLeastSquares) 모델을 활용하여\n",
    "<br>영화 추천 시스템을 만들어보자."
   ]
  },
  {
   "cell_type": "markdown",
   "id": "778aab57",
   "metadata": {},
   "source": [
    "#### ✔︎ 모듈 불러오기"
   ]
  },
  {
   "cell_type": "code",
   "execution_count": 1,
   "id": "c3e565f7",
   "metadata": {},
   "outputs": [],
   "source": [
    "import pandas as pd\n",
    "import os\n",
    "import numpy as np\n",
    "from scipy.sparse import csr_matrix\n",
    "from implicit.als import AlternatingLeastSquares"
   ]
  },
  {
   "cell_type": "markdown",
   "id": "2c531d03",
   "metadata": {},
   "source": [
    "---"
   ]
  },
  {
   "cell_type": "markdown",
   "id": "d5544ddf",
   "metadata": {},
   "source": [
    "## 1. 데이터 준비와 전처리"
   ]
  },
  {
   "cell_type": "markdown",
   "id": "4ae65572",
   "metadata": {},
   "source": [
    "### 1) Ratings 데이터"
   ]
  },
  {
   "cell_type": "markdown",
   "id": "5bd1ea46",
   "metadata": {},
   "source": [
    "Movielens 데이터는 ratings.dat 안에 이미 인덱싱까지 완료된 사용자-영화-평점 데이터가 깔끔하게 정리되어 있다."
   ]
  },
  {
   "cell_type": "code",
   "execution_count": 2,
   "id": "5bff2b90",
   "metadata": {},
   "outputs": [
    {
     "data": {
      "text/html": [
       "<div>\n",
       "<style scoped>\n",
       "    .dataframe tbody tr th:only-of-type {\n",
       "        vertical-align: middle;\n",
       "    }\n",
       "\n",
       "    .dataframe tbody tr th {\n",
       "        vertical-align: top;\n",
       "    }\n",
       "\n",
       "    .dataframe thead th {\n",
       "        text-align: right;\n",
       "    }\n",
       "</style>\n",
       "<table border=\"1\" class=\"dataframe\">\n",
       "  <thead>\n",
       "    <tr style=\"text-align: right;\">\n",
       "      <th></th>\n",
       "      <th>user_id</th>\n",
       "      <th>movie_id</th>\n",
       "      <th>ratings</th>\n",
       "      <th>timestamp</th>\n",
       "    </tr>\n",
       "  </thead>\n",
       "  <tbody>\n",
       "    <tr>\n",
       "      <th>0</th>\n",
       "      <td>1</td>\n",
       "      <td>1193</td>\n",
       "      <td>5</td>\n",
       "      <td>978300760</td>\n",
       "    </tr>\n",
       "    <tr>\n",
       "      <th>1</th>\n",
       "      <td>1</td>\n",
       "      <td>661</td>\n",
       "      <td>3</td>\n",
       "      <td>978302109</td>\n",
       "    </tr>\n",
       "    <tr>\n",
       "      <th>2</th>\n",
       "      <td>1</td>\n",
       "      <td>914</td>\n",
       "      <td>3</td>\n",
       "      <td>978301968</td>\n",
       "    </tr>\n",
       "    <tr>\n",
       "      <th>3</th>\n",
       "      <td>1</td>\n",
       "      <td>3408</td>\n",
       "      <td>4</td>\n",
       "      <td>978300275</td>\n",
       "    </tr>\n",
       "    <tr>\n",
       "      <th>4</th>\n",
       "      <td>1</td>\n",
       "      <td>2355</td>\n",
       "      <td>5</td>\n",
       "      <td>978824291</td>\n",
       "    </tr>\n",
       "  </tbody>\n",
       "</table>\n",
       "</div>"
      ],
      "text/plain": [
       "   user_id  movie_id  ratings  timestamp\n",
       "0        1      1193        5  978300760\n",
       "1        1       661        3  978302109\n",
       "2        1       914        3  978301968\n",
       "3        1      3408        4  978300275\n",
       "4        1      2355        5  978824291"
      ]
     },
     "execution_count": 2,
     "metadata": {},
     "output_type": "execute_result"
    }
   ],
   "source": [
    "rating_file_path=os.getenv('HOME') + '/aiffel/recommendata_iu/data/ml-1m/ratings.dat'\n",
    "ratings_cols = ['user_id', 'movie_id', 'ratings', 'timestamp']\n",
    "ratings = pd.read_csv(rating_file_path, sep='::', names=ratings_cols, engine='python', encoding = \"ISO-8859-1\")\n",
    "orginal_data_size = len(ratings)\n",
    "ratings.head()"
   ]
  },
  {
   "cell_type": "markdown",
   "id": "a99aa588",
   "metadata": {},
   "source": [
    "유저가 3점 미만으로 준 데이터는 선호하지 않는다고 가정하고 제외한다."
   ]
  },
  {
   "cell_type": "code",
   "execution_count": 3,
   "id": "22160e20",
   "metadata": {},
   "outputs": [
    {
     "name": "stdout",
     "output_type": "stream",
     "text": [
      "orginal_data_size: 1000209, filtered_data_size: 836478\n",
      "Ratio of Remaining Data is 83.63%\n"
     ]
    }
   ],
   "source": [
    "# 3점 이상만 남긴다.\n",
    "ratings = ratings[ratings['ratings']>=3]\n",
    "filtered_data_size = len(ratings)\n",
    "\n",
    "print(f'orginal_data_size: {orginal_data_size}, filtered_data_size: {filtered_data_size}')\n",
    "print(f'Ratio of Remaining Data is {filtered_data_size / orginal_data_size:.2%}')"
   ]
  },
  {
   "cell_type": "markdown",
   "id": "c5fd36da",
   "metadata": {},
   "source": [
    "별점을 시청횟수로 해석해서 생각해줄 예정이기 때문에 컬럼 이름을 바꿔준다."
   ]
  },
  {
   "cell_type": "code",
   "execution_count": 4,
   "id": "ac8343ee",
   "metadata": {},
   "outputs": [],
   "source": [
    "# ratings 컬럼의 이름을 counts로 바꿈\n",
    "ratings.rename(columns={'ratings':'counts'}, inplace=True)"
   ]
  },
  {
   "cell_type": "code",
   "execution_count": 5,
   "id": "e3d650a1",
   "metadata": {},
   "outputs": [
    {
     "data": {
      "text/plain": [
       "0          5\n",
       "1          3\n",
       "2          3\n",
       "3          4\n",
       "4          5\n",
       "          ..\n",
       "1000203    3\n",
       "1000205    5\n",
       "1000206    5\n",
       "1000207    4\n",
       "1000208    4\n",
       "Name: counts, Length: 836478, dtype: int64"
      ]
     },
     "execution_count": 5,
     "metadata": {},
     "output_type": "execute_result"
    }
   ],
   "source": [
    "ratings['counts']"
   ]
  },
  {
   "cell_type": "markdown",
   "id": "7e48b7e2",
   "metadata": {},
   "source": [
    "### 2) Movies 데이터"
   ]
  },
  {
   "cell_type": "code",
   "execution_count": 6,
   "id": "ec96566c",
   "metadata": {},
   "outputs": [
    {
     "data": {
      "text/html": [
       "<div>\n",
       "<style scoped>\n",
       "    .dataframe tbody tr th:only-of-type {\n",
       "        vertical-align: middle;\n",
       "    }\n",
       "\n",
       "    .dataframe tbody tr th {\n",
       "        vertical-align: top;\n",
       "    }\n",
       "\n",
       "    .dataframe thead th {\n",
       "        text-align: right;\n",
       "    }\n",
       "</style>\n",
       "<table border=\"1\" class=\"dataframe\">\n",
       "  <thead>\n",
       "    <tr style=\"text-align: right;\">\n",
       "      <th></th>\n",
       "      <th>movie_id</th>\n",
       "      <th>title</th>\n",
       "      <th>genre</th>\n",
       "    </tr>\n",
       "  </thead>\n",
       "  <tbody>\n",
       "    <tr>\n",
       "      <th>0</th>\n",
       "      <td>1</td>\n",
       "      <td>Toy Story (1995)</td>\n",
       "      <td>Animation|Children's|Comedy</td>\n",
       "    </tr>\n",
       "    <tr>\n",
       "      <th>1</th>\n",
       "      <td>2</td>\n",
       "      <td>Jumanji (1995)</td>\n",
       "      <td>Adventure|Children's|Fantasy</td>\n",
       "    </tr>\n",
       "    <tr>\n",
       "      <th>2</th>\n",
       "      <td>3</td>\n",
       "      <td>Grumpier Old Men (1995)</td>\n",
       "      <td>Comedy|Romance</td>\n",
       "    </tr>\n",
       "    <tr>\n",
       "      <th>3</th>\n",
       "      <td>4</td>\n",
       "      <td>Waiting to Exhale (1995)</td>\n",
       "      <td>Comedy|Drama</td>\n",
       "    </tr>\n",
       "    <tr>\n",
       "      <th>4</th>\n",
       "      <td>5</td>\n",
       "      <td>Father of the Bride Part II (1995)</td>\n",
       "      <td>Comedy</td>\n",
       "    </tr>\n",
       "  </tbody>\n",
       "</table>\n",
       "</div>"
      ],
      "text/plain": [
       "   movie_id                               title                         genre\n",
       "0         1                    Toy Story (1995)   Animation|Children's|Comedy\n",
       "1         2                      Jumanji (1995)  Adventure|Children's|Fantasy\n",
       "2         3             Grumpier Old Men (1995)                Comedy|Romance\n",
       "3         4            Waiting to Exhale (1995)                  Comedy|Drama\n",
       "4         5  Father of the Bride Part II (1995)                        Comedy"
      ]
     },
     "execution_count": 6,
     "metadata": {},
     "output_type": "execute_result"
    }
   ],
   "source": [
    "# 영화 제목을 보기 위해 메타 데이터를 읽어옴\n",
    "movie_file_path=os.getenv('HOME') + '/aiffel/recommendata_iu/data/ml-1m/movies.dat'\n",
    "cols = ['movie_id', 'title', 'genre'] \n",
    "movies = pd.read_csv(movie_file_path, sep='::', names=cols, engine='python', encoding='ISO-8859-1')\n",
    "movies.head()"
   ]
  },
  {
   "cell_type": "markdown",
   "id": "9558d62f",
   "metadata": {},
   "source": [
    "### 3) Ratings와 Movies 데이터 결합한 Movie_ratings 데이터 만들기"
   ]
  },
  {
   "cell_type": "code",
   "execution_count": 7,
   "id": "cdf9b5ab",
   "metadata": {},
   "outputs": [
    {
     "data": {
      "text/html": [
       "<div>\n",
       "<style scoped>\n",
       "    .dataframe tbody tr th:only-of-type {\n",
       "        vertical-align: middle;\n",
       "    }\n",
       "\n",
       "    .dataframe tbody tr th {\n",
       "        vertical-align: top;\n",
       "    }\n",
       "\n",
       "    .dataframe thead th {\n",
       "        text-align: right;\n",
       "    }\n",
       "</style>\n",
       "<table border=\"1\" class=\"dataframe\">\n",
       "  <thead>\n",
       "    <tr style=\"text-align: right;\">\n",
       "      <th></th>\n",
       "      <th>user_id</th>\n",
       "      <th>movie_id</th>\n",
       "      <th>counts</th>\n",
       "      <th>timestamp</th>\n",
       "      <th>title</th>\n",
       "      <th>genre</th>\n",
       "    </tr>\n",
       "  </thead>\n",
       "  <tbody>\n",
       "    <tr>\n",
       "      <th>0</th>\n",
       "      <td>1</td>\n",
       "      <td>1193</td>\n",
       "      <td>5</td>\n",
       "      <td>978300760</td>\n",
       "      <td>One Flew Over the Cuckoo's Nest (1975)</td>\n",
       "      <td>Drama</td>\n",
       "    </tr>\n",
       "    <tr>\n",
       "      <th>1</th>\n",
       "      <td>1</td>\n",
       "      <td>661</td>\n",
       "      <td>3</td>\n",
       "      <td>978302109</td>\n",
       "      <td>James and the Giant Peach (1996)</td>\n",
       "      <td>Animation|Children's|Musical</td>\n",
       "    </tr>\n",
       "    <tr>\n",
       "      <th>2</th>\n",
       "      <td>1</td>\n",
       "      <td>914</td>\n",
       "      <td>3</td>\n",
       "      <td>978301968</td>\n",
       "      <td>My Fair Lady (1964)</td>\n",
       "      <td>Musical|Romance</td>\n",
       "    </tr>\n",
       "    <tr>\n",
       "      <th>3</th>\n",
       "      <td>1</td>\n",
       "      <td>3408</td>\n",
       "      <td>4</td>\n",
       "      <td>978300275</td>\n",
       "      <td>Erin Brockovich (2000)</td>\n",
       "      <td>Drama</td>\n",
       "    </tr>\n",
       "    <tr>\n",
       "      <th>4</th>\n",
       "      <td>1</td>\n",
       "      <td>2355</td>\n",
       "      <td>5</td>\n",
       "      <td>978824291</td>\n",
       "      <td>Bug's Life, A (1998)</td>\n",
       "      <td>Animation|Children's|Comedy</td>\n",
       "    </tr>\n",
       "  </tbody>\n",
       "</table>\n",
       "</div>"
      ],
      "text/plain": [
       "   user_id  movie_id  counts  timestamp  \\\n",
       "0        1      1193       5  978300760   \n",
       "1        1       661       3  978302109   \n",
       "2        1       914       3  978301968   \n",
       "3        1      3408       4  978300275   \n",
       "4        1      2355       5  978824291   \n",
       "\n",
       "                                    title                         genre  \n",
       "0  One Flew Over the Cuckoo's Nest (1975)                         Drama  \n",
       "1        James and the Giant Peach (1996)  Animation|Children's|Musical  \n",
       "2                     My Fair Lady (1964)               Musical|Romance  \n",
       "3                  Erin Brockovich (2000)                         Drama  \n",
       "4                    Bug's Life, A (1998)   Animation|Children's|Comedy  "
      ]
     },
     "execution_count": 7,
     "metadata": {},
     "output_type": "execute_result"
    }
   ],
   "source": [
    "# Ratings + Movies 데이터프레임 결합 (movies 데이터의 movie_id를 인덱스로 만들어준 후 병합)\n",
    "movie_ratings = ratings.join(movies.set_index('movie_id'), on='movie_id')\n",
    "movie_ratings.head()"
   ]
  },
  {
   "cell_type": "code",
   "execution_count": 8,
   "id": "b62db3d4",
   "metadata": {},
   "outputs": [
    {
     "data": {
      "text/html": [
       "<div>\n",
       "<style scoped>\n",
       "    .dataframe tbody tr th:only-of-type {\n",
       "        vertical-align: middle;\n",
       "    }\n",
       "\n",
       "    .dataframe tbody tr th {\n",
       "        vertical-align: top;\n",
       "    }\n",
       "\n",
       "    .dataframe thead th {\n",
       "        text-align: right;\n",
       "    }\n",
       "</style>\n",
       "<table border=\"1\" class=\"dataframe\">\n",
       "  <thead>\n",
       "    <tr style=\"text-align: right;\">\n",
       "      <th></th>\n",
       "      <th>user_id</th>\n",
       "      <th>movie_id</th>\n",
       "      <th>counts</th>\n",
       "      <th>title</th>\n",
       "      <th>genre</th>\n",
       "    </tr>\n",
       "  </thead>\n",
       "  <tbody>\n",
       "    <tr>\n",
       "      <th>0</th>\n",
       "      <td>1</td>\n",
       "      <td>1193</td>\n",
       "      <td>5</td>\n",
       "      <td>One Flew Over the Cuckoo's Nest (1975)</td>\n",
       "      <td>Drama</td>\n",
       "    </tr>\n",
       "    <tr>\n",
       "      <th>1</th>\n",
       "      <td>1</td>\n",
       "      <td>661</td>\n",
       "      <td>3</td>\n",
       "      <td>James and the Giant Peach (1996)</td>\n",
       "      <td>Animation|Children's|Musical</td>\n",
       "    </tr>\n",
       "    <tr>\n",
       "      <th>2</th>\n",
       "      <td>1</td>\n",
       "      <td>914</td>\n",
       "      <td>3</td>\n",
       "      <td>My Fair Lady (1964)</td>\n",
       "      <td>Musical|Romance</td>\n",
       "    </tr>\n",
       "    <tr>\n",
       "      <th>3</th>\n",
       "      <td>1</td>\n",
       "      <td>3408</td>\n",
       "      <td>4</td>\n",
       "      <td>Erin Brockovich (2000)</td>\n",
       "      <td>Drama</td>\n",
       "    </tr>\n",
       "    <tr>\n",
       "      <th>4</th>\n",
       "      <td>1</td>\n",
       "      <td>2355</td>\n",
       "      <td>5</td>\n",
       "      <td>Bug's Life, A (1998)</td>\n",
       "      <td>Animation|Children's|Comedy</td>\n",
       "    </tr>\n",
       "  </tbody>\n",
       "</table>\n",
       "</div>"
      ],
      "text/plain": [
       "   user_id  movie_id  counts                                   title  \\\n",
       "0        1      1193       5  One Flew Over the Cuckoo's Nest (1975)   \n",
       "1        1       661       3        James and the Giant Peach (1996)   \n",
       "2        1       914       3                     My Fair Lady (1964)   \n",
       "3        1      3408       4                  Erin Brockovich (2000)   \n",
       "4        1      2355       5                    Bug's Life, A (1998)   \n",
       "\n",
       "                          genre  \n",
       "0                         Drama  \n",
       "1  Animation|Children's|Musical  \n",
       "2               Musical|Romance  \n",
       "3                         Drama  \n",
       "4   Animation|Children's|Comedy  "
      ]
     },
     "execution_count": 8,
     "metadata": {},
     "output_type": "execute_result"
    }
   ],
   "source": [
    "# timestamp 컬럼 제거\n",
    "movie_ratings = movie_ratings.drop(columns=['timestamp'])\n",
    "movie_ratings.head()"
   ]
  },
  {
   "cell_type": "markdown",
   "id": "66417c0c",
   "metadata": {},
   "source": [
    "---\n",
    "## 2. 데이터 분석"
   ]
  },
  {
   "cell_type": "markdown",
   "id": "1f2cfc43",
   "metadata": {},
   "source": [
    "### 1) 데이터 전체적으로 살펴보기"
   ]
  },
  {
   "cell_type": "code",
   "execution_count": 9,
   "id": "3fa13db1",
   "metadata": {},
   "outputs": [
    {
     "data": {
      "text/plain": [
       "3628"
      ]
     },
     "execution_count": 9,
     "metadata": {},
     "output_type": "execute_result"
    }
   ],
   "source": [
    "# movie_ratings에 있는 유니크한 영화 개수\n",
    "movie_ratings['movie_id'].nunique()"
   ]
  },
  {
   "cell_type": "code",
   "execution_count": 10,
   "id": "8151f1be",
   "metadata": {},
   "outputs": [
    {
     "data": {
      "text/plain": [
       "6039"
      ]
     },
     "execution_count": 10,
     "metadata": {},
     "output_type": "execute_result"
    }
   ],
   "source": [
    "# movie_ratings에 있는 유니크한 사용자 수\n",
    "movie_ratings['user_id'].nunique()"
   ]
  },
  {
   "cell_type": "code",
   "execution_count": 11,
   "id": "f2e4b46c",
   "metadata": {},
   "outputs": [
    {
     "data": {
      "text/plain": [
       "title\n",
       "American Beauty (1999)                                   3211\n",
       "Star Wars: Episode IV - A New Hope (1977)                2910\n",
       "Star Wars: Episode V - The Empire Strikes Back (1980)    2885\n",
       "Star Wars: Episode VI - Return of the Jedi (1983)        2716\n",
       "Saving Private Ryan (1998)                               2561\n",
       "Terminator 2: Judgment Day (1991)                        2509\n",
       "Silence of the Lambs, The (1991)                         2498\n",
       "Raiders of the Lost Ark (1981)                           2473\n",
       "Back to the Future (1985)                                2460\n",
       "Matrix, The (1999)                                       2434\n",
       "Jurassic Park (1993)                                     2413\n",
       "Sixth Sense, The (1999)                                  2385\n",
       "Fargo (1996)                                             2371\n",
       "Braveheart (1995)                                        2314\n",
       "Men in Black (1997)                                      2297\n",
       "Schindler's List (1993)                                  2257\n",
       "Princess Bride, The (1987)                               2252\n",
       "Shakespeare in Love (1998)                               2213\n",
       "L.A. Confidential (1997)                                 2210\n",
       "Shawshank Redemption, The (1994)                         2194\n",
       "Godfather, The (1972)                                    2167\n",
       "Groundhog Day (1993)                                     2121\n",
       "E.T. the Extra-Terrestrial (1982)                        2102\n",
       "Being John Malkovich (1999)                              2066\n",
       "Ghostbusters (1984)                                      2051\n",
       "Pulp Fiction (1994)                                      2030\n",
       "Forrest Gump (1994)                                      2022\n",
       "Terminator, The (1984)                                   2019\n",
       "Toy Story (1995)                                         2000\n",
       "Fugitive, The (1993)                                     1941\n",
       "Name: user_id, dtype: int64"
      ]
     },
     "execution_count": 11,
     "metadata": {},
     "output_type": "execute_result"
    }
   ],
   "source": [
    "# 가장 인기 있는 영화 30개 (인기순)\n",
    "movie_count = movie_ratings.groupby('title')['user_id'].count()\n",
    "movie_count.sort_values(ascending=False).head(30)"
   ]
  },
  {
   "cell_type": "code",
   "execution_count": 12,
   "id": "7fb609b7",
   "metadata": {},
   "outputs": [
    {
     "data": {
      "text/plain": [
       "count    6039.000000\n",
       "mean      138.512668\n",
       "std       156.241599\n",
       "min         1.000000\n",
       "25%        38.000000\n",
       "50%        81.000000\n",
       "75%       177.000000\n",
       "max      1968.000000\n",
       "Name: movie_id, dtype: float64"
      ]
     },
     "execution_count": 12,
     "metadata": {},
     "output_type": "execute_result"
    }
   ],
   "source": [
    "# 유저별 몇 편의 영화를 봤는지에 대한 통계\n",
    "user_count = movie_ratings.groupby('user_id')['movie_id'].count()\n",
    "user_count.describe()"
   ]
  },
  {
   "cell_type": "markdown",
   "id": "790752e6",
   "metadata": {},
   "source": [
    "평균적으로 한 명의 유저 당 138편의 영화를 보고 평점을 매겼고, 최소 1편, 최대 1968편을 본 유저가 있다는 것을 알 수 있다."
   ]
  },
  {
   "cell_type": "markdown",
   "id": "9ee13048",
   "metadata": {},
   "source": [
    "### 2) 장르별로 데이터 살펴보기"
   ]
  },
  {
   "cell_type": "markdown",
   "id": "120de59a",
   "metadata": {},
   "source": [
    "우선 어떤 식으로 장르를 분류해놨는지 살펴봐야겠다."
   ]
  },
  {
   "cell_type": "code",
   "execution_count": 13,
   "id": "a3b06aff",
   "metadata": {
    "scrolled": true
   },
   "outputs": [
    {
     "data": {
      "text/plain": [
       "array(['Drama', \"Animation|Children's|Musical\", 'Musical|Romance',\n",
       "       \"Animation|Children's|Comedy\", 'Action|Adventure|Comedy|Romance',\n",
       "       'Action|Adventure|Drama', 'Comedy|Drama',\n",
       "       \"Adventure|Children's|Drama|Musical\", 'Musical', 'Comedy',\n",
       "       \"Animation|Children's\", 'Comedy|Fantasy', 'Animation',\n",
       "       'Comedy|Sci-Fi', 'Drama|War', 'Romance',\n",
       "       \"Animation|Children's|Musical|Romance\",\n",
       "       \"Children's|Drama|Fantasy|Sci-Fi\", 'Drama|Romance',\n",
       "       'Animation|Comedy|Thriller',\n",
       "       \"Adventure|Animation|Children's|Comedy|Musical\",\n",
       "       \"Animation|Children's|Comedy|Musical\", 'Thriller',\n",
       "       'Action|Crime|Romance', 'Action|Adventure|Fantasy|Sci-Fi',\n",
       "       \"Children's|Comedy|Musical\", 'Action|Drama|War',\n",
       "       \"Children's|Drama\", 'Crime|Drama|Thriller', 'Action|Crime|Drama',\n",
       "       'Action|Adventure|Mystery', 'Crime|Drama',\n",
       "       'Action|Adventure|Sci-Fi|Thriller',\n",
       "       'Action|Adventure|Romance|Sci-Fi|War', 'Action|Thriller',\n",
       "       'Action|Drama', 'Comedy|Drama|Western',\n",
       "       'Action|Crime|Mystery|Thriller', 'Comedy|Drama|Romance',\n",
       "       'Comedy|Drama|War', 'Drama|Sci-Fi', 'Action|Drama|Thriller',\n",
       "       'Action|Comedy|Western', 'Adventure|Comedy|Drama',\n",
       "       'Drama|Thriller', 'Comedy|Romance',\n",
       "       'Action|Drama|Romance|Thriller', 'Action|Crime|Thriller',\n",
       "       'Action|Sci-Fi|Thriller', 'Action|Horror|Sci-Fi', 'Action|Sci-Fi',\n",
       "       'Action|Romance|War', 'Action|Adventure|Sci-Fi',\n",
       "       'Drama|Romance|War', 'Action|Drama|Romance',\n",
       "       'Crime|Drama|Film-Noir|Thriller', 'Adventure|Drama|Western',\n",
       "       'Action|Adventure|Drama|Sci-Fi|War', 'Action|Adventure|Thriller',\n",
       "       'Action|Adventure|Romance|Thriller', 'Action|Adventure',\n",
       "       'Comedy|Horror', 'Action|Crime|Drama|Thriller',\n",
       "       'Action|Mystery|Romance|Thriller', 'Action|Romance|Thriller',\n",
       "       'Action', 'Action|Sci-Fi|War', 'Action|Comedy|Crime|Drama',\n",
       "       'Action|Adventure|Romance', 'Comedy|Romance|War',\n",
       "       'Action|Adventure|Comedy', 'Action|Comedy', 'Adventure|Thriller',\n",
       "       'Action|Adventure|Fantasy', 'Action|Adventure|Horror',\n",
       "       'Action|Adventure|Comedy|Sci-Fi', 'Western', 'Adventure|Comedy',\n",
       "       'Adventure|Drama', 'Comedy|Western',\n",
       "       \"Animation|Children's|Comedy|Musical|Romance\", 'Action|Western',\n",
       "       'Action|Horror|Sci-Fi|Thriller', 'Action|Horror',\n",
       "       'Adventure|Animation|Film-Noir', 'Drama|Romance|Thriller',\n",
       "       'Crime|Drama|Romance|Thriller', 'Crime|Thriller',\n",
       "       'Animation|Comedy', 'Documentary',\n",
       "       'Crime|Film-Noir|Mystery|Thriller', 'Drama|Horror',\n",
       "       'Mystery|Sci-Fi|Thriller', 'Horror|Romance', 'Horror|Sci-Fi',\n",
       "       'Horror', 'Sci-Fi|Thriller', 'Crime', 'Comedy|Crime',\n",
       "       \"Children's|Comedy\", 'Horror|Mystery|Thriller',\n",
       "       'Film-Noir|Mystery', 'Comedy|Crime|Mystery|Thriller',\n",
       "       'Adventure|Sci-Fi', \"Children's|Comedy|Drama\", 'Action|Romance',\n",
       "       'Action|Crime', \"Adventure|Animation|Children's|Musical\",\n",
       "       'Comedy|Musical', \"Children's|Fantasy|Musical\",\n",
       "       \"Children's|Comedy|Western\", 'Drama|Romance|War|Western',\n",
       "       'Adventure|Drama|Romance|Sci-Fi', 'Drama|Musical',\n",
       "       \"Adventure|Children's|Comedy\", 'Comedy|Fantasy|Romance',\n",
       "       'Comedy|Musical|Romance', 'Action|Comedy|Drama',\n",
       "       'Action|Drama|Thriller|War', 'Drama|Thriller|War',\n",
       "       'Adventure|Animation|Sci-Fi|Thriller', 'Animation|Sci-Fi',\n",
       "       'Drama|Mystery', 'Comedy|Crime|Drama|Mystery',\n",
       "       'Drama|Sci-Fi|Thriller', 'Crime|Drama|Mystery',\n",
       "       'Action|Comedy|Sci-Fi|Thriller', 'Comedy|Crime|Fantasy',\n",
       "       \"Adventure|Children's|Comedy|Fantasy|Sci-Fi\",\n",
       "       'Film-Noir|Mystery|Thriller', 'Adventure', 'Comedy|War',\n",
       "       'Comedy|Romance|Thriller', \"Action|Children's|Fantasy\",\n",
       "       \"Adventure|Children's|Fantasy\", 'Action|Adventure|Comedy|Crime',\n",
       "       'Adventure|Musical', \"Animation|Children's|Drama|Fantasy\",\n",
       "       'Comedy|Mystery|Thriller', 'Action|Adventure|Crime|Drama',\n",
       "       \"Children's|Fantasy|Sci-Fi\", \"Adventure|Children's\", 'War',\n",
       "       'Comedy|Horror|Musical|Sci-Fi', \"Children's|Comedy|Fantasy\",\n",
       "       'Sci-Fi|War', \"Animation|Children's|Fantasy|Musical\",\n",
       "       \"Children's|Sci-Fi\", \"Adventure|Children's|Fantasy|Sci-Fi\",\n",
       "       'Mystery|Thriller', 'Comedy|Horror|Musical',\n",
       "       'Action|Horror|Thriller', 'Adventure|Fantasy',\n",
       "       'Drama|Mystery|Sci-Fi|Thriller', 'Crime|Drama|Sci-Fi',\n",
       "       \"Adventure|Children's|Musical\", 'Action|Sci-Fi|Thriller|War',\n",
       "       'Adventure|War', 'Action|Adventure|Romance|War',\n",
       "       'Action|Drama|Fantasy|Romance', 'Adventure|Comedy|Sci-Fi',\n",
       "       'Comedy|Sci-Fi|Western', 'Action|Adventure|Comedy|Horror|Sci-Fi',\n",
       "       \"Adventure|Children's|Comedy|Fantasy\", 'Film-Noir|Sci-Fi',\n",
       "       'Drama|Fantasy', \"Children's|Drama|Fantasy\", \"Children's|Fantasy\",\n",
       "       'Fantasy|Sci-Fi', 'Action|Comedy|Musical',\n",
       "       'Adventure|Fantasy|Sci-Fi', 'Action|Adventure|Horror|Thriller',\n",
       "       'Action|Adventure|Sci-Fi|War',\n",
       "       \"Action|Adventure|Children's|Comedy\",\n",
       "       \"Adventure|Children's|Drama|Romance\",\n",
       "       \"Adventure|Children's|Sci-Fi\", \"Children's\",\n",
       "       'Comedy|Drama|Musical', 'Drama|Mystery|Thriller',\n",
       "       'Comedy|Crime|Drama', 'Sci-Fi', 'Adventure|Fantasy|Romance',\n",
       "       'Adventure|Romance', 'Action|Adventure|Crime',\n",
       "       'Action|Drama|Mystery', 'Adventure|Animation|Sci-Fi',\n",
       "       'Adventure|Romance|Sci-Fi', 'Horror|Thriller',\n",
       "       'Adventure|Drama|Thriller', 'Comedy|Fantasy|Romance|Sci-Fi',\n",
       "       'Crime|Horror|Mystery|Thriller', 'Crime|Horror|Thriller',\n",
       "       'Crime|Drama|Mystery|Thriller', 'Animation|Musical',\n",
       "       'Crime|Drama|Film-Noir', 'Horror|Sci-Fi|Thriller',\n",
       "       'Drama|Fantasy|Romance|Thriller', 'Mystery|Sci-Fi',\n",
       "       'Action|Crime|Sci-Fi', 'Comedy|Mystery', 'Crime|Film-Noir|Mystery',\n",
       "       'Comedy|Drama|Sci-Fi', 'Sci-Fi|Thriller|War', 'Film-Noir|Thriller',\n",
       "       'Action|Adventure|Animation|Horror|Sci-Fi',\n",
       "       'Action|Sci-Fi|Thriller|Western', 'Comedy|Horror|Sci-Fi',\n",
       "       'Crime|Film-Noir|Thriller', 'Comedy|Crime|Thriller',\n",
       "       'Film-Noir|Sci-Fi|Thriller',\n",
       "       \"Adventure|Animation|Children's|Sci-Fi\", 'Action|Sci-Fi|Western',\n",
       "       \"Children's|Musical\", 'Action|Comedy|Musical|Sci-Fi',\n",
       "       'Action|Drama|Sci-Fi|Thriller', 'Adventure|Western',\n",
       "       'Action|Comedy|Sci-Fi|War', 'Action|Comedy|War',\n",
       "       'Action|Adventure|Comedy|Horror', 'Comedy|Documentary',\n",
       "       'Action|Romance|Sci-Fi', 'Action|Comedy|Crime|Horror|Thriller',\n",
       "       'Action|Adventure|Animation', 'Action|Mystery|Thriller',\n",
       "       \"Action|Animation|Children's|Sci-Fi|Thriller|War\",\n",
       "       'Comedy|Crime|Horror', 'Crime|Drama|Romance', 'Crime|Film-Noir',\n",
       "       'Comedy|Thriller', 'Mystery|Romance|Thriller',\n",
       "       'Comedy|Mystery|Romance|Thriller',\n",
       "       'Action|Adventure|Sci-Fi|Thriller|War',\n",
       "       'Adventure|Crime|Sci-Fi|Thriller', 'Action|Adventure|Western',\n",
       "       'Action|Adventure|Comedy|War', 'Action|Comedy|Fantasy',\n",
       "       \"Action|Adventure|Children's|Sci-Fi\", 'Action|War',\n",
       "       'Action|Adventure|Mystery|Sci-Fi', 'Adventure|Sci-Fi|Thriller',\n",
       "       'Action|Adventure|Drama|Romance', \"Adventure|Children's|Drama\",\n",
       "       'Drama|Mystery|Romance', 'Adventure|Drama|Romance', 'Film-Noir',\n",
       "       'Film-Noir|Romance|Thriller', 'Drama|Film-Noir',\n",
       "       'Romance|Thriller', 'Crime|Horror', 'Mystery',\n",
       "       'Action|Adventure|Drama|Thriller', 'Musical|Romance|War',\n",
       "       'Drama|Western', 'Action|Drama|Mystery|Romance|Thriller',\n",
       "       'Adventure|Comedy|Musical', 'Documentary|Musical',\n",
       "       'Action|Thriller|War', 'Adventure|Comedy|Romance', 'Romance|War',\n",
       "       'Action|Adventure|War', 'Comedy|Romance|Sci-Fi',\n",
       "       'Action|Mystery|Sci-Fi|Thriller', \"Children's|Horror\",\n",
       "       'Adventure|Musical|Romance', \"Adventure|Children's|Comedy|Musical\",\n",
       "       \"Children's|Comedy|Mystery\", 'Action|Comedy|Romance|Thriller',\n",
       "       'Action|Drama|Western', 'Comedy|Mystery|Romance',\n",
       "       'Action|Crime|Mystery', 'Comedy|Drama|Thriller',\n",
       "       \"Animation|Children's|Fantasy|War\", \"Children's|Comedy|Sci-Fi\",\n",
       "       'Drama|Musical|War', 'Musical|War', 'Documentary|Drama',\n",
       "       'Action|Adventure|Crime|Thriller',\n",
       "       \"Adventure|Animation|Children's|Comedy|Fantasy\",\n",
       "       \"Animation|Children's|Comedy|Romance\", \"Action|Children's\",\n",
       "       \"Adventure|Children's|Comedy|Fantasy|Romance\",\n",
       "       \"Adventure|Children's|Romance\",\n",
       "       \"Action|Adventure|Animation|Children's|Fantasy\",\n",
       "       \"Adventure|Animation|Children's\", 'Drama|Film-Noir|Thriller',\n",
       "       'Crime|Mystery', 'Documentary|War', 'Comedy|Horror|Thriller',\n",
       "       'Action|Comedy|Crime', 'Drama|Romance|Sci-Fi',\n",
       "       'Drama|Horror|Thriller', 'Horror|Mystery', 'Animation|Mystery',\n",
       "       'Romance|Western', \"Adventure|Animation|Children's|Fantasy\",\n",
       "       \"Action|Adventure|Children's|Fantasy\", 'Drama|Romance|Western',\n",
       "       'Fantasy', 'Film-Noir|Horror', \"Action|Adventure|Children's\",\n",
       "       'Comedy|Film-Noir|Thriller'], dtype=object)"
      ]
     },
     "execution_count": 13,
     "metadata": {},
     "output_type": "execute_result"
    }
   ],
   "source": [
    "movie_ratings['genre'].unique()"
   ]
  },
  {
   "cell_type": "markdown",
   "id": "efd28dfb",
   "metadata": {},
   "source": [
    "한 영화에 여러 장르가 섞여있으니 어떤 장르의 종류가 있는지 파악하기 어렵다. 장르의 종류만 뽑아내보자."
   ]
  },
  {
   "cell_type": "code",
   "execution_count": 14,
   "id": "9ab93afd",
   "metadata": {
    "scrolled": false
   },
   "outputs": [
    {
     "data": {
      "text/plain": [
       "{'Action',\n",
       " 'Adventure',\n",
       " 'Animation',\n",
       " \"Children's\",\n",
       " 'Comedy',\n",
       " 'Crime',\n",
       " 'Documentary',\n",
       " 'Drama',\n",
       " 'Fantasy',\n",
       " 'Film-Noir',\n",
       " 'Horror',\n",
       " 'Musical',\n",
       " 'Mystery',\n",
       " 'Romance',\n",
       " 'Sci-Fi',\n",
       " 'Thriller',\n",
       " 'War',\n",
       " 'Western'}"
      ]
     },
     "execution_count": 14,
     "metadata": {},
     "output_type": "execute_result"
    }
   ],
   "source": [
    "genre_list = []\n",
    "for genre_each_movie in movie_ratings['genre']:\n",
    "    genre_each_movie = genre_each_movie.split('|')\n",
    "    for genre_uniq in genre_each_movie:\n",
    "        genre_list.append(genre_uniq)\n",
    "genre_list = set(genre_list)\n",
    "genre_list"
   ]
  },
  {
   "cell_type": "markdown",
   "id": "a1fbc28b",
   "metadata": {},
   "source": [
    "총 18개의 장르가 존재한다. 내가 관심있는 장르별로 인기 있는 영화들을 살펴봐야겠다."
   ]
  },
  {
   "cell_type": "markdown",
   "id": "021bafc3",
   "metadata": {},
   "source": [
    "**Romance**"
   ]
  },
  {
   "cell_type": "code",
   "execution_count": 15,
   "id": "adbda154",
   "metadata": {},
   "outputs": [
    {
     "data": {
      "text/html": [
       "<div>\n",
       "<style scoped>\n",
       "    .dataframe tbody tr th:only-of-type {\n",
       "        vertical-align: middle;\n",
       "    }\n",
       "\n",
       "    .dataframe tbody tr th {\n",
       "        vertical-align: top;\n",
       "    }\n",
       "\n",
       "    .dataframe thead th {\n",
       "        text-align: right;\n",
       "    }\n",
       "</style>\n",
       "<table border=\"1\" class=\"dataframe\">\n",
       "  <thead>\n",
       "    <tr style=\"text-align: right;\">\n",
       "      <th></th>\n",
       "      <th>user_id</th>\n",
       "      <th>movie_id</th>\n",
       "      <th>counts</th>\n",
       "      <th>title</th>\n",
       "      <th>genre</th>\n",
       "    </tr>\n",
       "  </thead>\n",
       "  <tbody>\n",
       "    <tr>\n",
       "      <th>2</th>\n",
       "      <td>1</td>\n",
       "      <td>914</td>\n",
       "      <td>3</td>\n",
       "      <td>My Fair Lady (1964)</td>\n",
       "      <td>Musical|Romance</td>\n",
       "    </tr>\n",
       "    <tr>\n",
       "      <th>5</th>\n",
       "      <td>1</td>\n",
       "      <td>1197</td>\n",
       "      <td>3</td>\n",
       "      <td>Princess Bride, The (1987)</td>\n",
       "      <td>Action|Adventure|Comedy|Romance</td>\n",
       "    </tr>\n",
       "    <tr>\n",
       "      <th>24</th>\n",
       "      <td>1</td>\n",
       "      <td>2340</td>\n",
       "      <td>3</td>\n",
       "      <td>Meet Joe Black (1998)</td>\n",
       "      <td>Romance</td>\n",
       "    </tr>\n",
       "    <tr>\n",
       "      <th>25</th>\n",
       "      <td>1</td>\n",
       "      <td>48</td>\n",
       "      <td>5</td>\n",
       "      <td>Pocahontas (1995)</td>\n",
       "      <td>Animation|Children's|Musical|Romance</td>\n",
       "    </tr>\n",
       "    <tr>\n",
       "      <th>27</th>\n",
       "      <td>1</td>\n",
       "      <td>1721</td>\n",
       "      <td>4</td>\n",
       "      <td>Titanic (1997)</td>\n",
       "      <td>Drama|Romance</td>\n",
       "    </tr>\n",
       "    <tr>\n",
       "      <th>...</th>\n",
       "      <td>...</td>\n",
       "      <td>...</td>\n",
       "      <td>...</td>\n",
       "      <td>...</td>\n",
       "      <td>...</td>\n",
       "    </tr>\n",
       "    <tr>\n",
       "      <th>1000147</th>\n",
       "      <td>6040</td>\n",
       "      <td>2369</td>\n",
       "      <td>3</td>\n",
       "      <td>Desperately Seeking Susan (1985)</td>\n",
       "      <td>Comedy|Romance</td>\n",
       "    </tr>\n",
       "    <tr>\n",
       "      <th>1000148</th>\n",
       "      <td>6040</td>\n",
       "      <td>899</td>\n",
       "      <td>4</td>\n",
       "      <td>Singin' in the Rain (1952)</td>\n",
       "      <td>Musical|Romance</td>\n",
       "    </tr>\n",
       "    <tr>\n",
       "      <th>1000158</th>\n",
       "      <td>6040</td>\n",
       "      <td>2396</td>\n",
       "      <td>3</td>\n",
       "      <td>Shakespeare in Love (1998)</td>\n",
       "      <td>Comedy|Romance</td>\n",
       "    </tr>\n",
       "    <tr>\n",
       "      <th>1000197</th>\n",
       "      <td>6040</td>\n",
       "      <td>2020</td>\n",
       "      <td>3</td>\n",
       "      <td>Dangerous Liaisons (1988)</td>\n",
       "      <td>Drama|Romance</td>\n",
       "    </tr>\n",
       "    <tr>\n",
       "      <th>1000205</th>\n",
       "      <td>6040</td>\n",
       "      <td>1094</td>\n",
       "      <td>5</td>\n",
       "      <td>Crying Game, The (1992)</td>\n",
       "      <td>Drama|Romance|War</td>\n",
       "    </tr>\n",
       "  </tbody>\n",
       "</table>\n",
       "<p>125927 rows × 5 columns</p>\n",
       "</div>"
      ],
      "text/plain": [
       "         user_id  movie_id  counts                             title  \\\n",
       "2              1       914       3               My Fair Lady (1964)   \n",
       "5              1      1197       3        Princess Bride, The (1987)   \n",
       "24             1      2340       3             Meet Joe Black (1998)   \n",
       "25             1        48       5                 Pocahontas (1995)   \n",
       "27             1      1721       4                    Titanic (1997)   \n",
       "...          ...       ...     ...                               ...   \n",
       "1000147     6040      2369       3  Desperately Seeking Susan (1985)   \n",
       "1000148     6040       899       4        Singin' in the Rain (1952)   \n",
       "1000158     6040      2396       3        Shakespeare in Love (1998)   \n",
       "1000197     6040      2020       3         Dangerous Liaisons (1988)   \n",
       "1000205     6040      1094       5           Crying Game, The (1992)   \n",
       "\n",
       "                                        genre  \n",
       "2                             Musical|Romance  \n",
       "5             Action|Adventure|Comedy|Romance  \n",
       "24                                    Romance  \n",
       "25       Animation|Children's|Musical|Romance  \n",
       "27                              Drama|Romance  \n",
       "...                                       ...  \n",
       "1000147                        Comedy|Romance  \n",
       "1000148                       Musical|Romance  \n",
       "1000158                        Comedy|Romance  \n",
       "1000197                         Drama|Romance  \n",
       "1000205                     Drama|Romance|War  \n",
       "\n",
       "[125927 rows x 5 columns]"
      ]
     },
     "execution_count": 15,
     "metadata": {},
     "output_type": "execute_result"
    }
   ],
   "source": [
    "movie_ratings[movie_ratings['genre'].str.contains('romance', case=False)]"
   ]
  },
  {
   "cell_type": "code",
   "execution_count": 16,
   "id": "fe3d3606",
   "metadata": {},
   "outputs": [],
   "source": [
    "romance_movies = movie_ratings[movie_ratings['genre'].str.contains('romance', case=False)]"
   ]
  },
  {
   "cell_type": "code",
   "execution_count": 17,
   "id": "31436ee3",
   "metadata": {},
   "outputs": [
    {
     "data": {
      "text/plain": [
       "title\n",
       "Star Wars: Episode VI - Return of the Jedi (1983)    2716\n",
       "Princess Bride, The (1987)                           2252\n",
       "Shakespeare in Love (1998)                           2213\n",
       "Groundhog Day (1993)                                 2121\n",
       "Forrest Gump (1994)                                  2022\n",
       "Casablanca (1942)                                    1623\n",
       "When Harry Met Sally... (1989)                       1487\n",
       "Speed (1994)                                         1442\n",
       "Edward Scissorhands (1990)                           1285\n",
       "Titanic (1997)                                       1270\n",
       "True Lies (1994)                                     1254\n",
       "Annie Hall (1977)                                    1248\n",
       "Romancing the Stone (1984)                           1239\n",
       "Jerry Maguire (1996)                                 1239\n",
       "Graduate, The (1967)                                 1223\n",
       "Clueless (1995)                                      1207\n",
       "Four Weddings and a Funeral (1994)                   1126\n",
       "Crying Game, The (1992)                              1100\n",
       "Gone with the Wind (1939)                            1055\n",
       "Splash (1984)                                        1030\n",
       "Run Lola Run (Lola rennt) (1998)                     1021\n",
       "African Queen, The (1951)                            1021\n",
       "Witness (1985)                                       1009\n",
       "American President, The (1995)                        960\n",
       "Ghost (1990)                                          944\n",
       "Sleepy Hollow (1999)                                  928\n",
       "Little Mermaid, The (1989)                            926\n",
       "Dave (1993)                                           907\n",
       "Pretty Woman (1990)                                   906\n",
       "Sleepless in Seattle (1993)                           891\n",
       "Name: user_id, dtype: int64"
      ]
     },
     "execution_count": 17,
     "metadata": {},
     "output_type": "execute_result"
    }
   ],
   "source": [
    "romance_movies = romance_movies.groupby('title')['user_id'].count()\n",
    "romance_movies.sort_values(ascending=False).head(30)"
   ]
  },
  {
   "cell_type": "markdown",
   "id": "295fd3e7",
   "metadata": {},
   "source": [
    "**Thriller**"
   ]
  },
  {
   "cell_type": "code",
   "execution_count": 18,
   "id": "8419e8fd",
   "metadata": {},
   "outputs": [
    {
     "data": {
      "text/plain": [
       "title\n",
       "Terminator 2: Judgment Day (1991)    2509\n",
       "Silence of the Lambs, The (1991)     2498\n",
       "Matrix, The (1999)                   2434\n",
       "Sixth Sense, The (1999)              2385\n",
       "Fargo (1996)                         2371\n",
       "L.A. Confidential (1997)             2210\n",
       "Terminator, The (1984)               2019\n",
       "Fugitive, The (1993)                 1941\n",
       "Alien (1979)                         1920\n",
       "Total Recall (1990)                  1786\n",
       "Usual Suspects, The (1995)           1744\n",
       "Aliens (1986)                        1720\n",
       "Die Hard (1988)                      1593\n",
       "Hunt for Red October, The (1990)     1587\n",
       "2001: A Space Odyssey (1968)         1568\n",
       "Abyss, The (1989)                    1555\n",
       "Speed (1994)                         1442\n",
       "North by Northwest (1959)            1298\n",
       "Rock, The (1996)                     1213\n",
       "Psycho (1960)                        1210\n",
       "Taxi Driver (1976)                   1184\n",
       "Reservoir Dogs (1992)                1176\n",
       "Predator (1987)                      1151\n",
       "Chinatown (1974)                     1151\n",
       "Green Mile, The (1999)               1151\n",
       "Face/Off (1997)                      1128\n",
       "Sling Blade (1996)                   1128\n",
       "Talented Mr. Ripley, The (1999)      1098\n",
       "Seven (Se7en) (1995)                 1066\n",
       "Rear Window (1954)                   1038\n",
       "Name: user_id, dtype: int64"
      ]
     },
     "execution_count": 18,
     "metadata": {},
     "output_type": "execute_result"
    }
   ],
   "source": [
    "thriller_movies = movie_ratings[movie_ratings['genre'].str.contains('thriller', case=False)]\n",
    "thriller_movies = thriller_movies.groupby('title')['user_id'].count()\n",
    "thriller_movies.sort_values(ascending=False).head(30)"
   ]
  },
  {
   "cell_type": "markdown",
   "id": "e2e8e913",
   "metadata": {},
   "source": [
    "**Drama**"
   ]
  },
  {
   "cell_type": "code",
   "execution_count": 19,
   "id": "01aba31e",
   "metadata": {},
   "outputs": [
    {
     "data": {
      "text/plain": [
       "title\n",
       "American Beauty (1999)                                   3211\n",
       "Star Wars: Episode V - The Empire Strikes Back (1980)    2885\n",
       "Saving Private Ryan (1998)                               2561\n",
       "Silence of the Lambs, The (1991)                         2498\n",
       "Fargo (1996)                                             2371\n",
       "Braveheart (1995)                                        2314\n",
       "Schindler's List (1993)                                  2257\n",
       "Shawshank Redemption, The (1994)                         2194\n",
       "Godfather, The (1972)                                    2167\n",
       "E.T. the Extra-Terrestrial (1982)                        2102\n",
       "Pulp Fiction (1994)                                      2030\n",
       "Gladiator (2000)                                         1798\n",
       "Stand by Me (1986)                                       1728\n",
       "One Flew Over the Cuckoo's Nest (1975)                   1680\n",
       "Wizard of Oz, The (1939)                                 1650\n",
       "Godfather: Part II, The (1974)                           1624\n",
       "Casablanca (1942)                                        1623\n",
       "GoodFellas (1990)                                        1595\n",
       "Babe (1995)                                              1574\n",
       "2001: A Space Odyssey (1968)                             1568\n",
       "Lethal Weapon (1987)                                     1527\n",
       "Good Will Hunting (1997)                                 1496\n",
       "Breakfast Club, The (1985)                               1431\n",
       "Twelve Monkeys (1995)                                    1384\n",
       "Close Encounters of the Third Kind (1977)                1374\n",
       "Amadeus (1984)                                           1340\n",
       "Dances with Wolves (1990)                                1318\n",
       "As Good As It Gets (1997)                                1315\n",
       "Fight Club (1999)                                        1308\n",
       "North by Northwest (1959)                                1298\n",
       "Name: user_id, dtype: int64"
      ]
     },
     "execution_count": 19,
     "metadata": {},
     "output_type": "execute_result"
    }
   ],
   "source": [
    "drama_movies = movie_ratings[movie_ratings['genre'].str.contains('drama', case=False)]\n",
    "drama_movies = drama_movies.groupby('title')['user_id'].count()\n",
    "drama_movies.sort_values(ascending=False).head(30)"
   ]
  },
  {
   "cell_type": "markdown",
   "id": "cc7bf9d3",
   "metadata": {},
   "source": [
    "**Musical**"
   ]
  },
  {
   "cell_type": "code",
   "execution_count": 20,
   "id": "adda1ae3",
   "metadata": {},
   "outputs": [
    {
     "data": {
      "text/plain": [
       "title\n",
       "Wizard of Oz, The (1939)                  1650\n",
       "Blues Brothers, The (1980)                1244\n",
       "Aladdin (1992)                            1228\n",
       "This Is Spinal Tap (1984)                 1042\n",
       "Lion King, The (1994)                     1029\n",
       "Beauty and the Beast (1991)                960\n",
       "Little Mermaid, The (1989)                 926\n",
       "Mary Poppins (1964)                        917\n",
       "Rocky Horror Picture Show, The (1975)      911\n",
       "Nightmare Before Christmas, The (1993)     869\n",
       "Fantasia (1940)                            843\n",
       "Lady and the Tramp (1955)                  804\n",
       "Sound of Music, The (1965)                 776\n",
       "Little Shop of Horrors (1986)              746\n",
       "Singin' in the Rain (1952)                 721\n",
       "Snow White and the Seven Dwarfs (1937)     707\n",
       "West Side Story (1961)                     702\n",
       "Grease (1978)                              673\n",
       "Producers, The (1968)                      629\n",
       "Jungle Book, The (1967)                    618\n",
       "My Fair Lady (1964)                        611\n",
       "Doors, The (1991)                          581\n",
       "Peter Pan (1953)                           535\n",
       "Dirty Dancing (1987)                       532\n",
       "Cinderella (1950)                          525\n",
       "Dumbo (1941)                               516\n",
       "Prince of Egypt, The (1998)                502\n",
       "Alice in Wonderland (1951)                 473\n",
       "Hard Day's Night, A (1964)                 472\n",
       "Sleeping Beauty (1959)                     470\n",
       "Name: user_id, dtype: int64"
      ]
     },
     "execution_count": 20,
     "metadata": {},
     "output_type": "execute_result"
    }
   ],
   "source": [
    "musical_movies = movie_ratings[movie_ratings['genre'].str.contains('musical', case=False)]\n",
    "musical_movies = musical_movies.groupby('title')['user_id'].count()\n",
    "musical_movies.sort_values(ascending=False).head(30)"
   ]
  },
  {
   "cell_type": "markdown",
   "id": "f1a04b18",
   "metadata": {},
   "source": [
    "---"
   ]
  },
  {
   "cell_type": "markdown",
   "id": "f102a6db",
   "metadata": {},
   "source": [
    "## 3. 내가 선호하는 영화 추가"
   ]
  },
  {
   "cell_type": "markdown",
   "id": "ee9a7fc7",
   "metadata": {},
   "source": [
    "선호하는 영화들의 데이터를 살펴보자."
   ]
  },
  {
   "cell_type": "code",
   "execution_count": 21,
   "id": "8cab80b0",
   "metadata": {},
   "outputs": [
    {
     "data": {
      "text/html": [
       "<div>\n",
       "<style scoped>\n",
       "    .dataframe tbody tr th:only-of-type {\n",
       "        vertical-align: middle;\n",
       "    }\n",
       "\n",
       "    .dataframe tbody tr th {\n",
       "        vertical-align: top;\n",
       "    }\n",
       "\n",
       "    .dataframe thead th {\n",
       "        text-align: right;\n",
       "    }\n",
       "</style>\n",
       "<table border=\"1\" class=\"dataframe\">\n",
       "  <thead>\n",
       "    <tr style=\"text-align: right;\">\n",
       "      <th></th>\n",
       "      <th>user_id</th>\n",
       "      <th>movie_id</th>\n",
       "      <th>counts</th>\n",
       "      <th>title</th>\n",
       "      <th>genre</th>\n",
       "    </tr>\n",
       "  </thead>\n",
       "  <tbody>\n",
       "    <tr>\n",
       "      <th>27</th>\n",
       "      <td>1</td>\n",
       "      <td>1721</td>\n",
       "      <td>4</td>\n",
       "      <td>Titanic (1997)</td>\n",
       "      <td>Drama|Romance</td>\n",
       "    </tr>\n",
       "    <tr>\n",
       "      <th>172</th>\n",
       "      <td>2</td>\n",
       "      <td>318</td>\n",
       "      <td>5</td>\n",
       "      <td>Shawshank Redemption, The (1994)</td>\n",
       "      <td>Drama</td>\n",
       "    </tr>\n",
       "    <tr>\n",
       "      <th>270</th>\n",
       "      <td>5</td>\n",
       "      <td>215</td>\n",
       "      <td>3</td>\n",
       "      <td>Before Sunrise (1995)</td>\n",
       "      <td>Drama|Romance</td>\n",
       "    </tr>\n",
       "    <tr>\n",
       "      <th>350</th>\n",
       "      <td>5</td>\n",
       "      <td>318</td>\n",
       "      <td>3</td>\n",
       "      <td>Shawshank Redemption, The (1994)</td>\n",
       "      <td>Drama</td>\n",
       "    </tr>\n",
       "    <tr>\n",
       "      <th>391</th>\n",
       "      <td>5</td>\n",
       "      <td>551</td>\n",
       "      <td>4</td>\n",
       "      <td>Nightmare Before Christmas, The (1993)</td>\n",
       "      <td>Children's|Comedy|Musical</td>\n",
       "    </tr>\n",
       "    <tr>\n",
       "      <th>...</th>\n",
       "      <td>...</td>\n",
       "      <td>...</td>\n",
       "      <td>...</td>\n",
       "      <td>...</td>\n",
       "      <td>...</td>\n",
       "    </tr>\n",
       "    <tr>\n",
       "      <th>999847</th>\n",
       "      <td>6039</td>\n",
       "      <td>858</td>\n",
       "      <td>4</td>\n",
       "      <td>Godfather, The (1972)</td>\n",
       "      <td>Action|Crime|Drama</td>\n",
       "    </tr>\n",
       "    <tr>\n",
       "      <th>999991</th>\n",
       "      <td>6040</td>\n",
       "      <td>318</td>\n",
       "      <td>4</td>\n",
       "      <td>Shawshank Redemption, The (1994)</td>\n",
       "      <td>Drama</td>\n",
       "    </tr>\n",
       "    <tr>\n",
       "      <th>1000042</th>\n",
       "      <td>6040</td>\n",
       "      <td>1221</td>\n",
       "      <td>4</td>\n",
       "      <td>Godfather: Part II, The (1974)</td>\n",
       "      <td>Action|Crime|Drama</td>\n",
       "    </tr>\n",
       "    <tr>\n",
       "      <th>1000123</th>\n",
       "      <td>6040</td>\n",
       "      <td>1307</td>\n",
       "      <td>5</td>\n",
       "      <td>When Harry Met Sally... (1989)</td>\n",
       "      <td>Comedy|Romance</td>\n",
       "    </tr>\n",
       "    <tr>\n",
       "      <th>1000138</th>\n",
       "      <td>6040</td>\n",
       "      <td>858</td>\n",
       "      <td>4</td>\n",
       "      <td>Godfather, The (1972)</td>\n",
       "      <td>Action|Crime|Drama</td>\n",
       "    </tr>\n",
       "  </tbody>\n",
       "</table>\n",
       "<p>10674 rows × 5 columns</p>\n",
       "</div>"
      ],
      "text/plain": [
       "         user_id  movie_id  counts                                   title  \\\n",
       "27             1      1721       4                          Titanic (1997)   \n",
       "172            2       318       5        Shawshank Redemption, The (1994)   \n",
       "270            5       215       3                   Before Sunrise (1995)   \n",
       "350            5       318       3        Shawshank Redemption, The (1994)   \n",
       "391            5       551       4  Nightmare Before Christmas, The (1993)   \n",
       "...          ...       ...     ...                                     ...   \n",
       "999847      6039       858       4                   Godfather, The (1972)   \n",
       "999991      6040       318       4        Shawshank Redemption, The (1994)   \n",
       "1000042     6040      1221       4          Godfather: Part II, The (1974)   \n",
       "1000123     6040      1307       5          When Harry Met Sally... (1989)   \n",
       "1000138     6040       858       4                   Godfather, The (1972)   \n",
       "\n",
       "                             genre  \n",
       "27                   Drama|Romance  \n",
       "172                          Drama  \n",
       "270                  Drama|Romance  \n",
       "350                          Drama  \n",
       "391      Children's|Comedy|Musical  \n",
       "...                            ...  \n",
       "999847          Action|Crime|Drama  \n",
       "999991                       Drama  \n",
       "1000042         Action|Crime|Drama  \n",
       "1000123             Comedy|Romance  \n",
       "1000138         Action|Crime|Drama  \n",
       "\n",
       "[10674 rows x 5 columns]"
      ]
     },
     "execution_count": 21,
     "metadata": {},
     "output_type": "execute_result"
    }
   ],
   "source": [
    "movie_ratings[movie_ratings['title'].str.contains(\n",
    "    'When Harry Met Sally|Titanic|Godfather|Before|Shawshank', case=False)]"
   ]
  },
  {
   "cell_type": "markdown",
   "id": "77817a66",
   "metadata": {},
   "source": [
    "좀더 깔끔하게 찾을 수 있는 방법이 있을텐데, 일단은 이렇게 해서 내가 추가하고 싶은 영화들의 movie_id는 대충 알 수 있었다.\n",
    "<br> **When Harry Met Sally... (1989)** : 1307\n",
    "<br> **Titanic (1997)** : 1721\n",
    "<br> **Godfather, The (1972)** : 858\n",
    "<br> **Before Sunrise (1995)** : 215\n",
    "<br> **Shawshank Redemption, The (1994)** : 318"
   ]
  },
  {
   "cell_type": "markdown",
   "id": "26fb4fc2",
   "metadata": {},
   "source": [
    "선호하는 영화 5개를 원본 데이터프레임에 추가해보자."
   ]
  },
  {
   "cell_type": "code",
   "execution_count": 22,
   "id": "d8020be9",
   "metadata": {},
   "outputs": [],
   "source": [
    "my_movies = ['When Harry Met Sally... (1989)',\n",
    "               'Titanic (1997)',\n",
    "               'Godfather, The (1972)', \n",
    "               'Before Sunrise (1995)', \n",
    "               'Shawshank Redemption, The (1994)']\n",
    "my_movies_id = [1307, 1721, 858, 215, 318]\n",
    "my_movies_genre = ['Comedy|Romance', \n",
    "                   'Drama|Romance', \n",
    "                   'Action|Crime|Drama',\n",
    "                   'Drama|Romance',\n",
    "                   'Drama']"
   ]
  },
  {
   "cell_type": "code",
   "execution_count": 23,
   "id": "851e2b8e",
   "metadata": {},
   "outputs": [
    {
     "data": {
      "text/html": [
       "<div>\n",
       "<style scoped>\n",
       "    .dataframe tbody tr th:only-of-type {\n",
       "        vertical-align: middle;\n",
       "    }\n",
       "\n",
       "    .dataframe tbody tr th {\n",
       "        vertical-align: top;\n",
       "    }\n",
       "\n",
       "    .dataframe thead th {\n",
       "        text-align: right;\n",
       "    }\n",
       "</style>\n",
       "<table border=\"1\" class=\"dataframe\">\n",
       "  <thead>\n",
       "    <tr style=\"text-align: right;\">\n",
       "      <th></th>\n",
       "      <th>user_id</th>\n",
       "      <th>movie_id</th>\n",
       "      <th>counts</th>\n",
       "      <th>title</th>\n",
       "      <th>genre</th>\n",
       "    </tr>\n",
       "  </thead>\n",
       "  <tbody>\n",
       "    <tr>\n",
       "      <th>1000203</th>\n",
       "      <td>6040</td>\n",
       "      <td>1090</td>\n",
       "      <td>3</td>\n",
       "      <td>Platoon (1986)</td>\n",
       "      <td>Drama|War</td>\n",
       "    </tr>\n",
       "    <tr>\n",
       "      <th>1000205</th>\n",
       "      <td>6040</td>\n",
       "      <td>1094</td>\n",
       "      <td>5</td>\n",
       "      <td>Crying Game, The (1992)</td>\n",
       "      <td>Drama|Romance|War</td>\n",
       "    </tr>\n",
       "    <tr>\n",
       "      <th>1000206</th>\n",
       "      <td>6040</td>\n",
       "      <td>562</td>\n",
       "      <td>5</td>\n",
       "      <td>Welcome to the Dollhouse (1995)</td>\n",
       "      <td>Comedy|Drama</td>\n",
       "    </tr>\n",
       "    <tr>\n",
       "      <th>1000207</th>\n",
       "      <td>6040</td>\n",
       "      <td>1096</td>\n",
       "      <td>4</td>\n",
       "      <td>Sophie's Choice (1982)</td>\n",
       "      <td>Drama</td>\n",
       "    </tr>\n",
       "    <tr>\n",
       "      <th>1000208</th>\n",
       "      <td>6040</td>\n",
       "      <td>1097</td>\n",
       "      <td>4</td>\n",
       "      <td>E.T. the Extra-Terrestrial (1982)</td>\n",
       "      <td>Children's|Drama|Fantasy|Sci-Fi</td>\n",
       "    </tr>\n",
       "    <tr>\n",
       "      <th>0</th>\n",
       "      <td>ksh</td>\n",
       "      <td>1307</td>\n",
       "      <td>5</td>\n",
       "      <td>When Harry Met Sally... (1989)</td>\n",
       "      <td>Comedy|Romance</td>\n",
       "    </tr>\n",
       "    <tr>\n",
       "      <th>1</th>\n",
       "      <td>ksh</td>\n",
       "      <td>1721</td>\n",
       "      <td>5</td>\n",
       "      <td>Titanic (1997)</td>\n",
       "      <td>Drama|Romance</td>\n",
       "    </tr>\n",
       "    <tr>\n",
       "      <th>2</th>\n",
       "      <td>ksh</td>\n",
       "      <td>858</td>\n",
       "      <td>5</td>\n",
       "      <td>Godfather, The (1972)</td>\n",
       "      <td>Action|Crime|Drama</td>\n",
       "    </tr>\n",
       "    <tr>\n",
       "      <th>3</th>\n",
       "      <td>ksh</td>\n",
       "      <td>215</td>\n",
       "      <td>5</td>\n",
       "      <td>Before Sunrise (1995)</td>\n",
       "      <td>Drama|Romance</td>\n",
       "    </tr>\n",
       "    <tr>\n",
       "      <th>4</th>\n",
       "      <td>ksh</td>\n",
       "      <td>318</td>\n",
       "      <td>5</td>\n",
       "      <td>Shawshank Redemption, The (1994)</td>\n",
       "      <td>Drama</td>\n",
       "    </tr>\n",
       "  </tbody>\n",
       "</table>\n",
       "</div>"
      ],
      "text/plain": [
       "        user_id  movie_id  counts                              title  \\\n",
       "1000203    6040      1090       3                     Platoon (1986)   \n",
       "1000205    6040      1094       5            Crying Game, The (1992)   \n",
       "1000206    6040       562       5    Welcome to the Dollhouse (1995)   \n",
       "1000207    6040      1096       4             Sophie's Choice (1982)   \n",
       "1000208    6040      1097       4  E.T. the Extra-Terrestrial (1982)   \n",
       "0           ksh      1307       5     When Harry Met Sally... (1989)   \n",
       "1           ksh      1721       5                     Titanic (1997)   \n",
       "2           ksh       858       5              Godfather, The (1972)   \n",
       "3           ksh       215       5              Before Sunrise (1995)   \n",
       "4           ksh       318       5   Shawshank Redemption, The (1994)   \n",
       "\n",
       "                                   genre  \n",
       "1000203                        Drama|War  \n",
       "1000205                Drama|Romance|War  \n",
       "1000206                     Comedy|Drama  \n",
       "1000207                            Drama  \n",
       "1000208  Children's|Drama|Fantasy|Sci-Fi  \n",
       "0                         Comedy|Romance  \n",
       "1                          Drama|Romance  \n",
       "2                     Action|Crime|Drama  \n",
       "3                          Drama|Romance  \n",
       "4                                  Drama  "
      ]
     },
     "execution_count": 23,
     "metadata": {},
     "output_type": "execute_result"
    }
   ],
   "source": [
    "my_movielist = pd.DataFrame({'user_id': ['ksh']*5,\n",
    "                             'movie_id': my_movies_id,\n",
    "                             'counts': [5]*5, \n",
    "                             'title': my_movies,\n",
    "                             'genre': my_movies_genre})\n",
    "\n",
    "if not movie_ratings.isin({'user_id':['ksh']})['user_id'].any():\n",
    "    movie_ratings = movie_ratings.append(my_movielist)\n",
    "    \n",
    "movie_ratings.tail(10)"
   ]
  },
  {
   "cell_type": "markdown",
   "id": "b4574f07",
   "metadata": {},
   "source": [
    "---\n",
    "## 4. CSR matrix 만들기"
   ]
  },
  {
   "cell_type": "markdown",
   "id": "e9d0e47b",
   "metadata": {},
   "source": [
    "### 1) Indexing"
   ]
  },
  {
   "cell_type": "markdown",
   "id": "bd2b5200",
   "metadata": {},
   "source": [
    "CSR matrix를 만들어주기 전에 indexing을 해줄 필요가 있다."
   ]
  },
  {
   "cell_type": "code",
   "execution_count": 24,
   "id": "ee1976eb",
   "metadata": {},
   "outputs": [],
   "source": [
    "# 고유한 유저, 영화, 장르를 찾아내는 코드\n",
    "user_unique = movie_ratings['user_id'].unique()\n",
    "movie_unique = movie_ratings['title'].unique()\n",
    "genre_unique = movie_ratings['genre'].unique()\n",
    "\n",
    "# 유저, 영화, 장르를 고유한 값의 개수만큼 indexing\n",
    "user_to_idx = {v:k for k,v in enumerate(user_unique)}\n",
    "movie_to_idx = {v:k for k,v in enumerate(movie_unique)}\n",
    "genre_to_idx = {v:k for k,v in enumerate(genre_unique)}"
   ]
  },
  {
   "cell_type": "code",
   "execution_count": 25,
   "id": "c85240b4",
   "metadata": {},
   "outputs": [
    {
     "name": "stdout",
     "output_type": "stream",
     "text": [
      "6039\n",
      "213\n",
      "0\n",
      "18\n"
     ]
    }
   ],
   "source": [
    "# 인덱싱이 잘 되었는지 확인\n",
    "print(user_to_idx['ksh'])\n",
    "print(movie_to_idx['Before Sunrise (1995)'])\n",
    "print(genre_to_idx['Drama'])\n",
    "print(genre_to_idx['Drama|Romance'])"
   ]
  },
  {
   "cell_type": "code",
   "execution_count": 26,
   "id": "98643e3d",
   "metadata": {},
   "outputs": [
    {
     "name": "stdout",
     "output_type": "stream",
     "text": [
      "user_id column indexing OK!!\n",
      "title column indexing OK!!\n",
      "genre column indexing OK!!\n"
     ]
    },
    {
     "data": {
      "text/html": [
       "<div>\n",
       "<style scoped>\n",
       "    .dataframe tbody tr th:only-of-type {\n",
       "        vertical-align: middle;\n",
       "    }\n",
       "\n",
       "    .dataframe tbody tr th {\n",
       "        vertical-align: top;\n",
       "    }\n",
       "\n",
       "    .dataframe thead th {\n",
       "        text-align: right;\n",
       "    }\n",
       "</style>\n",
       "<table border=\"1\" class=\"dataframe\">\n",
       "  <thead>\n",
       "    <tr style=\"text-align: right;\">\n",
       "      <th></th>\n",
       "      <th>user_id</th>\n",
       "      <th>movie_id</th>\n",
       "      <th>counts</th>\n",
       "      <th>title</th>\n",
       "      <th>genre</th>\n",
       "    </tr>\n",
       "  </thead>\n",
       "  <tbody>\n",
       "    <tr>\n",
       "      <th>0</th>\n",
       "      <td>0</td>\n",
       "      <td>1193</td>\n",
       "      <td>5</td>\n",
       "      <td>0</td>\n",
       "      <td>0</td>\n",
       "    </tr>\n",
       "    <tr>\n",
       "      <th>1</th>\n",
       "      <td>0</td>\n",
       "      <td>661</td>\n",
       "      <td>3</td>\n",
       "      <td>1</td>\n",
       "      <td>1</td>\n",
       "    </tr>\n",
       "    <tr>\n",
       "      <th>2</th>\n",
       "      <td>0</td>\n",
       "      <td>914</td>\n",
       "      <td>3</td>\n",
       "      <td>2</td>\n",
       "      <td>2</td>\n",
       "    </tr>\n",
       "    <tr>\n",
       "      <th>3</th>\n",
       "      <td>0</td>\n",
       "      <td>3408</td>\n",
       "      <td>4</td>\n",
       "      <td>3</td>\n",
       "      <td>0</td>\n",
       "    </tr>\n",
       "    <tr>\n",
       "      <th>4</th>\n",
       "      <td>0</td>\n",
       "      <td>2355</td>\n",
       "      <td>5</td>\n",
       "      <td>4</td>\n",
       "      <td>3</td>\n",
       "    </tr>\n",
       "    <tr>\n",
       "      <th>...</th>\n",
       "      <td>...</td>\n",
       "      <td>...</td>\n",
       "      <td>...</td>\n",
       "      <td>...</td>\n",
       "      <td>...</td>\n",
       "    </tr>\n",
       "    <tr>\n",
       "      <th>0</th>\n",
       "      <td>6039</td>\n",
       "      <td>1307</td>\n",
       "      <td>5</td>\n",
       "      <td>488</td>\n",
       "      <td>45</td>\n",
       "    </tr>\n",
       "    <tr>\n",
       "      <th>1</th>\n",
       "      <td>6039</td>\n",
       "      <td>1721</td>\n",
       "      <td>5</td>\n",
       "      <td>27</td>\n",
       "      <td>18</td>\n",
       "    </tr>\n",
       "    <tr>\n",
       "      <th>2</th>\n",
       "      <td>6039</td>\n",
       "      <td>858</td>\n",
       "      <td>5</td>\n",
       "      <td>607</td>\n",
       "      <td>29</td>\n",
       "    </tr>\n",
       "    <tr>\n",
       "      <th>3</th>\n",
       "      <td>6039</td>\n",
       "      <td>215</td>\n",
       "      <td>5</td>\n",
       "      <td>213</td>\n",
       "      <td>18</td>\n",
       "    </tr>\n",
       "    <tr>\n",
       "      <th>4</th>\n",
       "      <td>6039</td>\n",
       "      <td>318</td>\n",
       "      <td>5</td>\n",
       "      <td>157</td>\n",
       "      <td>0</td>\n",
       "    </tr>\n",
       "  </tbody>\n",
       "</table>\n",
       "<p>836483 rows × 5 columns</p>\n",
       "</div>"
      ],
      "text/plain": [
       "    user_id  movie_id  counts  title  genre\n",
       "0         0      1193       5      0      0\n",
       "1         0       661       3      1      1\n",
       "2         0       914       3      2      2\n",
       "3         0      3408       4      3      0\n",
       "4         0      2355       5      4      3\n",
       "..      ...       ...     ...    ...    ...\n",
       "0      6039      1307       5    488     45\n",
       "1      6039      1721       5     27     18\n",
       "2      6039       858       5    607     29\n",
       "3      6039       215       5    213     18\n",
       "4      6039       318       5    157      0\n",
       "\n",
       "[836483 rows x 5 columns]"
      ]
     },
     "execution_count": 26,
     "metadata": {},
     "output_type": "execute_result"
    }
   ],
   "source": [
    "# indexing을 통해 데이터 컬럼 내 값을 바꾸는 코드\n",
    "\n",
    "# user_to_idx.get을 통해 user_id 컬럼의 모든 값을 인덱싱한 Series를 구해본다. \n",
    "# 혹시 정상적으로 인덱싱되지 않은 row가 있다면 인덱스가 NaN이 될 테니 dropna()로 제거한다. \n",
    "temp_user_data = movie_ratings['user_id'].map(user_to_idx.get).dropna()\n",
    "if len(temp_user_data) == len(movie_ratings):   # 모든 row가 정상적으로 인덱싱되었다면\n",
    "    print('user_id column indexing OK!!')\n",
    "    movie_ratings['user_id'] = temp_user_data   # movie_ratings['user_id']을 인덱싱된 Series로 교체 \n",
    "else:\n",
    "    print('user_id column indexing Fail!!')\n",
    "\n",
    "# movie_to_idx을 통해 title 컬럼도 동일한 방식으로 인덱싱 \n",
    "temp_movie_data = movie_ratings['title'].map(movie_to_idx.get).dropna()\n",
    "if len(temp_movie_data) == len(movie_ratings):\n",
    "    print('title column indexing OK!!')\n",
    "    movie_ratings['title'] = temp_movie_data\n",
    "else:\n",
    "    print('title column indexing Fail!!')\n",
    "\n",
    "# genre_to_idx을 통해 genre 컬럼도 동일한 방식으로 인덱싱 \n",
    "temp_genre_data = movie_ratings['genre'].map(genre_to_idx.get).dropna()\n",
    "if len(temp_genre_data) == len(movie_ratings):\n",
    "    print('genre column indexing OK!!')\n",
    "    movie_ratings['genre'] = temp_genre_data\n",
    "else:\n",
    "    print('genre column indexing Fail!!')\n",
    "    \n",
    "movie_ratings"
   ]
  },
  {
   "cell_type": "markdown",
   "id": "c66b61b6",
   "metadata": {},
   "source": [
    "사실 여기까지만 해도 장르 컬럼이 모델 훈련에 도움이 될것이란 생각에 추가적으로 계속 시간을 써서 인덱싱까지 했지만, CSR matrix를 만들 때 어차피 두 개의 특성(feature)만 사용된다는 것을 깨닫고 장르가 쓸모없음을 깨달았다. 그러나 나중에 무언가 다시 시도해볼 때에 도움이 되었으면 좋겠다는 생각에서 남겨둔다."
   ]
  },
  {
   "cell_type": "markdown",
   "id": "50fdf39a",
   "metadata": {},
   "source": [
    "### 2) CSR matrix 생성"
   ]
  },
  {
   "cell_type": "code",
   "execution_count": 27,
   "id": "e105250e",
   "metadata": {},
   "outputs": [
    {
     "data": {
      "text/plain": [
       "<6040x3628 sparse matrix of type '<class 'numpy.int64'>'\n",
       "\twith 836483 stored elements in Compressed Sparse Row format>"
      ]
     },
     "execution_count": 27,
     "metadata": {},
     "output_type": "execute_result"
    }
   ],
   "source": [
    "from scipy.sparse import csr_matrix\n",
    "\n",
    "num_user = movie_ratings['user_id'].nunique()\n",
    "num_movie = movie_ratings['title'].nunique()\n",
    "\n",
    "csr_data = csr_matrix((movie_ratings['counts'], (movie_ratings.user_id, movie_ratings.title)), shape= (num_user, num_movie))\n",
    "csr_data"
   ]
  },
  {
   "cell_type": "markdown",
   "id": "1684c0b7",
   "metadata": {},
   "source": [
    "---"
   ]
  },
  {
   "cell_type": "markdown",
   "id": "f9c04d05",
   "metadata": {},
   "source": [
    "## 5. ALS model 구성하여 훈련시키기"
   ]
  },
  {
   "cell_type": "markdown",
   "id": "baa3c6c3",
   "metadata": {},
   "source": [
    "AlternatingLeastSquares 모델을 직접 구성하여 훈련시켜보자."
   ]
  },
  {
   "cell_type": "code",
   "execution_count": 28,
   "id": "3de436a7",
   "metadata": {},
   "outputs": [],
   "source": [
    "from implicit.als import AlternatingLeastSquares\n",
    "\n",
    "# implicit 라이브러리에서 권장하고 있는 부분이므로 학습 내용과는 무관\n",
    "os.environ['OPENBLAS_NUM_THREADS']='1'\n",
    "os.environ['KMP_DUPLICATE_LIB_OK']='True'\n",
    "os.environ['MKL_NUM_THREADS']='1'"
   ]
  },
  {
   "cell_type": "code",
   "execution_count": 29,
   "id": "d9b4cbd9",
   "metadata": {},
   "outputs": [],
   "source": [
    "# Implicit AlternatingLeastSquares 모델의 선언\n",
    "als_model = AlternatingLeastSquares(factors=200, regularization=0.01, use_gpu=False, iterations=20, dtype=np.float32)"
   ]
  },
  {
   "cell_type": "markdown",
   "id": "b53e505b",
   "metadata": {},
   "source": [
    "- factors : 유저와 아이템의 벡터를 몇 차원으로 할 것인지\n",
    "- regularization : 과적합을 방지하기 위해 정규화 값을 얼마나 사용할 것인지\n",
    "- use_gpu : GPU를 사용할 것인지\n",
    "- iterations : epochs와 같은 의미. 데이터를 몇 번 반복해서 학습할 것인지"
   ]
  },
  {
   "cell_type": "code",
   "execution_count": 30,
   "id": "038de905",
   "metadata": {},
   "outputs": [
    {
     "data": {
      "text/plain": [
       "<3628x6040 sparse matrix of type '<class 'numpy.int64'>'\n",
       "\twith 836483 stored elements in Compressed Sparse Column format>"
      ]
     },
     "execution_count": 30,
     "metadata": {},
     "output_type": "execute_result"
    }
   ],
   "source": [
    "# als 모델은 input으로 item X user 꼴의 matrix를 받기 때문에 Transpose해준다.\n",
    "csr_data_transpose = csr_data.T\n",
    "csr_data_transpose"
   ]
  },
  {
   "cell_type": "code",
   "execution_count": 31,
   "id": "097b7ca3",
   "metadata": {},
   "outputs": [
    {
     "data": {
      "application/vnd.jupyter.widget-view+json": {
       "model_id": "cb0df175d0d142aea442e719fd6921bc",
       "version_major": 2,
       "version_minor": 0
      },
      "text/plain": [
       "  0%|          | 0/20 [00:00<?, ?it/s]"
      ]
     },
     "metadata": {},
     "output_type": "display_data"
    }
   ],
   "source": [
    "# 모델 훈련\n",
    "als_model.fit(csr_data_transpose)"
   ]
  },
  {
   "cell_type": "markdown",
   "id": "3bed0c25",
   "metadata": {},
   "source": [
    "---"
   ]
  },
  {
   "cell_type": "markdown",
   "id": "4b2f7b2f",
   "metadata": {},
   "source": [
    "## 6. 훈련된 모델이 예측한 나의 선호도 파악"
   ]
  },
  {
   "cell_type": "code",
   "execution_count": 32,
   "id": "06c76bbe",
   "metadata": {},
   "outputs": [],
   "source": [
    "# 훈련된 모델이 만든 나의 벡터와 영화의 벡터 구하기\n",
    "ksh, harrysally = user_to_idx['ksh'], movie_to_idx['When Harry Met Sally... (1989)']\n",
    "ksh_vector, harrysally_vector = als_model.user_factors[ksh], als_model.item_factors[harrysally]"
   ]
  },
  {
   "cell_type": "code",
   "execution_count": 33,
   "id": "c2c5952e",
   "metadata": {},
   "outputs": [
    {
     "data": {
      "text/plain": [
       "array([-0.2802196 , -0.26783526,  0.23932311, -0.17340185, -0.10914013,\n",
       "        0.32860073, -0.02470351,  0.19879526,  0.3148389 ,  0.76237386,\n",
       "        0.2931195 , -0.6623077 , -0.05814015,  0.5059682 , -0.51987123,\n",
       "       -0.3922641 ,  0.17650613,  0.44144577, -0.14209267,  0.01543857,\n",
       "        0.13208072, -0.27454528,  0.12350249,  0.36932278, -0.03987431,\n",
       "       -0.23522574, -0.11177039, -0.06428006,  0.1941185 , -0.09709091,\n",
       "       -0.40497762,  0.50500244,  0.20722719, -0.08869831, -0.1671783 ,\n",
       "        0.24191411,  0.63392675,  0.19372137, -0.13068   , -0.5609242 ,\n",
       "        0.51847905,  0.24869823,  0.17038104, -0.55257934,  0.16541915,\n",
       "       -0.14402887,  0.11609458, -0.32998183,  0.20204453,  0.945887  ,\n",
       "        0.6765706 ,  0.5439616 , -0.00120888,  0.2555577 ,  0.6199387 ,\n",
       "        0.5634515 ,  0.23374334, -0.9863349 ,  0.27871728,  0.53751904,\n",
       "       -0.3455263 ,  0.16930625,  0.08203509, -0.92262053, -0.08210427,\n",
       "       -0.46048766,  0.8764522 ,  0.07850658, -0.09670198, -0.58947664,\n",
       "        0.21407408,  0.19277608,  0.8152759 , -0.04376224,  0.51519537,\n",
       "        0.29162803, -0.50871253,  0.58341336, -0.9178309 ,  0.1750389 ,\n",
       "       -0.21646674, -0.34281158, -0.30622935, -0.20311761,  0.0746598 ,\n",
       "        0.15888792,  0.35771748,  0.25658575, -0.12490788, -0.3754719 ,\n",
       "        0.02483504, -0.1362193 , -0.5606747 , -0.23806965,  0.05602851,\n",
       "       -0.7805371 ,  0.21424897,  0.11412235, -0.43575525,  0.22922826,\n",
       "        0.03038465, -0.0340197 , -0.57766503, -0.37160864,  0.5776455 ,\n",
       "        0.9264924 ,  0.79476416, -0.3336842 ,  0.0966225 ,  0.68610394,\n",
       "        0.32359228, -0.1104793 , -0.04019407, -0.5891702 , -0.1747344 ,\n",
       "        0.8095517 , -0.2015084 ,  0.36014014, -0.12909546, -0.37266034,\n",
       "       -0.16192852, -0.6508256 ,  0.26340643,  0.00547981, -0.289973  ,\n",
       "        0.51104224, -0.32439455, -0.30251274, -0.24801949,  0.16944365,\n",
       "       -0.48344383, -0.3676122 , -0.8347913 , -0.36503607, -0.3787056 ,\n",
       "       -0.4947899 , -0.38806388, -0.22378053,  0.8553421 ,  0.39641684,\n",
       "        0.29746392,  0.09488462, -0.25101945, -0.3708529 , -0.06222121,\n",
       "        0.15907443, -0.33881193, -0.35604855,  0.51951563, -0.06901771,\n",
       "       -0.09730567, -0.48568204, -0.27633014, -0.5587855 ,  0.32070088,\n",
       "        0.6217222 , -0.30620846,  0.0643798 ,  0.39712515,  0.99656844,\n",
       "        0.47723812,  0.4687438 ,  0.00932463,  0.26653937,  0.38035905,\n",
       "       -0.26262066,  0.02212954,  0.4551519 , -0.05818113,  0.65977114,\n",
       "       -0.27279013, -0.58226806, -0.48434582, -0.24787785, -0.36533552,\n",
       "        0.23986499,  0.09458616, -0.60604197,  0.10090619, -0.07191209,\n",
       "       -0.4741894 ,  0.64986724, -0.08946765, -0.29313314, -0.75343645,\n",
       "       -0.00916241, -0.2822191 ,  0.13496059, -0.18366589,  0.00178404,\n",
       "        0.7784166 ,  0.09745538,  0.45422894, -0.455144  ,  0.5913024 ,\n",
       "       -0.61109847,  0.35343218, -0.4381894 ,  0.47302875, -0.3156395 ],\n",
       "      dtype=float32)"
      ]
     },
     "execution_count": 33,
     "metadata": {},
     "output_type": "execute_result"
    }
   ],
   "source": [
    "ksh_vector"
   ]
  },
  {
   "cell_type": "code",
   "execution_count": 34,
   "id": "01c22204",
   "metadata": {},
   "outputs": [
    {
     "data": {
      "text/plain": [
       "array([-1.12167727e-02,  1.21935466e-02,  1.02083646e-02, -2.49026925e-03,\n",
       "        1.00168278e-02,  8.86143185e-04,  1.25396615e-02, -8.45939619e-04,\n",
       "        3.78033699e-04,  9.23457649e-03,  1.74427684e-02, -1.51049644e-02,\n",
       "        7.41876941e-03,  1.46128116e-02, -4.25600307e-03, -2.20979806e-02,\n",
       "        5.99082187e-03,  7.58827245e-03,  2.09751562e-03,  1.22073963e-02,\n",
       "        2.66980119e-02, -3.69610754e-03,  8.01541284e-03, -1.82683654e-02,\n",
       "        2.90084593e-02,  2.13786867e-02, -5.19963032e-05,  2.52362527e-02,\n",
       "        1.95672512e-02, -8.32179654e-03, -1.89809594e-02,  3.58355679e-02,\n",
       "        3.67465876e-02, -3.85902799e-03,  1.97851863e-02,  2.42417362e-02,\n",
       "       -1.05647184e-03,  1.52649470e-02, -1.49557162e-02,  1.14693362e-02,\n",
       "       -7.20409676e-03,  7.93151651e-03,  3.78678404e-02, -1.62320845e-02,\n",
       "       -2.59033288e-03,  4.10149479e-03,  1.08587211e-02,  5.46410365e-06,\n",
       "       -2.55750921e-02,  3.60568352e-02,  7.87871890e-03,  8.51148553e-03,\n",
       "        3.53202713e-03, -1.32895121e-03,  1.86303705e-02,  3.08445487e-02,\n",
       "        1.76397543e-02, -1.81119479e-02,  6.95061986e-04,  2.63759680e-02,\n",
       "       -1.05712074e-03,  2.50584111e-02,  2.03708317e-02, -5.88482153e-03,\n",
       "        2.25911364e-02, -1.32377706e-02,  8.02813098e-04,  1.65544748e-02,\n",
       "       -2.61245877e-03, -1.43768452e-02,  2.79292595e-02, -7.09139416e-03,\n",
       "        2.03879140e-02,  7.25153321e-03,  1.33424085e-02,  1.47664361e-02,\n",
       "       -6.71963394e-03, -1.77609175e-02, -2.56635528e-02,  2.45889630e-02,\n",
       "       -1.36980219e-02,  6.77443575e-03,  1.37661421e-03,  1.15048885e-02,\n",
       "        5.72770508e-03,  7.79663352e-03, -1.51817221e-02,  7.14635476e-03,\n",
       "       -4.98723378e-03,  2.85064820e-02,  1.80285238e-02,  2.72759479e-02,\n",
       "        3.49499728e-03, -2.74740495e-02, -2.79852259e-03,  6.60402607e-03,\n",
       "        2.24839095e-02,  3.63662187e-03,  5.72076906e-03, -1.34116448e-02,\n",
       "       -3.66553455e-03,  1.99190695e-02, -6.05619466e-03, -7.05083273e-03,\n",
       "        7.70919910e-03,  2.73728799e-02,  1.18673705e-02, -3.76530248e-03,\n",
       "        9.41913296e-03,  1.67521816e-02,  2.69259103e-02,  4.69489722e-03,\n",
       "       -4.31899168e-03, -1.89003851e-02, -1.51215624e-02,  2.75265332e-02,\n",
       "       -1.12573840e-02,  1.50906304e-02, -1.56111121e-02,  3.63460771e-04,\n",
       "        6.38647878e-04, -1.99261270e-02,  2.36095022e-02, -6.10913197e-03,\n",
       "       -4.67445701e-03,  2.32561305e-02,  1.58129949e-02, -9.51297488e-03,\n",
       "        1.54200969e-02, -1.45028224e-02,  7.71257142e-03, -1.71293840e-02,\n",
       "        7.87565950e-03, -1.18919285e-02, -9.40566044e-03, -1.54567724e-02,\n",
       "        1.50323706e-02,  1.99760515e-02,  4.20487747e-02,  1.56489294e-02,\n",
       "       -4.52998281e-03,  1.35754626e-02, -3.69744562e-03,  9.90503095e-03,\n",
       "       -1.77367404e-02,  2.07046382e-02,  2.77227518e-04, -1.56701487e-02,\n",
       "        3.75650711e-02,  9.28833243e-03, -8.89503211e-03,  1.61942616e-02,\n",
       "        1.09160421e-02, -1.99720711e-02,  6.45080162e-03,  2.76403259e-02,\n",
       "       -7.29852542e-03,  5.54928649e-03,  3.55281751e-03,  2.48406027e-02,\n",
       "        9.56974737e-03,  1.52019924e-02,  2.32839608e-03,  8.40886403e-03,\n",
       "        8.85528047e-03, -1.42794689e-02, -4.57856990e-03, -7.46642333e-03,\n",
       "        1.61643364e-02, -2.28682120e-06, -5.57129597e-03,  4.00617439e-03,\n",
       "        9.34406277e-03, -2.74737440e-02,  2.64526345e-03, -3.60140344e-04,\n",
       "        3.31267379e-02, -1.18326014e-02,  1.93212926e-02, -2.60359421e-02,\n",
       "       -1.20515274e-02,  3.73094678e-02,  1.04598813e-02, -2.54521798e-03,\n",
       "       -4.69480362e-03, -1.24867242e-02,  2.99848296e-04,  1.80652048e-02,\n",
       "        1.45492386e-02,  4.32639197e-03,  2.20213644e-02,  1.02764321e-02,\n",
       "        2.40671411e-02, -3.52469797e-04,  2.90109101e-03, -7.67289312e-04,\n",
       "       -1.12268347e-02,  8.98736157e-03,  1.23306764e-02,  1.11106262e-02],\n",
       "      dtype=float32)"
      ]
     },
     "execution_count": 34,
     "metadata": {},
     "output_type": "execute_result"
    }
   ],
   "source": [
    "harrysally_vector"
   ]
  },
  {
   "cell_type": "code",
   "execution_count": 35,
   "id": "5593ce2f",
   "metadata": {},
   "outputs": [
    {
     "data": {
      "text/plain": [
       "0.5992108"
      ]
     },
     "execution_count": 35,
     "metadata": {},
     "output_type": "execute_result"
    }
   ],
   "source": [
    "# 두 벡터의 내적 구하기\n",
    "np.dot(ksh_vector, harrysally_vector)"
   ]
  },
  {
   "cell_type": "markdown",
   "id": "fc3107dc",
   "metadata": {},
   "source": [
    "아마 선호 리스트에 있는 영화들이 전부 비슷한 영화가 아니라서 내적 값이 낮을 수도 있겠다는 생각을 했다.\n",
    "<br> 선호 리스트에 있지만 조금 다른 성격인 '대부' 영화와의 내적 값도 구해봐야겠다."
   ]
  },
  {
   "cell_type": "code",
   "execution_count": 36,
   "id": "29de5502",
   "metadata": {},
   "outputs": [
    {
     "data": {
      "text/plain": [
       "0.73907024"
      ]
     },
     "execution_count": 36,
     "metadata": {},
     "output_type": "execute_result"
    }
   ],
   "source": [
    "godfather = movie_to_idx['Godfather, The (1972)']\n",
    "godfather_vector = als_model.item_factors[godfather]\n",
    "np.dot(ksh_vector, godfather_vector)"
   ]
  },
  {
   "cell_type": "markdown",
   "id": "b179f8b5",
   "metadata": {},
   "source": [
    "이 정도면 꽤 높은 것 같다.<br>\n",
    "선호 리스트 내의 나머지 영화들과의 내적 값을 다 구해봐야겠다.\n"
   ]
  },
  {
   "cell_type": "code",
   "execution_count": 37,
   "id": "a0c61cec",
   "metadata": {},
   "outputs": [
    {
     "data": {
      "text/plain": [
       "0.75819427"
      ]
     },
     "execution_count": 37,
     "metadata": {},
     "output_type": "execute_result"
    }
   ],
   "source": [
    "titanic = movie_to_idx['Titanic (1997)']\n",
    "titanic_vector = als_model.item_factors[titanic]\n",
    "np.dot(ksh_vector, titanic_vector)"
   ]
  },
  {
   "cell_type": "code",
   "execution_count": 38,
   "id": "6506c10b",
   "metadata": {},
   "outputs": [
    {
     "data": {
      "text/plain": [
       "0.238681"
      ]
     },
     "execution_count": 38,
     "metadata": {},
     "output_type": "execute_result"
    }
   ],
   "source": [
    "beforesr = movie_to_idx['Before Sunrise (1995)']\n",
    "beforesr_vector = als_model.item_factors[beforesr]\n",
    "np.dot(ksh_vector, beforesr_vector)"
   ]
  },
  {
   "cell_type": "code",
   "execution_count": 39,
   "id": "432c11b5",
   "metadata": {},
   "outputs": [
    {
     "data": {
      "text/plain": [
       "0.7104324"
      ]
     },
     "execution_count": 39,
     "metadata": {},
     "output_type": "execute_result"
    }
   ],
   "source": [
    "shawshank = movie_to_idx['Shawshank Redemption, The (1994)']\n",
    "shawshank_vector = als_model.item_factors[shawshank]\n",
    "np.dot(ksh_vector, shawshank_vector)"
   ]
  },
  {
   "cell_type": "markdown",
   "id": "1dcaf77f",
   "metadata": {},
   "source": [
    "'비포 선라이즈' 빼고는 다 내적 값들이 꽤 높다.\n",
    "<br>선호하지 않는 영화와의 벡터 내적도 구해서 판단해봐야겠다."
   ]
  },
  {
   "cell_type": "code",
   "execution_count": 40,
   "id": "e1287b0c",
   "metadata": {},
   "outputs": [
    {
     "data": {
      "text/plain": [
       "-0.06380094"
      ]
     },
     "execution_count": 40,
     "metadata": {},
     "output_type": "execute_result"
    }
   ],
   "source": [
    "jumanji = movie_to_idx['Jumanji (1995)']\n",
    "jumanji_vector = als_model.item_factors[jumanji]\n",
    "np.dot(ksh_vector, jumanji_vector)"
   ]
  },
  {
   "cell_type": "markdown",
   "id": "014a5bcd",
   "metadata": {},
   "source": [
    "음수가 나오는 것을 보니 그렇게 나쁘진 않은 듯 하다."
   ]
  },
  {
   "cell_type": "markdown",
   "id": "d064889c",
   "metadata": {},
   "source": [
    "---\n",
    "## 7. 내가 좋아하는 영화와 비슷한 영화 추천"
   ]
  },
  {
   "cell_type": "code",
   "execution_count": 41,
   "id": "1615d6b2",
   "metadata": {},
   "outputs": [
    {
     "data": {
      "text/plain": [
       "[(488, 1.0000001),\n",
       " (13, 0.46663824),\n",
       " (169, 0.41589022),\n",
       " (961, 0.38222808),\n",
       " (1144, 0.37713954),\n",
       " (369, 0.3634962),\n",
       " (19, 0.34664577),\n",
       " (3079, 0.34029678),\n",
       " (786, 0.33941895),\n",
       " (946, 0.33535925),\n",
       " (3008, 0.32969403),\n",
       " (3182, 0.32881036),\n",
       " (1155, 0.3275481),\n",
       " (3201, 0.32688415),\n",
       " (3199, 0.32588887)]"
      ]
     },
     "execution_count": 41,
     "metadata": {},
     "output_type": "execute_result"
    }
   ],
   "source": [
    "favorite_movie = 'When Harry Met Sally... (1989)'\n",
    "movie_id = movie_to_idx[favorite_movie]\n",
    "similar_movie = als_model.similar_items(movie_id, N=15)\n",
    "similar_movie"
   ]
  },
  {
   "cell_type": "code",
   "execution_count": 42,
   "id": "7d4572fc",
   "metadata": {},
   "outputs": [
    {
     "data": {
      "text/plain": [
       "['When Harry Met Sally... (1989)',\n",
       " \"Ferris Bueller's Day Off (1986)\",\n",
       " 'Fish Called Wanda, A (1988)',\n",
       " 'Say Anything... (1989)',\n",
       " 'Bull Durham (1988)',\n",
       " 'Witness (1985)',\n",
       " 'Big (1988)',\n",
       " 'Free Willy 3: The Rescue (1997)',\n",
       " 'Broadcast News (1987)',\n",
       " 'Parenthood (1989)',\n",
       " 'House Party 3 (1994)',\n",
       " 'Cabinet of Dr. Ramirez, The (1991)',\n",
       " 'Risky Business (1983)',\n",
       " 'Allnighter, The (1987)',\n",
       " 'Garbage Pail Kids Movie, The (1987)']"
      ]
     },
     "execution_count": 42,
     "metadata": {},
     "output_type": "execute_result"
    }
   ],
   "source": [
    "# movie_to_idx 를 뒤집어, index로부터 movie 이름을 얻는 dict를 생성\n",
    "idx_to_movie = {v:k for k,v in movie_to_idx.items()}\n",
    "[idx_to_movie[i[0]] for i in similar_movie]"
   ]
  },
  {
   "cell_type": "code",
   "execution_count": 43,
   "id": "f7b31b68",
   "metadata": {},
   "outputs": [],
   "source": [
    "# 비슷한 영화를 알려주는 함수\n",
    "def get_similar_movie(movie_title: str):\n",
    "    movie_id = movie_to_idx[movie_title]\n",
    "    similar_movie = als_model.similar_items(movie_id)\n",
    "    similar_movie = [idx_to_movie[i[0]] for i in similar_movie]\n",
    "    return similar_movie"
   ]
  },
  {
   "cell_type": "code",
   "execution_count": 44,
   "id": "0fbbc9b9",
   "metadata": {},
   "outputs": [
    {
     "data": {
      "text/plain": [
       "['Titanic (1997)',\n",
       " \"You've Got Mail (1998)\",\n",
       " 'Real Blonde, The (1997)',\n",
       " 'Snow Day (2000)',\n",
       " 'Saragossa Manuscript, The (Rekopis znaleziony w Saragossie) (1965)',\n",
       " 'Walking Dead, The (1995)',\n",
       " 'Paris, France (1993)',\n",
       " 'Held Up (2000)',\n",
       " 'City of Angels (1998)',\n",
       " 'Gold Diggers: The Secret of Bear Mountain (1995)']"
      ]
     },
     "execution_count": 44,
     "metadata": {},
     "output_type": "execute_result"
    }
   ],
   "source": [
    "get_similar_movie('Titanic (1997)')"
   ]
  },
  {
   "cell_type": "code",
   "execution_count": 45,
   "id": "aa86ff57",
   "metadata": {},
   "outputs": [
    {
     "data": {
      "text/plain": [
       "['Godfather, The (1972)',\n",
       " 'Godfather: Part II, The (1974)',\n",
       " 'Godfather: Part III, The (1990)',\n",
       " 'French Connection, The (1971)',\n",
       " 'Boys, The (1997)',\n",
       " \"Squanto: A Warrior's Tale (1994)\",\n",
       " 'Niagara, Niagara (1997)',\n",
       " 'Total Eclipse (1995)',\n",
       " \"Star Maker, The (Uomo delle stelle, L') (1995)\",\n",
       " 'Held Up (2000)']"
      ]
     },
     "execution_count": 45,
     "metadata": {},
     "output_type": "execute_result"
    }
   ],
   "source": [
    "get_similar_movie('Godfather, The (1972)')"
   ]
  },
  {
   "cell_type": "code",
   "execution_count": 46,
   "id": "248143af",
   "metadata": {},
   "outputs": [
    {
     "data": {
      "text/plain": [
       "['Before Sunrise (1995)',\n",
       " 'Kicking and Screaming (1995)',\n",
       " 'Heavy (1995)',\n",
       " 'Barcelona (1994)',\n",
       " 'Amateur (1994)',\n",
       " 'Pillow Book, The (1995)',\n",
       " 'Guinevere (1999)',\n",
       " 'Hotel de Love (1996)',\n",
       " 'Eight Days a Week (1997)',\n",
       " 'What Happened Was... (1994)']"
      ]
     },
     "execution_count": 46,
     "metadata": {},
     "output_type": "execute_result"
    }
   ],
   "source": [
    "get_similar_movie('Before Sunrise (1995)')"
   ]
  },
  {
   "cell_type": "markdown",
   "id": "5d201aba",
   "metadata": {},
   "source": [
    "역시.. 위에서 봤을 때 '비포 선라이즈'에 대해서 훈련이 잘 안되었기에 나온 영화들도 다 유사하지 않은 듯 싶다."
   ]
  },
  {
   "cell_type": "code",
   "execution_count": 47,
   "id": "a0377a6b",
   "metadata": {},
   "outputs": [
    {
     "data": {
      "text/plain": [
       "['Shawshank Redemption, The (1994)',\n",
       " 'Silence of the Lambs, The (1991)',\n",
       " 'Pulp Fiction (1994)',\n",
       " 'GoodFellas (1990)',\n",
       " 'Good Will Hunting (1997)',\n",
       " 'Fargo (1996)',\n",
       " \"Schindler's List (1993)\",\n",
       " 'Abominable Snowman, The (1957)',\n",
       " 'Brother Minister: The Assassination of Malcolm X (1994)',\n",
       " 'Steel (1997)']"
      ]
     },
     "execution_count": 47,
     "metadata": {},
     "output_type": "execute_result"
    }
   ],
   "source": [
    "get_similar_movie('Shawshank Redemption, The (1994)')"
   ]
  },
  {
   "cell_type": "markdown",
   "id": "15ae09b3",
   "metadata": {},
   "source": [
    "전체적으로 봤을 때는 아무래도 내가 선호리스트에 넣은 영화들이 전부 장르가 'Drama'를 포함하고 있다보니 넓은 의미의 Drama에 속하는 영화들이 많이 나오는 것 같다."
   ]
  },
  {
   "cell_type": "markdown",
   "id": "f2e4fe67",
   "metadata": {},
   "source": [
    "---\n",
    "## 8. 내가 가장 좋아할 만한 영화들을 추천 받기"
   ]
  },
  {
   "cell_type": "code",
   "execution_count": 48,
   "id": "0eb56f08",
   "metadata": {},
   "outputs": [
    {
     "data": {
      "text/plain": [
       "[(380, 0.549508),\n",
       " (121, 0.32259035),\n",
       " (222, 0.26636356),\n",
       " (120, 0.26102972),\n",
       " (22, 0.24442181),\n",
       " (23, 0.24029079),\n",
       " (0, 0.23740897),\n",
       " (100, 0.21402471),\n",
       " (384, 0.20781122),\n",
       " (48, 0.19946867),\n",
       " (110, 0.19940826),\n",
       " (236, 0.18643276),\n",
       " (361, 0.18572938),\n",
       " (99, 0.18343696),\n",
       " (1509, 0.18032329),\n",
       " (415, 0.17805046),\n",
       " (44, 0.17788693),\n",
       " (143, 0.1721884),\n",
       " (269, 0.17158279),\n",
       " (360, 0.16631842)]"
      ]
     },
     "execution_count": 48,
     "metadata": {},
     "output_type": "execute_result"
    }
   ],
   "source": [
    "user = user_to_idx['ksh']\n",
    "# recommend에서는 user*item CSR Matrix를 받음\n",
    "movie_recommended = als_model.recommend(user, csr_data, N=20, filter_already_liked_items=True)\n",
    "movie_recommended"
   ]
  },
  {
   "cell_type": "code",
   "execution_count": 49,
   "id": "16668b89",
   "metadata": {},
   "outputs": [
    {
     "data": {
      "text/plain": [
       "['Godfather: Part II, The (1974)',\n",
       " 'Silence of the Lambs, The (1991)',\n",
       " 'Pulp Fiction (1994)',\n",
       " 'Raiders of the Lost Ark (1981)',\n",
       " 'Back to the Future (1985)',\n",
       " \"Schindler's List (1993)\",\n",
       " \"One Flew Over the Cuckoo's Nest (1975)\",\n",
       " 'Amadeus (1984)',\n",
       " 'Jerry Maguire (1996)',\n",
       " 'Saving Private Ryan (1998)',\n",
       " 'Groundhog Day (1993)',\n",
       " 'Speed (1994)',\n",
       " 'Casablanca (1942)',\n",
       " 'American Beauty (1999)',\n",
       " 'English Patient, The (1996)',\n",
       " 'Cyrano de Bergerac (1990)',\n",
       " 'Star Wars: Episode IV - A New Hope (1977)',\n",
       " 'Gone with the Wind (1939)',\n",
       " 'GoodFellas (1990)',\n",
       " 'Dirty Dancing (1987)']"
      ]
     },
     "execution_count": 49,
     "metadata": {},
     "output_type": "execute_result"
    }
   ],
   "source": [
    "# 인덱스를 영화 제목으로 변환\n",
    "[idx_to_movie[i[0]] for i in movie_recommended]"
   ]
  },
  {
   "cell_type": "code",
   "execution_count": 50,
   "id": "1b4d5335",
   "metadata": {},
   "outputs": [
    {
     "data": {
      "text/plain": [
       "[('Shawshank Redemption, The (1994)', 0.08939266873224008),\n",
       " ('Titanic (1997)', 0.06652516776484421),\n",
       " ('When Harry Met Sally... (1989)', 0.04468346385072301),\n",
       " ('Before Sunrise (1995)', 0.004531150360652448),\n",
       " ('Godfather, The (1972)', 0.0016739897803242916)]"
      ]
     },
     "execution_count": 50,
     "metadata": {},
     "output_type": "execute_result"
    }
   ],
   "source": [
    "# 사용자가 기록을 남긴 데이터가 특정 영화 추천에 기여한 정도를 확인\n",
    "recommended = movie_to_idx['Jerry Maguire (1996)']\n",
    "explain = als_model.explain(user, csr_data, itemid=recommended)\n",
    "\n",
    "[(idx_to_movie[i[0]], i[1]) for i in explain[1]]"
   ]
  },
  {
   "cell_type": "markdown",
   "id": "90f64633",
   "metadata": {},
   "source": [
    "어느 정도 드라마의 장르로서 다 비슷하기 때문에 기여도도 비슷한 것 같다."
   ]
  },
  {
   "cell_type": "code",
   "execution_count": 51,
   "id": "164e9146",
   "metadata": {},
   "outputs": [
    {
     "data": {
      "text/plain": [
       "[('Shawshank Redemption, The (1994)', 0.2970084431707042),\n",
       " ('When Harry Met Sally... (1989)', 0.04031888907632661),\n",
       " ('Godfather, The (1972)', -0.0011773857986774512),\n",
       " ('Titanic (1997)', -0.0013335785511744479),\n",
       " ('Before Sunrise (1995)', -0.01516501540724724)]"
      ]
     },
     "execution_count": 51,
     "metadata": {},
     "output_type": "execute_result"
    }
   ],
   "source": [
    "recommended = movie_to_idx['Silence of the Lambs, The (1991)']\n",
    "explain = als_model.explain(user, csr_data, itemid=recommended)\n",
    "\n",
    "[(idx_to_movie[i[0]], i[1]) for i in explain[1]]"
   ]
  },
  {
   "cell_type": "markdown",
   "id": "0aa48515",
   "metadata": {},
   "source": [
    "'양들의 침묵'은 '쇼생크 탈출' 때문에 추천된 바가 큰 것 같다."
   ]
  },
  {
   "cell_type": "code",
   "execution_count": 52,
   "id": "9cc13af9",
   "metadata": {
    "scrolled": true
   },
   "outputs": [
    {
     "data": {
      "text/plain": [
       "[('Godfather, The (1972)', 0.602169656786381),\n",
       " ('Shawshank Redemption, The (1994)', 0.012884209040845107),\n",
       " ('Before Sunrise (1995)', -0.001741063837238645),\n",
       " ('When Harry Met Sally... (1989)', -0.020372549557015472),\n",
       " ('Titanic (1997)', -0.050491735675381316)]"
      ]
     },
     "execution_count": 52,
     "metadata": {},
     "output_type": "execute_result"
    }
   ],
   "source": [
    "recommended = movie_to_idx['Godfather: Part II, The (1974)']\n",
    "explain = als_model.explain(user, csr_data, itemid=recommended)\n",
    "\n",
    "[(idx_to_movie[i[0]], i[1]) for i in explain[1]]"
   ]
  },
  {
   "cell_type": "markdown",
   "id": "f35c5f83",
   "metadata": {},
   "source": [
    "역시 전작인 '대부1'의 영향이 제일 크고, 정통 로맨스 드라마인 '타이타닉'과 '해리가 샐리를 만났을 때', '비포 선라이즈'와의 유사도는 음수인 것을 봤을 때 확실한 성향을 띄어야 좀 제대로 결과가 나오는 것 같다."
   ]
  },
  {
   "cell_type": "markdown",
   "id": "98850acc",
   "metadata": {},
   "source": [
    "---"
   ]
  },
  {
   "cell_type": "markdown",
   "id": "a93b6c93",
   "metadata": {},
   "source": [
    "# 회고"
   ]
  },
  {
   "cell_type": "markdown",
   "id": "b8015c46",
   "metadata": {},
   "source": [
    "#### 데이터셋에 관하여\n",
    "- 일단 가장 기본적인 영화 데이터셋이 Movielens 데이터셋을 사용하니 제일 별로였던 점은 최근 영화가 하나도 없다는 것이었다. 7,80년대는 물론이고 아주 초창기의 30년대 영화까지 있는데 2000년 이후의 영화들이 없어서 아쉬웠다. 선호 영화 리스트에도 엄청 유명한 명작들 위주로만 넣을 수 밖에 없었고, 그러다보니 확실하게 내가 선호하는 영화들보다는 드라마 장르 영화 위주로 넣어서 결과가 아쉽게 나올 수 밖에 없었던 것 같다. 나중에 꼭 최신 영화들까지 있는 데이터셋, 더 많은 자료가 포함된 데이터셋으로 꼭 다시 해보고 싶다.<br><br>\n",
    "- ratings 데이터셋과 movies 데이터셋을 처음에는 병합하지 않고 따로 진행하다가, 중간에 너무 번거로울 일이 많이 생겼다. 나의 선호 영화 리스트를 추가해줄 때도 애매했고, 나중에 CSR matrix를 만들어줄 때도 계속 오류가 났다. 그래서 다시 처음으로 돌아가서 두 데이터셋을 병합해서 하나의 데이터셋으로 만들어주고 진행하니 훨씬 편했다. 두 데이터셋의 공통인 movie_id를 기준으로 병합해주었는데, 앞으로 이런 데이터셋 병합을 더 연습할 일이 많이 있었으면 좋겠다."
   ]
  },
  {
   "cell_type": "markdown",
   "id": "55e26172",
   "metadata": {},
   "source": [
    "#### 모델 생성, 훈련 과정에 관하여\n",
    "- 우선 이번에는 가장 기본적인 추천 시스템을 연습해보는 것이 주 목적이었기에, CSR matrix를 사용하여 ALS 모델로 학습하고 결과물을 내는 것으로 만족해야 했는데, 그렇기에 여러 아쉬움이 생긴 것 같다. 첫 번째로 데이터셋에서 정말 중요한 특성 중에 하나인 장르를 써먹지도 못하고 그냥 참고용으로만 소비되는 것이 아쉬웠다. 넷플릭스나 왓챠에서 추천해주는 방식을 보면 가장 기준이 되는 것이 장르인데, CSR matrix에서는 단순히 두 특성을 연결시켜서 내적값을 계산하기 때문에 그 두 특성은 유저와 영화 제목이 차지할 수밖에 없고, 장르가 끼어들 틈이 없던 것이다. 바보같이 힘들게 장르까지 인덱싱 다해주고 나서 깨달아서 더 아쉬움이 컸다. CSR이 아닌 다른 방식으로 추천시스템을 만들 때는 꼭 장르가 중요한 특성으로서 들어가야 할 것이고, 그런 방식을 꼭 연습해볼 기회가 있으면 좋겠다.<br><br>\n",
    "- ALS model을 학습시킬 때, 처음 실습 때와 동일하게 파라미터 중에서 factors를 100으로 놓고, iterations도 15로 놓고 진행했는데 생각보다 학습이 잘 안된 것 같은 느낌이 들어서, 각각 200과 20으로 늘려서 했더니 나쁘지 않은 학습이 진행된 것 같았다. factors는 두 특성 사이의 차원값이므로 더 높아질수록 더 정교한 결과가 나올 것이고, iterations도 학습 횟수이므로 더 좋은 학습 결과가 나올 것이다. 과적합이 되지 않는 선에서 적절한 값을 넣는 것이 필요한 것 같다."
   ]
  },
  {
   "cell_type": "markdown",
   "id": "bf4e4d1a",
   "metadata": {},
   "source": [
    "#### 결과에 관하여\n",
    "- 생각보다 결과로 나온 것들이 재미가 없었다. 내가 좋아하는 영화와 비슷한 영화들에 대해서도 그렇게 흥미로운 결과가 나온 것 같지 않고, 내가 좋아할 만한 영화를 추천 받는 것도 그냥 그저 그랬다. 확실히 영화들이 다 옛날 영화고 고전 영화들이 많아서 그런 것 같기도 하고, 또 다른 이유를 추측해보자면 처음에 나의 선호 영화 리스트를 정할 때 너무 뻔한 결과들이 나올만한 영화들을 선정해서 그런 것 같기도 하다. 또 영화 다섯 개를 지정할 때 다 비슷한 영화들로 정했어야 했는데, 내가 그나마 좋아하는 영화들로 채워넣으니깐 다섯 개의 영화가 일관성이 좀 부족했던 것 같다. 그래서 결과도 좀 애매하고 아리송하게 나온 것 같다. 물론 벡터 내적값도 높고 유사도도 어느 정도 괜찮은 정도로 나와서 프로젝트가 성공이라고 할 수 있겠지만, 전체적으로 만족스럽지는 않다.\n",
    "<br><br>\n",
    "- 더 최신 영화들과 더 많은 영화들로 이루어진 데이터셋으로, 선호 영화들 지정도 좀더 일관성 있게, 더 고도화된 모델로 한번 추천시스템을 제대로 실습할 수 있었으면 좋겠다."
   ]
  }
 ],
 "metadata": {
  "kernelspec": {
   "display_name": "Python 3 (ipykernel)",
   "language": "python",
   "name": "python3"
  },
  "language_info": {
   "codemirror_mode": {
    "name": "ipython",
    "version": 3
   },
   "file_extension": ".py",
   "mimetype": "text/x-python",
   "name": "python",
   "nbconvert_exporter": "python",
   "pygments_lexer": "ipython3",
   "version": "3.9.7"
  }
 },
 "nbformat": 4,
 "nbformat_minor": 5
}
