{
 "cells": [
  {
   "cell_type": "markdown",
   "id": "a07c68f6",
   "metadata": {},
   "source": [
    "# 네이버 영화리뷰 감성분석하기"
   ]
  },
  {
   "cell_type": "markdown",
   "id": "a25ea90d",
   "metadata": {},
   "source": [
    "## 1. 데이터 준비와 확인"
   ]
  },
  {
   "cell_type": "code",
   "execution_count": 1,
   "id": "cbfef5ce",
   "metadata": {},
   "outputs": [],
   "source": [
    "# 모듈 불러오기\n",
    "\n",
    "import pandas as pd\n",
    "from konlpy.tag import Mecab\n",
    "import numpy as np\n",
    "from collections import Counter\n",
    "import os\n",
    "import tensorflow as tf\n",
    "from tensorflow import keras\n",
    "from tensorflow.keras.preprocessing.sequence import pad_sequences\n",
    "import matplotlib.pyplot as plt\n",
    "import gensim\n",
    "from gensim.models import KeyedVectors\n",
    "from gensim.models.keyedvectors import Word2VecKeyedVectors\n",
    "from gensim.models import Word2Vec\n",
    "from tensorflow.keras.initializers import Constant\n",
    " "
   ]
  },
  {
   "cell_type": "code",
   "execution_count": 2,
   "id": "5e18d647",
   "metadata": {},
   "outputs": [
    {
     "data": {
      "text/html": [
       "<div>\n",
       "<style scoped>\n",
       "    .dataframe tbody tr th:only-of-type {\n",
       "        vertical-align: middle;\n",
       "    }\n",
       "\n",
       "    .dataframe tbody tr th {\n",
       "        vertical-align: top;\n",
       "    }\n",
       "\n",
       "    .dataframe thead th {\n",
       "        text-align: right;\n",
       "    }\n",
       "</style>\n",
       "<table border=\"1\" class=\"dataframe\">\n",
       "  <thead>\n",
       "    <tr style=\"text-align: right;\">\n",
       "      <th></th>\n",
       "      <th>id</th>\n",
       "      <th>document</th>\n",
       "      <th>label</th>\n",
       "    </tr>\n",
       "  </thead>\n",
       "  <tbody>\n",
       "    <tr>\n",
       "      <th>0</th>\n",
       "      <td>9976970</td>\n",
       "      <td>아 더빙.. 진짜 짜증나네요 목소리</td>\n",
       "      <td>0</td>\n",
       "    </tr>\n",
       "    <tr>\n",
       "      <th>1</th>\n",
       "      <td>3819312</td>\n",
       "      <td>흠...포스터보고 초딩영화줄....오버연기조차 가볍지 않구나</td>\n",
       "      <td>1</td>\n",
       "    </tr>\n",
       "    <tr>\n",
       "      <th>2</th>\n",
       "      <td>10265843</td>\n",
       "      <td>너무재밓었다그래서보는것을추천한다</td>\n",
       "      <td>0</td>\n",
       "    </tr>\n",
       "    <tr>\n",
       "      <th>3</th>\n",
       "      <td>9045019</td>\n",
       "      <td>교도소 이야기구먼 ..솔직히 재미는 없다..평점 조정</td>\n",
       "      <td>0</td>\n",
       "    </tr>\n",
       "    <tr>\n",
       "      <th>4</th>\n",
       "      <td>6483659</td>\n",
       "      <td>사이몬페그의 익살스런 연기가 돋보였던 영화!스파이더맨에서 늙어보이기만 했던 커스틴 ...</td>\n",
       "      <td>1</td>\n",
       "    </tr>\n",
       "  </tbody>\n",
       "</table>\n",
       "</div>"
      ],
      "text/plain": [
       "         id                                           document  label\n",
       "0   9976970                                아 더빙.. 진짜 짜증나네요 목소리      0\n",
       "1   3819312                  흠...포스터보고 초딩영화줄....오버연기조차 가볍지 않구나      1\n",
       "2  10265843                                  너무재밓었다그래서보는것을추천한다      0\n",
       "3   9045019                      교도소 이야기구먼 ..솔직히 재미는 없다..평점 조정      0\n",
       "4   6483659  사이몬페그의 익살스런 연기가 돋보였던 영화!스파이더맨에서 늙어보이기만 했던 커스틴 ...      1"
      ]
     },
     "execution_count": 2,
     "metadata": {},
     "output_type": "execute_result"
    }
   ],
   "source": [
    "# 데이터 불러오기\n",
    "train_data = pd.read_table('~/aiffel/sentiment_classification/data/ratings_train.txt')\n",
    "test_data = pd.read_table('~/aiffel/sentiment_classification/data/ratings_test.txt')\n",
    "\n",
    "train_data.head()"
   ]
  },
  {
   "cell_type": "markdown",
   "id": "20bb2af9",
   "metadata": {},
   "source": [
    "label값을 보면 부정적인 내용의 라벨은 0, 긍정적인 내용의 라벨은 1이다."
   ]
  },
  {
   "cell_type": "markdown",
   "id": "97a08079",
   "metadata": {},
   "source": [
    "---"
   ]
  },
  {
   "cell_type": "markdown",
   "id": "6da4382c",
   "metadata": {},
   "source": [
    "## 2. 데이터로더 구성"
   ]
  },
  {
   "cell_type": "code",
   "execution_count": 3,
   "id": "64aaae19",
   "metadata": {},
   "outputs": [],
   "source": [
    "tokenizer = Mecab() # 형태소 분석기 mecab 사용\n",
    "stopwords = ['의','가','이','은','들','는','좀','잘','걍','과','도','를','으로','자','에','와','한','하다'] # 불용어\n",
    "\n",
    "# load_data 함수 정의\n",
    "def load_data(train_data, test_data, num_words=10000):\n",
    "    train_data.drop_duplicates(subset=['document'], inplace=True) # train 데이터의 중복 제거\n",
    "    train_data = train_data.dropna(how = 'any') # train 데이터의 NaN 결측치 제거\n",
    "    test_data.drop_duplicates(subset=['document'], inplace=True) # test 데이터의 중복 제거\n",
    "    test_data = test_data.dropna(how = 'any') # test 데이터의 NaN 결측치 제거\n",
    "    \n",
    "    X_train = []\n",
    "    for sentence in train_data['document']:\n",
    "        temp_X = tokenizer.morphs(sentence) # 한국어 토크나이저로 토큰화 (morphs : 형태소 추출)\n",
    "        temp_X = [word for word in temp_X if not word in stopwords] # 불용어 제거\n",
    "        X_train.append(temp_X)\n",
    "\n",
    "    X_test = []\n",
    "    for sentence in test_data['document']:\n",
    "        temp_X = tokenizer.morphs(sentence) # 한국어 토크나이저로 토큰화 (morphs : 형태소 추출)\n",
    "        temp_X = [word for word in temp_X if not word in stopwords] # 불용어 제거\n",
    "        X_test.append(temp_X)\n",
    "        \n",
    "    # 사전 word_to_index {단어:인덱스} 구성\n",
    "    words = np.concatenate(X_train).tolist() # 토큰화시킨 단어들을 모두 한 리스트에 몰아넣음\n",
    "    counter = Counter(words) # 각 단어의 개수 카운팅해서 정렬\n",
    "    counter = counter.most_common(10000-4) # 가장 개수가 많은 단어들 순서대로 (10000-4)개 리턴\n",
    "    vocab = ['<PAD>', '<BOS>', '<UNK>', '<UNUSED>'] + [key for key, _ in counter] # 특수 토큰 4개 추가\n",
    "    word_to_index = {word:index for index, word in enumerate(vocab)} # {단어:인덱스}형태로 사전 구성\n",
    "        \n",
    "    # 리뷰 텍스트를 사전의 인덱스로 변환\n",
    "    def wordlist_to_indexlist(wordlist):\n",
    "        return [word_to_index[word] if word in word_to_index else word_to_index['<UNK>'] for word in wordlist]\n",
    "        \n",
    "    X_train = list(map(wordlist_to_indexlist, X_train))\n",
    "    X_test = list(map(wordlist_to_indexlist, X_test))\n",
    "    \n",
    "    # X_train, y_train, X_test, y_test, word_to_index 리턴\n",
    "    return X_train, np.array(list(train_data['label'])), X_test, np.array(list(test_data['label'])), word_to_index"
   ]
  },
  {
   "cell_type": "code",
   "execution_count": 4,
   "id": "4bb8d2cd",
   "metadata": {},
   "outputs": [],
   "source": [
    "# 데이터셋 생성\n",
    "X_train, y_train, X_test, y_test, word_to_index = load_data(train_data, test_data)"
   ]
  },
  {
   "cell_type": "code",
   "execution_count": 5,
   "id": "d2da1e49",
   "metadata": {},
   "outputs": [
    {
     "name": "stdout",
     "output_type": "stream",
     "text": [
      "훈련 샘플 개수: 146182, 테스트 개수: 49157\n"
     ]
    }
   ],
   "source": [
    "print(\"훈련 샘플 개수: {}, 테스트 개수: {}\".format(len(X_train), len(X_test)))"
   ]
  },
  {
   "cell_type": "code",
   "execution_count": 6,
   "id": "8ae5007b",
   "metadata": {},
   "outputs": [],
   "source": [
    "# 사전 index_to_word {인덱스:단어} 생성\n",
    "index_to_word = {index:word for word, index in word_to_index.items()}"
   ]
  },
  {
   "cell_type": "code",
   "execution_count": 7,
   "id": "1f74baac",
   "metadata": {},
   "outputs": [
    {
     "name": "stdout",
     "output_type": "stream",
     "text": [
      "<PAD>\n",
      "<BOS>\n",
      "<UNK>\n",
      "<UNUSED>\n",
      ".\n",
      "영화\n",
      "다\n",
      "고\n",
      "하\n",
      "을\n"
     ]
    }
   ],
   "source": [
    "for i in range(10):\n",
    "    print(index_to_word[i])"
   ]
  },
  {
   "cell_type": "code",
   "execution_count": 8,
   "id": "ded98cfa",
   "metadata": {},
   "outputs": [
    {
     "name": "stdout",
     "output_type": "stream",
     "text": [
      "5\n",
      "94\n",
      "80\n"
     ]
    }
   ],
   "source": [
    "print(word_to_index['영화'])\n",
    "print(word_to_index['재미'])\n",
    "print(word_to_index['감동'])"
   ]
  },
  {
   "cell_type": "code",
   "execution_count": 9,
   "id": "6d1e39b3",
   "metadata": {},
   "outputs": [],
   "source": [
    "# 문장 인코딩과 디코딩 함수 정의\n",
    "\n",
    "# 문장 1개를 활용할 딕셔너리와 함께 주면, 단어 인덱스 리스트 벡터로 변환해 주는 함수\n",
    "# 단, 모든 문장은 <BOS>로 시작하는 것으로 한다. \n",
    "def get_encoded_sentence(sentence, word_to_index):\n",
    "    return [word_to_index['<BOS>']]+[word_to_index[word] if word in word_to_index else word_to_index['<UNK>'] for word in sentence.split()]\n",
    "\n",
    "# 여러 개의 문장 리스트를 한꺼번에 단어 인덱스 리스트 벡터로 encode해 주는 함수 \n",
    "def get_encoded_sentences(sentences, word_to_index):\n",
    "    return [get_encoded_sentence(sentence, word_to_index) for sentence in sentences]\n",
    "\n",
    "# 숫자 벡터로 encode된 문장을 원래대로 decode하는 함수 \n",
    "def get_decoded_sentence(encoded_sentence, index_to_word):\n",
    "    return ' '.join(index_to_word[index] if index in index_to_word else '<UNK>' for index in encoded_sentence[1:])  #[1:]를 통해 <BOS>를 제외\n",
    "\n",
    "# 여러 개의 숫자 벡터로 encode된 문장을 한꺼번에 원래대로 decode하는 함수 \n",
    "def get_decoded_sentences(encoded_sentences, index_to_word):\n",
    "    return [get_decoded_sentence(encoded_sentence, index_to_word) for encoded_sentence in encoded_sentences]"
   ]
  },
  {
   "cell_type": "code",
   "execution_count": 10,
   "id": "c7a500d6",
   "metadata": {
    "scrolled": true
   },
   "outputs": [
    {
     "name": "stdout",
     "output_type": "stream",
     "text": [
      "[32, 74, 919, 4, 4, 39, 228, 20, 33, 748]\n",
      "더 빙 . . 진짜 짜증 나 네요 목소리\n",
      "라벨: 0\n"
     ]
    }
   ],
   "source": [
    "# 데이터 예시 확인\n",
    "\n",
    "print(X_train[0]) # 1번째 리뷰데이터\n",
    "print(get_decoded_sentence(X_train[0], index_to_word))\n",
    "print('라벨:', y_train[0]) # 1번째 리뷰데이터의 라벨"
   ]
  },
  {
   "cell_type": "markdown",
   "id": "ea1a72ff",
   "metadata": {},
   "source": [
    "---"
   ]
  },
  {
   "cell_type": "markdown",
   "id": "d27c7623",
   "metadata": {},
   "source": [
    "## 3. 모델 구성을 위한 데이터 분석 및 가공"
   ]
  },
  {
   "cell_type": "code",
   "execution_count": 11,
   "id": "e8e9bb66",
   "metadata": {},
   "outputs": [
    {
     "name": "stdout",
     "output_type": "stream",
     "text": [
      "문장길이 평균 :  15.96940191154864\n",
      "문장길이 최대 :  116\n",
      "문장길이 표준편차 :  12.843571191092\n",
      "pad_sequences maxlen :  41\n",
      "전체 문장의 0.9342988343341575%가 maxlen 설정값 이내에 포함됩니다.\n"
     ]
    }
   ],
   "source": [
    "total_data_text = list(X_train) + list(X_test)\n",
    "\n",
    "# 텍스트데이터 문장길이의 리스트를 생성한 후\n",
    "num_tokens = [len(tokens) for tokens in total_data_text]\n",
    "num_tokens = np.array(num_tokens)\n",
    "\n",
    "# 문장길이의 평균값, 최대값, 표준편차 계산\n",
    "print(\"문장길이 평균 : \", np.mean(num_tokens))\n",
    "print(\"문장길이 최대 : \", np.max(num_tokens))\n",
    "print(\"문장길이 표준편차 : \", np.std(num_tokens))\n",
    "\n",
    "# 예를들어, 최대 길이를 (평균 + 2*표준편차)로 한다면,  \n",
    "max_tokens = np.mean(num_tokens) + 2 * np.std(num_tokens)\n",
    "maxlen = int(max_tokens)\n",
    "print('pad_sequences maxlen : ', maxlen)\n",
    "print('전체 문장의 {}%가 maxlen 설정값 이내에 포함됩니다.'.format(np.sum(num_tokens<max_tokens) / len(num_tokens)))"
   ]
  },
  {
   "cell_type": "code",
   "execution_count": 12,
   "id": "5529c45b",
   "metadata": {},
   "outputs": [
    {
     "name": "stdout",
     "output_type": "stream",
     "text": [
      "(146182, 41)\n"
     ]
    }
   ],
   "source": [
    "# padding으로 문장 길이 통일\n",
    "\n",
    "X_train = keras.preprocessing.sequence.pad_sequences(X_train,\n",
    "                                                       value=word_to_index[\"<PAD>\"],\n",
    "                                                        padding='pre',\n",
    "                                                        maxlen=maxlen)\n",
    "\n",
    "X_test = keras.preprocessing.sequence.pad_sequences(X_test,\n",
    "                                                       value=word_to_index[\"<PAD>\"],\n",
    "                                                        padding='pre',\n",
    "                                                        maxlen=maxlen)\n",
    "\n",
    "print(X_train.shape)"
   ]
  },
  {
   "cell_type": "markdown",
   "id": "4d30d3fe",
   "metadata": {},
   "source": [
    "padding을 pre에 채우는 이유 : RNN은 입력데이터가 순차적으로 처리되므로 가장 마지막 입력이 최종 state값에 영향을 많이 미치게 된다. 그래서 padding이 post에 채워진다면 굉장히 비효율적인 상황이 발생하게 된다. 거의 10% 차이라고 한다."
   ]
  },
  {
   "cell_type": "code",
   "execution_count": 13,
   "id": "2bbdea32",
   "metadata": {},
   "outputs": [
    {
     "name": "stdout",
     "output_type": "stream",
     "text": [
      "[  0   0   0   0   0   0   0   0   0   0   0   0   0   0   0   0   0   0\n",
      "   0   0   0   0   0   0   0   0   0   0   0   0   0  32  74 919   4   4\n",
      "  39 228  20  33 748]\n"
     ]
    }
   ],
   "source": [
    "print(X_train[0])"
   ]
  },
  {
   "cell_type": "markdown",
   "id": "76e190c3",
   "metadata": {},
   "source": [
    "#### validation set 구성"
   ]
  },
  {
   "cell_type": "markdown",
   "id": "bb863d6e",
   "metadata": {},
   "source": [
    "훈련 데이터의 약 15%인 20000건을 분리하여 validation set으로 사용해보자."
   ]
  },
  {
   "cell_type": "code",
   "execution_count": 14,
   "id": "391cd2c2",
   "metadata": {},
   "outputs": [
    {
     "name": "stdout",
     "output_type": "stream",
     "text": [
      "(126182, 41)\n",
      "(126182,)\n"
     ]
    }
   ],
   "source": [
    "# validation set 20000건 분리\n",
    "X_val = X_train[:20000]\n",
    "y_val = y_train[:20000]\n",
    "\n",
    "# validation set을 제외한 나머지 126182건\n",
    "partial_X_train = X_train[20000:]\n",
    "partial_y_train = y_train[20000:]\n",
    "\n",
    "print(partial_X_train.shape)\n",
    "print(partial_y_train.shape)"
   ]
  },
  {
   "cell_type": "markdown",
   "id": "1b5da990",
   "metadata": {},
   "source": [
    "---"
   ]
  },
  {
   "cell_type": "markdown",
   "id": "0f9ee644",
   "metadata": {},
   "source": [
    "## 4. 모델 구성, 훈련, 평가, 시각화하기"
   ]
  },
  {
   "cell_type": "code",
   "execution_count": 15,
   "id": "f41a6aa2",
   "metadata": {},
   "outputs": [],
   "source": [
    "vocab_size = 10000    # 어휘 사전의 크기(10,000개의 단어)\n",
    "word_vector_dim = 200  # 워드 벡터의 차원 수 (변경 가능한 하이퍼파라미터)"
   ]
  },
  {
   "cell_type": "markdown",
   "id": "77f58afa",
   "metadata": {},
   "source": [
    "### 1) LSTM"
   ]
  },
  {
   "cell_type": "markdown",
   "id": "806b014b",
   "metadata": {},
   "source": [
    "#### 모델 구성"
   ]
  },
  {
   "cell_type": "code",
   "execution_count": 16,
   "id": "2bb07010",
   "metadata": {
    "scrolled": true
   },
   "outputs": [
    {
     "name": "stdout",
     "output_type": "stream",
     "text": [
      "Model: \"sequential\"\n",
      "_________________________________________________________________\n",
      "Layer (type)                 Output Shape              Param #   \n",
      "=================================================================\n",
      "embedding (Embedding)        (None, None, 200)         2000000   \n",
      "_________________________________________________________________\n",
      "lstm (LSTM)                  (None, 8)                 6688      \n",
      "_________________________________________________________________\n",
      "dense (Dense)                (None, 8)                 72        \n",
      "_________________________________________________________________\n",
      "dense_1 (Dense)              (None, 1)                 9         \n",
      "=================================================================\n",
      "Total params: 2,006,769\n",
      "Trainable params: 2,006,769\n",
      "Non-trainable params: 0\n",
      "_________________________________________________________________\n"
     ]
    }
   ],
   "source": [
    "lstm = keras.Sequential()\n",
    "lstm.add(keras.layers.Embedding(vocab_size, word_vector_dim, input_shape=(None,)))\n",
    "lstm.add(keras.layers.LSTM(8))  # LSTM state 벡터의 차원수는 8 (변경 가능)\n",
    "lstm.add(keras.layers.Dense(8, activation='relu'))\n",
    "lstm.add(keras.layers.Dense(1, activation='sigmoid')) # 최종 출력은 긍정/부정을 나타내는 1dim\n",
    "\n",
    "lstm.summary()"
   ]
  },
  {
   "cell_type": "markdown",
   "id": "d15c7a1f",
   "metadata": {},
   "source": [
    "#### 모델 훈련 개시"
   ]
  },
  {
   "cell_type": "code",
   "execution_count": 17,
   "id": "a9d69329",
   "metadata": {
    "scrolled": false
   },
   "outputs": [
    {
     "name": "stdout",
     "output_type": "stream",
     "text": [
      "Epoch 1/10\n",
      "247/247 [==============================] - 5s 8ms/step - loss: 0.4457 - accuracy: 0.8049 - val_loss: 0.3482 - val_accuracy: 0.8497\n",
      "Epoch 2/10\n",
      "247/247 [==============================] - 2s 6ms/step - loss: 0.3219 - accuracy: 0.8644 - val_loss: 0.3372 - val_accuracy: 0.8536\n",
      "Epoch 3/10\n",
      "247/247 [==============================] - 2s 6ms/step - loss: 0.2904 - accuracy: 0.8776 - val_loss: 0.3395 - val_accuracy: 0.8557\n",
      "Epoch 4/10\n",
      "247/247 [==============================] - 2s 6ms/step - loss: 0.2666 - accuracy: 0.8886 - val_loss: 0.3461 - val_accuracy: 0.8565\n",
      "Epoch 5/10\n",
      "247/247 [==============================] - 2s 6ms/step - loss: 0.2450 - accuracy: 0.8988 - val_loss: 0.3535 - val_accuracy: 0.8562\n",
      "Epoch 6/10\n",
      "247/247 [==============================] - 2s 6ms/step - loss: 0.2252 - accuracy: 0.9079 - val_loss: 0.3676 - val_accuracy: 0.8555\n",
      "Epoch 7/10\n",
      "247/247 [==============================] - 2s 6ms/step - loss: 0.2058 - accuracy: 0.9163 - val_loss: 0.3869 - val_accuracy: 0.8547\n",
      "Epoch 8/10\n",
      "247/247 [==============================] - 2s 6ms/step - loss: 0.1907 - accuracy: 0.9238 - val_loss: 0.4056 - val_accuracy: 0.8540\n",
      "Epoch 9/10\n",
      "247/247 [==============================] - 2s 6ms/step - loss: 0.1726 - accuracy: 0.9326 - val_loss: 0.4235 - val_accuracy: 0.8500\n",
      "Epoch 10/10\n",
      "247/247 [==============================] - 2s 6ms/step - loss: 0.1589 - accuracy: 0.9381 - val_loss: 0.4544 - val_accuracy: 0.8510\n"
     ]
    }
   ],
   "source": [
    "lstm.compile(optimizer='adam',\n",
    "            loss='binary_crossentropy',\n",
    "            metrics=['accuracy'])\n",
    "\n",
    "epochs=10 # 훈련결과 보고 바꿔보기\n",
    "\n",
    "history_lstm = lstm.fit(partial_X_train,\n",
    "                  partial_y_train,\n",
    "                  epochs=epochs,\n",
    "                  batch_size=512,\n",
    "                  validation_data=(X_val, y_val), \n",
    "                   verbose=1)"
   ]
  },
  {
   "cell_type": "markdown",
   "id": "d3af250d",
   "metadata": {},
   "source": [
    "#### 모델 평가"
   ]
  },
  {
   "cell_type": "code",
   "execution_count": 18,
   "id": "f7312f54",
   "metadata": {},
   "outputs": [
    {
     "name": "stdout",
     "output_type": "stream",
     "text": [
      "1537/1537 - 3s - loss: 0.4596 - accuracy: 0.8460\n",
      "[0.45956042408943176, 0.8460035920143127]\n"
     ]
    }
   ],
   "source": [
    "# 테스트셋으로 평가\n",
    "\n",
    "lstm_results = lstm.evaluate(X_test, y_test, verbose=2)\n",
    "\n",
    "print(lstm_results)"
   ]
  },
  {
   "cell_type": "markdown",
   "id": "02c0deff",
   "metadata": {},
   "source": [
    "#### Loss, Accuracy 그래프 시각화"
   ]
  },
  {
   "cell_type": "markdown",
   "id": "fde3f629",
   "metadata": {},
   "source": [
    ".fit() 과정 중의 train/validation loss, accuracy 등이 매 epoch마다 history 변수에 저장되어 있다."
   ]
  },
  {
   "cell_type": "code",
   "execution_count": 19,
   "id": "8e4b2876",
   "metadata": {
    "scrolled": true
   },
   "outputs": [
    {
     "name": "stdout",
     "output_type": "stream",
     "text": [
      "dict_keys(['loss', 'accuracy', 'val_loss', 'val_accuracy'])\n"
     ]
    }
   ],
   "source": [
    "history_lstm_dict = history_lstm.history\n",
    "print(history_lstm_dict.keys()) # epoch에 따른 그래프를 그려볼 수 있는 항목들"
   ]
  },
  {
   "cell_type": "code",
   "execution_count": 20,
   "id": "1767395b",
   "metadata": {},
   "outputs": [],
   "source": [
    "acc = history_lstm_dict['accuracy']\n",
    "val_acc = history_lstm_dict['val_accuracy']\n",
    "loss = history_lstm_dict['loss']\n",
    "val_loss = history_lstm_dict['val_loss']\n",
    "\n",
    "epochs = range(1, len(acc) + 1)"
   ]
  },
  {
   "cell_type": "code",
   "execution_count": 21,
   "id": "838605cc",
   "metadata": {},
   "outputs": [
    {
     "data": {
      "image/png": "[encoded data removed]",
      "text/plain": [
       "<Figure size 720x288 with 2 Axes>"
      ]
     },
     "metadata": {
      "needs_background": "light"
     },
     "output_type": "display_data"
    }
   ],
   "source": [
    "plt.figure(figsize=(10, 4))\n",
    "\n",
    "# Loss 그래프\n",
    "plt.subplot(1, 2, 1)\n",
    "plt.plot(epochs, loss, 'bo', label='Training loss') # \"bo\"는 \"파란색 점\"\n",
    "plt.plot(epochs, val_loss, 'b', label='Validation loss') # \"b\"는 \"파란 실선\"\n",
    "plt.title('Training and validation loss')\n",
    "plt.xlabel('Epochs')\n",
    "plt.ylabel('Loss')\n",
    "plt.legend()\n",
    "\n",
    "# Accuracy 그래프\n",
    "plt.subplot(1, 2, 2)\n",
    "plt.plot(epochs, acc, 'bo', label='Training acc')\n",
    "plt.plot(epochs, val_acc, 'b', label='Validation acc')\n",
    "plt.title('Training and validation accuracy')\n",
    "plt.xlabel('Epochs')\n",
    "plt.ylabel('Accuracy')\n",
    "plt.legend()\n",
    "plt.show()"
   ]
  },
  {
   "cell_type": "markdown",
   "id": "26e7238f",
   "metadata": {},
   "source": [
    "### 2) 1-D CNN"
   ]
  },
  {
   "cell_type": "markdown",
   "id": "a30460f0",
   "metadata": {},
   "source": [
    "#### 모델 구성"
   ]
  },
  {
   "cell_type": "code",
   "execution_count": 22,
   "id": "faf9d187",
   "metadata": {},
   "outputs": [
    {
     "name": "stdout",
     "output_type": "stream",
     "text": [
      "Model: \"sequential_1\"\n",
      "_________________________________________________________________\n",
      "Layer (type)                 Output Shape              Param #   \n",
      "=================================================================\n",
      "embedding_1 (Embedding)      (None, None, 200)         2000000   \n",
      "_________________________________________________________________\n",
      "conv1d (Conv1D)              (None, None, 16)          22416     \n",
      "_________________________________________________________________\n",
      "max_pooling1d (MaxPooling1D) (None, None, 16)          0         \n",
      "_________________________________________________________________\n",
      "conv1d_1 (Conv1D)            (None, None, 16)          1808      \n",
      "_________________________________________________________________\n",
      "global_max_pooling1d (Global (None, 16)                0         \n",
      "_________________________________________________________________\n",
      "dense_2 (Dense)              (None, 8)                 136       \n",
      "_________________________________________________________________\n",
      "dense_3 (Dense)              (None, 1)                 9         \n",
      "=================================================================\n",
      "Total params: 2,024,369\n",
      "Trainable params: 2,024,369\n",
      "Non-trainable params: 0\n",
      "_________________________________________________________________\n"
     ]
    }
   ],
   "source": [
    "cnn = keras.Sequential()\n",
    "cnn.add(keras.layers.Embedding(vocab_size, word_vector_dim, input_shape=(None,)))\n",
    "cnn.add(keras.layers.Conv1D(16, 7, activation='relu'))\n",
    "cnn.add(keras.layers.MaxPooling1D(5))\n",
    "cnn.add(keras.layers.Conv1D(16, 7, activation='relu'))\n",
    "cnn.add(keras.layers.GlobalMaxPooling1D())\n",
    "cnn.add(keras.layers.Dense(8, activation='relu'))\n",
    "cnn.add(keras.layers.Dense(1, activation='sigmoid'))\n",
    "\n",
    "cnn.summary()"
   ]
  },
  {
   "cell_type": "markdown",
   "id": "195e1340",
   "metadata": {},
   "source": [
    "#### 모델 훈련 개시"
   ]
  },
  {
   "cell_type": "code",
   "execution_count": 23,
   "id": "c2ab4ed7",
   "metadata": {},
   "outputs": [
    {
     "name": "stdout",
     "output_type": "stream",
     "text": [
      "Epoch 1/10\n",
      "247/247 [==============================] - 4s 7ms/step - loss: 0.4456 - accuracy: 0.7869 - val_loss: 0.3427 - val_accuracy: 0.8507\n",
      "Epoch 2/10\n",
      "247/247 [==============================] - 2s 6ms/step - loss: 0.3060 - accuracy: 0.8714 - val_loss: 0.3316 - val_accuracy: 0.8556\n",
      "Epoch 3/10\n",
      "247/247 [==============================] - 2s 6ms/step - loss: 0.2552 - accuracy: 0.8980 - val_loss: 0.3374 - val_accuracy: 0.8574\n",
      "Epoch 4/10\n",
      "247/247 [==============================] - 1s 6ms/step - loss: 0.1945 - accuracy: 0.9268 - val_loss: 0.3666 - val_accuracy: 0.8521\n",
      "Epoch 5/10\n",
      "247/247 [==============================] - 1s 6ms/step - loss: 0.1324 - accuracy: 0.9540 - val_loss: 0.4518 - val_accuracy: 0.8443\n",
      "Epoch 6/10\n",
      "247/247 [==============================] - 2s 6ms/step - loss: 0.0874 - accuracy: 0.9712 - val_loss: 0.5097 - val_accuracy: 0.8434\n",
      "Epoch 7/10\n",
      "247/247 [==============================] - 1s 6ms/step - loss: 0.0583 - accuracy: 0.9816 - val_loss: 0.6396 - val_accuracy: 0.8352\n",
      "Epoch 8/10\n",
      "247/247 [==============================] - 2s 6ms/step - loss: 0.0417 - accuracy: 0.9870 - val_loss: 0.6880 - val_accuracy: 0.8339\n",
      "Epoch 9/10\n",
      "247/247 [==============================] - 2s 6ms/step - loss: 0.0316 - accuracy: 0.9901 - val_loss: 0.7613 - val_accuracy: 0.8280\n",
      "Epoch 10/10\n",
      "247/247 [==============================] - 1s 6ms/step - loss: 0.0252 - accuracy: 0.9917 - val_loss: 0.8854 - val_accuracy: 0.8333\n"
     ]
    }
   ],
   "source": [
    "cnn.compile(optimizer='adam',\n",
    "            loss='binary_crossentropy',\n",
    "            metrics=['accuracy'])\n",
    "\n",
    "epochs=10 # 훈련결과 보고 바꿔보기\n",
    "\n",
    "history_cnn = cnn.fit(partial_X_train,\n",
    "                  partial_y_train,\n",
    "                  epochs=epochs,\n",
    "                  batch_size=512,\n",
    "                  validation_data=(X_val, y_val), \n",
    "                   verbose=1)"
   ]
  },
  {
   "cell_type": "markdown",
   "id": "6cc49faf",
   "metadata": {},
   "source": [
    "#### 모델 평가"
   ]
  },
  {
   "cell_type": "code",
   "execution_count": 24,
   "id": "20df6743",
   "metadata": {},
   "outputs": [
    {
     "name": "stdout",
     "output_type": "stream",
     "text": [
      "1537/1537 - 3s - loss: 0.8758 - accuracy: 0.8321\n",
      "[0.8757665157318115, 0.8321093916893005]\n"
     ]
    }
   ],
   "source": [
    "cnn_results = cnn.evaluate(X_test, y_test, verbose=2)\n",
    "\n",
    "print(cnn_results)"
   ]
  },
  {
   "cell_type": "markdown",
   "id": "8b976649",
   "metadata": {},
   "source": [
    "#### Loss, Accuracy 그래프 시각화"
   ]
  },
  {
   "cell_type": "code",
   "execution_count": 25,
   "id": "610f7df9",
   "metadata": {},
   "outputs": [],
   "source": [
    "history_cnn_dict = history_cnn.history\n",
    "acc = history_cnn_dict['accuracy']\n",
    "val_acc = history_cnn_dict['val_accuracy']\n",
    "loss = history_cnn_dict['loss']\n",
    "val_loss = history_cnn_dict['val_loss']\n",
    "\n",
    "epochs = range(1, len(acc) + 1)"
   ]
  },
  {
   "cell_type": "code",
   "execution_count": 26,
   "id": "9468b5cb",
   "metadata": {},
   "outputs": [
    {
     "data": {
      "image/png": "[encoded data removed]",
      "text/plain": [
       "<Figure size 720x288 with 2 Axes>"
      ]
     },
     "metadata": {
      "needs_background": "light"
     },
     "output_type": "display_data"
    }
   ],
   "source": [
    "plt.figure(figsize=(10, 4))\n",
    "\n",
    "# Loss 그래프\n",
    "plt.subplot(1, 2, 1)\n",
    "plt.plot(epochs, loss, 'bo', label='Training loss') # \"bo\"는 \"파란색 점\"\n",
    "plt.plot(epochs, val_loss, 'b', label='Validation loss') # \"b\"는 \"파란 실선\"\n",
    "plt.title('Training and validation loss')\n",
    "plt.xlabel('Epochs')\n",
    "plt.ylabel('Loss')\n",
    "plt.legend()\n",
    "\n",
    "# Accuracy 그래프\n",
    "plt.subplot(1, 2, 2)\n",
    "plt.plot(epochs, acc, 'bo', label='Training acc')\n",
    "plt.plot(epochs, val_acc, 'b', label='Validation acc')\n",
    "plt.title('Training and validation accuracy')\n",
    "plt.xlabel('Epochs')\n",
    "plt.ylabel('Accuracy')\n",
    "plt.legend()\n",
    "plt.show()"
   ]
  },
  {
   "cell_type": "markdown",
   "id": "dbd8185f",
   "metadata": {},
   "source": [
    "### 3) GlobalMaxPooling1D"
   ]
  },
  {
   "cell_type": "markdown",
   "id": "3a194fd0",
   "metadata": {},
   "source": [
    "#### 모델 구성"
   ]
  },
  {
   "cell_type": "code",
   "execution_count": 27,
   "id": "3a292d3e",
   "metadata": {},
   "outputs": [
    {
     "name": "stdout",
     "output_type": "stream",
     "text": [
      "Model: \"sequential_2\"\n",
      "_________________________________________________________________\n",
      "Layer (type)                 Output Shape              Param #   \n",
      "=================================================================\n",
      "embedding_2 (Embedding)      (None, None, 200)         2000000   \n",
      "_________________________________________________________________\n",
      "global_max_pooling1d_1 (Glob (None, 200)               0         \n",
      "_________________________________________________________________\n",
      "dense_4 (Dense)              (None, 8)                 1608      \n",
      "_________________________________________________________________\n",
      "dense_5 (Dense)              (None, 1)                 9         \n",
      "=================================================================\n",
      "Total params: 2,001,617\n",
      "Trainable params: 2,001,617\n",
      "Non-trainable params: 0\n",
      "_________________________________________________________________\n"
     ]
    }
   ],
   "source": [
    "maxpooling = tf.keras.Sequential()\n",
    "maxpooling.add(tf.keras.layers.Embedding(vocab_size, word_vector_dim, input_shape=(None,)))\n",
    "maxpooling.add(tf.keras.layers.GlobalMaxPooling1D())\n",
    "maxpooling.add(tf.keras.layers.Dense(8, activation='relu'))\n",
    "maxpooling.add(tf.keras.layers.Dense(1, activation='sigmoid'))  # 최종 출력은 긍정/부정을 나타내는 1dim 입니다.\n",
    "\n",
    "maxpooling.summary()"
   ]
  },
  {
   "cell_type": "markdown",
   "id": "b1de24d5",
   "metadata": {},
   "source": [
    "#### 모델 훈련 개시"
   ]
  },
  {
   "cell_type": "code",
   "execution_count": 28,
   "id": "3bf85f4c",
   "metadata": {},
   "outputs": [
    {
     "name": "stdout",
     "output_type": "stream",
     "text": [
      "Epoch 1/10\n",
      "247/247 [==============================] - 2s 5ms/step - loss: 0.4762 - accuracy: 0.7973 - val_loss: 0.3482 - val_accuracy: 0.8487\n",
      "Epoch 2/10\n",
      "247/247 [==============================] - 1s 4ms/step - loss: 0.3149 - accuracy: 0.8677 - val_loss: 0.3321 - val_accuracy: 0.8561\n",
      "Epoch 3/10\n",
      "247/247 [==============================] - 1s 4ms/step - loss: 0.2686 - accuracy: 0.8907 - val_loss: 0.3371 - val_accuracy: 0.8561\n",
      "Epoch 4/10\n",
      "247/247 [==============================] - 1s 4ms/step - loss: 0.2296 - accuracy: 0.9101 - val_loss: 0.3488 - val_accuracy: 0.8555\n",
      "Epoch 5/10\n",
      "247/247 [==============================] - 1s 4ms/step - loss: 0.1905 - accuracy: 0.9296 - val_loss: 0.3664 - val_accuracy: 0.8555\n",
      "Epoch 6/10\n",
      "247/247 [==============================] - 1s 4ms/step - loss: 0.1514 - accuracy: 0.9477 - val_loss: 0.3949 - val_accuracy: 0.8529\n",
      "Epoch 7/10\n",
      "247/247 [==============================] - 1s 4ms/step - loss: 0.1152 - accuracy: 0.9643 - val_loss: 0.4278 - val_accuracy: 0.8487\n",
      "Epoch 8/10\n",
      "247/247 [==============================] - 1s 4ms/step - loss: 0.0839 - accuracy: 0.9766 - val_loss: 0.4592 - val_accuracy: 0.8474\n",
      "Epoch 9/10\n",
      "247/247 [==============================] - 1s 4ms/step - loss: 0.0603 - accuracy: 0.9850 - val_loss: 0.4981 - val_accuracy: 0.8431\n",
      "Epoch 10/10\n",
      "247/247 [==============================] - 1s 4ms/step - loss: 0.0437 - accuracy: 0.9895 - val_loss: 0.5331 - val_accuracy: 0.8439\n"
     ]
    }
   ],
   "source": [
    "maxpooling.compile(optimizer='adam',\n",
    "            loss='binary_crossentropy',\n",
    "            metrics=['accuracy'])\n",
    "\n",
    "epochs=10 # 훈련결과 보고 바꿔보기\n",
    "\n",
    "history_maxpooling = maxpooling.fit(partial_X_train,\n",
    "                  partial_y_train,\n",
    "                  epochs=epochs,\n",
    "                  batch_size=512,\n",
    "                  validation_data=(X_val, y_val), \n",
    "                   verbose=1)"
   ]
  },
  {
   "cell_type": "markdown",
   "id": "6a3bc3ba",
   "metadata": {},
   "source": [
    "#### 모델 평가"
   ]
  },
  {
   "cell_type": "code",
   "execution_count": 29,
   "id": "52df09ec",
   "metadata": {},
   "outputs": [
    {
     "name": "stdout",
     "output_type": "stream",
     "text": [
      "1537/1537 - 2s - loss: 0.5450 - accuracy: 0.8391\n",
      "[0.5449765920639038, 0.8390870094299316]\n"
     ]
    }
   ],
   "source": [
    "maxpooling_results = maxpooling.evaluate(X_test, y_test, verbose=2)\n",
    "\n",
    "print(maxpooling_results)"
   ]
  },
  {
   "cell_type": "markdown",
   "id": "2a778c69",
   "metadata": {},
   "source": [
    "#### Loss, Accuracy 그래프 시각화"
   ]
  },
  {
   "cell_type": "code",
   "execution_count": 30,
   "id": "f1f87985",
   "metadata": {},
   "outputs": [],
   "source": [
    "history_maxpooling_dict = history_maxpooling.history\n",
    "acc = history_maxpooling_dict['accuracy']\n",
    "val_acc = history_maxpooling_dict['val_accuracy']\n",
    "loss = history_maxpooling_dict['loss']\n",
    "val_loss = history_maxpooling_dict['val_loss']\n",
    "\n",
    "epochs = range(1, len(acc) + 1)"
   ]
  },
  {
   "cell_type": "code",
   "execution_count": 31,
   "id": "f6ed639f",
   "metadata": {},
   "outputs": [
    {
     "data": {
      "image/png": "[encoded data removed]",
      "text/plain": [
       "<Figure size 720x288 with 2 Axes>"
      ]
     },
     "metadata": {
      "needs_background": "light"
     },
     "output_type": "display_data"
    }
   ],
   "source": [
    "plt.figure(figsize=(10, 4))\n",
    "\n",
    "# Loss 그래프\n",
    "plt.subplot(1, 2, 1)\n",
    "plt.plot(epochs, loss, 'bo', label='Training loss') # \"bo\"는 \"파란색 점\"\n",
    "plt.plot(epochs, val_loss, 'b', label='Validation loss') # \"b\"는 \"파란 실선\"\n",
    "plt.title('Training and validation loss')\n",
    "plt.xlabel('Epochs')\n",
    "plt.ylabel('Loss')\n",
    "plt.legend()\n",
    "\n",
    "# Accuracy 그래프\n",
    "plt.subplot(1, 2, 2)\n",
    "plt.plot(epochs, acc, 'bo', label='Training acc')\n",
    "plt.plot(epochs, val_acc, 'b', label='Validation acc')\n",
    "plt.title('Training and validation accuracy')\n",
    "plt.xlabel('Epochs')\n",
    "plt.ylabel('Accuracy')\n",
    "plt.legend()\n",
    "plt.show()"
   ]
  },
  {
   "cell_type": "markdown",
   "id": "5d841063",
   "metadata": {},
   "source": [
    "### 3가지 모델 비교분석"
   ]
  },
  {
   "cell_type": "code",
   "execution_count": 32,
   "id": "7ca68237",
   "metadata": {},
   "outputs": [
    {
     "name": "stdout",
     "output_type": "stream",
     "text": [
      "[0.45956042408943176, 0.8460035920143127]\n",
      "[0.8757665157318115, 0.8321093916893005]\n",
      "[0.5449765920639038, 0.8390870094299316]\n"
     ]
    }
   ],
   "source": [
    "print(lstm_results)\n",
    "print(cnn_results)\n",
    "print(maxpooling_results)"
   ]
  },
  {
   "cell_type": "markdown",
   "id": "a1bb8df8",
   "metadata": {},
   "source": [
    "세 모델 다 loss와 accuracy가 비슷비슷하다.<br>\n",
    "그나마 LSTM이 loss가 적고 accuracy가 높아서 성능이 셋 중에는 제일 나은 듯 싶다.<br>\n",
    "이상한건 세 모델 다 Epoch가 2가 넘어가면서 과적합이 심하게 발생하는 것 같다.<br>\n",
    "앞에서 지정한 파라미터들 중에 무언가가 잘못돼서 그런것 같은데, 어떤것 때문에 그런지는 잘모르겠다.<br> 다음에 시간이 나면 vocab_size, word_vector_dim, batch_size 조절해봐야겠다."
   ]
  },
  {
   "cell_type": "markdown",
   "id": "1825bbd6",
   "metadata": {},
   "source": [
    "---"
   ]
  },
  {
   "cell_type": "markdown",
   "id": "b7770b95",
   "metadata": {},
   "source": [
    "## 5. 학습된 Embedding 레이어 분석"
   ]
  },
  {
   "cell_type": "markdown",
   "id": "d895bfb9",
   "metadata": {},
   "source": [
    "### 1) LSTM"
   ]
  },
  {
   "cell_type": "code",
   "execution_count": 33,
   "id": "05c3eae5",
   "metadata": {},
   "outputs": [
    {
     "name": "stdout",
     "output_type": "stream",
     "text": [
      "(10000, 200)\n"
     ]
    }
   ],
   "source": [
    "# Embedding Layer에 학습된 워드벡터 확인\n",
    "\n",
    "embedding_lstm = lstm.layers[0]\n",
    "weights_lstm = embedding_lstm.get_weights()[0]\n",
    "print(weights_lstm.shape)     # shape: (vocab_size, embedding_dim)"
   ]
  },
  {
   "cell_type": "code",
   "execution_count": 34,
   "id": "87842165",
   "metadata": {},
   "outputs": [],
   "source": [
    "# 학습한 Embedding 파라미터를 파일에 써서 저장\n",
    "\n",
    "word2vec_file_path_lstm = os.getenv('HOME')+'/aiffel/sentiment_classification/data/word2vec_lstm.txt'\n",
    "f = open(word2vec_file_path_lstm, 'w')\n",
    "f.write('{} {}\\n'.format(vocab_size-4, word_vector_dim))  # 몇개의 벡터를 얼마 사이즈로 기재할지 타이틀 쓰기.\n",
    "\n",
    "# 단어 개수(에서 특수문자 4개는 제외하고)만큼의 워드 벡터를 파일에 기록 \n",
    "\n",
    "vectors = lstm.get_weights()[0]\n",
    "for i in range(4,vocab_size):\n",
    "    f.write('{} {}\\n'.format(index_to_word[i], ' '.join(map(str, list(vectors[i, :])))))\n",
    "f.close()"
   ]
  },
  {
   "cell_type": "code",
   "execution_count": 35,
   "id": "9ffff222",
   "metadata": {},
   "outputs": [
    {
     "data": {
      "text/plain": [
       "array([-0.05015786,  0.00094248,  0.06575499,  0.13497485, -0.00915421,\n",
       "       -0.05510092,  0.02841054, -0.03168005, -0.07602143, -0.07774016,\n",
       "        0.06825794,  0.23027916, -0.01075279, -0.0528102 , -0.18260764,\n",
       "        0.05336111, -0.04668898, -0.01173187,  0.15238772,  0.06763704,\n",
       "       -0.08083709, -0.0716208 ,  0.03290325,  0.00659671, -0.04382437,\n",
       "       -0.1020693 , -0.05684714,  0.07705168, -0.03612543,  0.0650054 ,\n",
       "       -0.33166242,  0.04166878, -0.06850883, -0.0391513 ,  0.01925269,\n",
       "        0.08648683,  0.00976418, -0.17287706, -0.04769906,  0.05584907,\n",
       "       -0.05134274,  0.11271007, -0.025289  ,  0.00356117, -0.00686468,\n",
       "       -0.01501556,  0.36770383, -0.10834166,  0.1042545 ,  0.13065396,\n",
       "       -0.07427921, -0.16770728, -0.17991844,  0.05033917,  0.05699811,\n",
       "       -0.1018577 ,  0.02426533, -0.01906898,  0.03734383,  0.00068757,\n",
       "        0.03302326, -0.01386817,  0.07963765, -0.14150068,  0.0230231 ,\n",
       "       -0.16375417,  0.02597933, -0.00340135,  0.21003444, -0.0013686 ,\n",
       "       -0.0064079 ,  0.06039153,  0.08708443, -0.27157792, -0.11260442,\n",
       "       -0.020689  ,  0.09681796,  0.14901468, -0.26610035,  0.03124911,\n",
       "       -0.21608295, -0.00397074,  0.00441499, -0.1206255 ,  0.0074398 ,\n",
       "       -0.12355335,  0.01937186,  0.03135081,  0.08387718,  0.16000032,\n",
       "        0.18120472, -0.06251071, -0.1085924 ,  0.14576532,  0.0514929 ,\n",
       "        0.01240075, -0.0101135 , -0.05455512, -0.00757706,  0.0511013 ,\n",
       "        0.04606775,  0.16146414, -0.16052265, -0.03187824, -0.03778803,\n",
       "       -0.00750454,  0.05295279, -0.03281857, -0.03572698, -0.00500502,\n",
       "        0.14764893, -0.06618693,  0.01024646,  0.04407369,  0.06578711,\n",
       "       -0.02912406, -0.17723137,  0.01801812,  0.2966994 , -0.08730444,\n",
       "       -0.0683739 , -0.0115022 , -0.13301417, -0.03428318, -0.08868967,\n",
       "       -0.11153042,  0.01144894, -0.03227414, -0.06213657,  0.01808143,\n",
       "       -0.05699088,  0.00466542, -0.03235317, -0.09736579,  0.13255043,\n",
       "       -0.10831396, -0.00297271, -0.04563817,  0.13591206, -0.05062294,\n",
       "        0.13104813,  0.15364516,  0.12072688, -0.08905404,  0.13828658,\n",
       "       -0.02831125,  0.04489834, -0.09421922, -0.1065688 , -0.00999648,\n",
       "       -0.08766168, -0.0026295 , -0.12802975, -0.17988673, -0.04166939,\n",
       "       -0.09620772, -0.12689239, -0.04007757, -0.02050918,  0.20735191,\n",
       "       -0.16767193, -0.03101596,  0.05547324, -0.27547684, -0.06943489,\n",
       "       -0.00957374,  0.01887232, -0.03347711, -0.00701326,  0.23052008,\n",
       "        0.04823656, -0.05659651,  0.05789819, -0.01558076, -0.09565656,\n",
       "        0.06989983, -0.06720878, -0.0415003 ,  0.01017354, -0.09599327,\n",
       "        0.0070395 ,  0.0459718 ,  0.09491079,  0.0385888 ,  0.05127041,\n",
       "        0.0759419 ,  0.14957435,  0.13183393, -0.00953865,  0.14205433,\n",
       "        0.03511875, -0.00672517, -0.1159711 ,  0.03120634, -0.08596241,\n",
       "        0.0042822 , -0.03843299, -0.0465094 ,  0.01547862, -0.01144899],\n",
       "      dtype=float32)"
      ]
     },
     "execution_count": 35,
     "metadata": {},
     "output_type": "execute_result"
    }
   ],
   "source": [
    "# 위에 남긴 파일에 기록된 임베딩 파라미터를 읽어서 word vector로 활용 가능\n",
    "\n",
    "word_vectors = Word2VecKeyedVectors.load_word2vec_format(word2vec_file_path_lstm, binary=False)\n",
    "vector = word_vectors['컴퓨터']\n",
    "vector"
   ]
  },
  {
   "cell_type": "markdown",
   "id": "418a40ba",
   "metadata": {},
   "source": [
    "워드 벡터가 의미 벡터 공간상에 유의미하게 학습되었는지 확인하는 방법 중에, 단어를 하나 주고 그와 가장 유사한 단어와 그 유사도를 확인하는 방법이 있다. gensim을 사용하면 아래와 같이 해볼 수 있다."
   ]
  },
  {
   "cell_type": "code",
   "execution_count": 36,
   "id": "ffbb746d",
   "metadata": {},
   "outputs": [
    {
     "data": {
      "text/plain": [
       "[('굿', 0.8884930610656738),\n",
       " ('명품', 0.8680484294891357),\n",
       " ('통쾌', 0.8632184863090515),\n",
       " ('명작', 0.8526573181152344),\n",
       " ('진한', 0.8521097302436829),\n",
       " ('굳', 0.8505361080169678),\n",
       " ('재밌', 0.8490205407142639),\n",
       " ('졸이', 0.8486909866333008),\n",
       " ('완벽', 0.8441454172134399),\n",
       " ('꿀', 0.841754674911499)]"
      ]
     },
     "execution_count": 36,
     "metadata": {},
     "output_type": "execute_result"
    }
   ],
   "source": [
    "word_vectors.similar_by_word(\"최고\")"
   ]
  },
  {
   "cell_type": "markdown",
   "id": "21244371",
   "metadata": {},
   "source": [
    "### 2) 1-D CNN"
   ]
  },
  {
   "cell_type": "code",
   "execution_count": 37,
   "id": "bac18065",
   "metadata": {},
   "outputs": [],
   "source": [
    "embedding_cnn = cnn.layers[0]\n",
    "weights_cnn = embedding_cnn.get_weights()[0]\n",
    "\n",
    "word2vec_file_path_cnn = os.getenv('HOME')+'/aiffel/sentiment_classification/data/word2vec_cnn.txt'\n",
    "f = open(word2vec_file_path_cnn, 'w')\n",
    "f.write('{} {}\\n'.format(vocab_size-4, word_vector_dim))\n",
    "\n",
    "vectors = cnn.get_weights()[0]\n",
    "for i in range(4,vocab_size):\n",
    "    f.write('{} {}\\n'.format(index_to_word[i], ' '.join(map(str, list(vectors[i, :])))))\n",
    "f.close()"
   ]
  },
  {
   "cell_type": "code",
   "execution_count": 38,
   "id": "208eb4d9",
   "metadata": {},
   "outputs": [
    {
     "data": {
      "text/plain": [
       "[('돌이켜', 0.7458280920982361),\n",
       " ('두려워', 0.7312971949577332),\n",
       " ('-)', 0.7297272682189941),\n",
       " ('냉혹', 0.7217221260070801),\n",
       " ('테드', 0.7201335430145264),\n",
       " ('따스', 0.7180869579315186),\n",
       " ('노홍철', 0.7156553268432617),\n",
       " ('사악', 0.7134921550750732),\n",
       " ('올려야', 0.7097048163414001),\n",
       " ('개꿀', 0.7092106342315674)]"
      ]
     },
     "execution_count": 38,
     "metadata": {},
     "output_type": "execute_result"
    }
   ],
   "source": [
    "# 단어 유사도 확인\n",
    "\n",
    "word_vectors = Word2VecKeyedVectors.load_word2vec_format(word2vec_file_path_cnn, binary=False)\n",
    "word_vectors.similar_by_word(\"최고\")"
   ]
  },
  {
   "cell_type": "markdown",
   "id": "0e8eb069",
   "metadata": {},
   "source": [
    "### 3) MaxPooling1D"
   ]
  },
  {
   "cell_type": "code",
   "execution_count": 39,
   "id": "559bf2be",
   "metadata": {},
   "outputs": [],
   "source": [
    "embedding_maxpooling = maxpooling.layers[0]\n",
    "weights_maxpooling = embedding_maxpooling.get_weights()[0]\n",
    "\n",
    "word2vec_file_path_maxpooling = os.getenv('HOME')+'/aiffel/sentiment_classification/data/word2vec_maxpooling.txt'\n",
    "f = open(word2vec_file_path_maxpooling, 'w')\n",
    "f.write('{} {}\\n'.format(vocab_size-4, word_vector_dim))\n",
    "\n",
    "vectors = maxpooling.get_weights()[0]\n",
    "for i in range(4,vocab_size):\n",
    "    f.write('{} {}\\n'.format(index_to_word[i], ' '.join(map(str, list(vectors[i, :])))))\n",
    "f.close()"
   ]
  },
  {
   "cell_type": "code",
   "execution_count": 40,
   "id": "f109967c",
   "metadata": {},
   "outputs": [
    {
     "data": {
      "text/plain": [
       "[('니당', 0.3364609479904175),\n",
       " ('러셀', 0.2947235703468323),\n",
       " ('손꼽', 0.29089629650115967),\n",
       " ('기승전결', 0.2826807200908661),\n",
       " ('퀸', 0.27578645944595337),\n",
       " ('서동요', 0.2749508023262024),\n",
       " ('배울', 0.27093011140823364),\n",
       " ('best', 0.2591332197189331),\n",
       " ('시대', 0.25608211755752563),\n",
       " ('올라갈', 0.25582483410835266)]"
      ]
     },
     "execution_count": 40,
     "metadata": {},
     "output_type": "execute_result"
    }
   ],
   "source": [
    "# 단어 유사도 확인\n",
    "\n",
    "word_vectors = Word2VecKeyedVectors.load_word2vec_format(word2vec_file_path_maxpooling, binary=False)\n",
    "word_vectors.similar_by_word(\"최고\")"
   ]
  },
  {
   "cell_type": "markdown",
   "id": "0fbdc6a2",
   "metadata": {},
   "source": [
    "세 모델의 임베딩 레이어들에 대해 단어 유사도를 살펴봤을 때, 역시 LSTM을 통해 뽑아낸 단어들의 유사도가 거의 다 80%대로 가장 높았다. '최고'라는 단어와 유사한 단어들을 살펴봤을 때는 '굿', '명품', '통쾌', '명작', '재밌', '굳', '완벽' 등 엄청 긍정적인 단어들이 많이 나왔다. 그렇지만 엄밀히 따져봤을 때 '최고'와 연결시킬 수 있는 단어들이 나온 것이지, 실제로 성질이 비슷한 단어들은 나오지 않았다고 볼 수 있다.<br>\n",
    "CNN을 통해 봤을 때는 전체적으로 유사도가 70%이긴 한데 단어들을 확인해보니 전혀 '최고'와 어울리지 않은 단어들이 많이 나왔다. LSTM보다는 확실히 성능이 떨어진다.<br>\n",
    "MaxPooling1D는 'best'라는 거의 완벽하게 유사한 단어가 딱 하나 나왔지만, 전체적으로는 20%대의 유사도가 나오고 다른 단어들을 봤을 때는 연관성도 낮다."
   ]
  },
  {
   "cell_type": "markdown",
   "id": "23969f05",
   "metadata": {},
   "source": [
    "---"
   ]
  },
  {
   "cell_type": "markdown",
   "id": "bec7d4c1",
   "metadata": {},
   "source": [
    "## 6. 한국어 Word2Vec 임베딩 활용하여 성능 개선"
   ]
  },
  {
   "cell_type": "code",
   "execution_count": 41,
   "id": "2cd0788b",
   "metadata": {},
   "outputs": [],
   "source": [
    "word2vec_path = os.getenv('HOME')+'/aiffel/sentiment_classification/data/ko.bin'\n",
    "word2vec = Word2Vec.load(word2vec_path)"
   ]
  },
  {
   "cell_type": "code",
   "execution_count": 42,
   "id": "a21c6e01",
   "metadata": {},
   "outputs": [
    {
     "name": "stderr",
     "output_type": "stream",
     "text": [
      "/tmp/ipykernel_6158/23970215.py:1: DeprecationWarning: Call to deprecated `similar_by_word` (Method will be removed in 4.0.0, use self.wv.similar_by_word() instead).\n",
      "  wordexample = word2vec.similar_by_word(\"최고\")\n"
     ]
    },
    {
     "data": {
      "text/plain": [
       "[('최대', 0.5721614360809326),\n",
       " ('최강', 0.5064552426338196),\n",
       " ('유일한', 0.46688494086265564),\n",
       " ('일류', 0.46184951066970825),\n",
       " ('최악', 0.4529539942741394),\n",
       " ('최연소', 0.45037323236465454),\n",
       " ('랭킹', 0.4485436677932739),\n",
       " ('제일의', 0.44647401571273804),\n",
       " ('최초', 0.44505739212036133),\n",
       " ('최상', 0.4345606565475464)]"
      ]
     },
     "execution_count": 42,
     "metadata": {},
     "output_type": "execute_result"
    }
   ],
   "source": [
    "wordexample = word2vec.similar_by_word(\"최고\")\n",
    "wordexample"
   ]
  },
  {
   "cell_type": "code",
   "execution_count": 43,
   "id": "6fbc7d0a",
   "metadata": {},
   "outputs": [
    {
     "name": "stderr",
     "output_type": "stream",
     "text": [
      "/tmp/ipykernel_6158/3653037712.py:10: DeprecationWarning: Call to deprecated `__contains__` (Method will be removed in 4.0.0, use self.wv.__contains__() instead).\n",
      "  if index_to_word[i] in word2vec:\n",
      "/tmp/ipykernel_6158/3653037712.py:11: DeprecationWarning: Call to deprecated `__getitem__` (Method will be removed in 4.0.0, use self.wv.__getitem__() instead).\n",
      "  embedding_matrix[i] = word2vec[index_to_word[i]]\n"
     ]
    }
   ],
   "source": [
    "# 이전의 모델들의 임베딩 레이어를 Word2Vec의 것으로 교체해서 다시 학습\n",
    "\n",
    "vocab_size = 10000\n",
    "word_vector_dim = 200\n",
    "\n",
    "embedding_matrix = np.random.rand(vocab_size, word_vector_dim)\n",
    "\n",
    "# embedding_matrix에 Word2Vec 워드 벡터를 단어 하나씩마다 차례차례 카피\n",
    "for i in range(4,vocab_size):\n",
    "    if index_to_word[i] in word2vec:\n",
    "        embedding_matrix[i] = word2vec[index_to_word[i]]"
   ]
  },
  {
   "cell_type": "markdown",
   "id": "634c7aca",
   "metadata": {},
   "source": [
    "이제 각 모델에 다시 적용해보자."
   ]
  },
  {
   "cell_type": "markdown",
   "id": "e772dc9f",
   "metadata": {},
   "source": [
    "### 1) LSTM"
   ]
  },
  {
   "cell_type": "code",
   "execution_count": 44,
   "id": "18ac82b4",
   "metadata": {},
   "outputs": [
    {
     "name": "stdout",
     "output_type": "stream",
     "text": [
      "Model: \"sequential_3\"\n",
      "_________________________________________________________________\n",
      "Layer (type)                 Output Shape              Param #   \n",
      "=================================================================\n",
      "embedding_3 (Embedding)      (None, 41, 200)           2000000   \n",
      "_________________________________________________________________\n",
      "lstm_1 (LSTM)                (None, 8)                 6688      \n",
      "_________________________________________________________________\n",
      "dense_6 (Dense)              (None, 8)                 72        \n",
      "_________________________________________________________________\n",
      "dense_7 (Dense)              (None, 1)                 9         \n",
      "=================================================================\n",
      "Total params: 2,006,769\n",
      "Trainable params: 2,006,769\n",
      "Non-trainable params: 0\n",
      "_________________________________________________________________\n"
     ]
    }
   ],
   "source": [
    "lstmk = keras.Sequential()\n",
    "lstmk.add(keras.layers.Embedding(vocab_size, \n",
    "                                word_vector_dim, \n",
    "                                embeddings_initializer=Constant(embedding_matrix),  # 카피한 임베딩을 여기서 활용\n",
    "                                input_length=maxlen, \n",
    "                                trainable=True))   # trainable을 True로 주면 Fine-tuning\n",
    "lstmk.add(keras.layers.LSTM(8))  # LSTM state 벡터의 차원수는 8 (변경 가능)\n",
    "lstmk.add(keras.layers.Dense(8, activation='relu'))\n",
    "lstmk.add(keras.layers.Dense(1, activation='sigmoid')) # 최종 출력은 긍정/부정을 나타내는 1dim\n",
    "\n",
    "lstmk.summary()"
   ]
  },
  {
   "cell_type": "code",
   "execution_count": 45,
   "id": "3b3b5eb8",
   "metadata": {},
   "outputs": [
    {
     "name": "stdout",
     "output_type": "stream",
     "text": [
      "Epoch 1/10\n",
      "247/247 [==============================] - 3s 8ms/step - loss: 0.5193 - accuracy: 0.7344 - val_loss: 0.3952 - val_accuracy: 0.8235\n",
      "Epoch 2/10\n",
      "247/247 [==============================] - 2s 7ms/step - loss: 0.3621 - accuracy: 0.8437 - val_loss: 0.3565 - val_accuracy: 0.8432\n",
      "Epoch 3/10\n",
      "247/247 [==============================] - 2s 6ms/step - loss: 0.3221 - accuracy: 0.8659 - val_loss: 0.3450 - val_accuracy: 0.8522\n",
      "Epoch 4/10\n",
      "247/247 [==============================] - 2s 6ms/step - loss: 0.2998 - accuracy: 0.8761 - val_loss: 0.3457 - val_accuracy: 0.8512\n",
      "Epoch 5/10\n",
      "247/247 [==============================] - 2s 7ms/step - loss: 0.2840 - accuracy: 0.8836 - val_loss: 0.3444 - val_accuracy: 0.8540\n",
      "Epoch 6/10\n",
      "247/247 [==============================] - 2s 7ms/step - loss: 0.2702 - accuracy: 0.8911 - val_loss: 0.3498 - val_accuracy: 0.8534\n",
      "Epoch 7/10\n",
      "247/247 [==============================] - 2s 6ms/step - loss: 0.2584 - accuracy: 0.8965 - val_loss: 0.3508 - val_accuracy: 0.8536\n",
      "Epoch 8/10\n",
      "247/247 [==============================] - 2s 6ms/step - loss: 0.2483 - accuracy: 0.9016 - val_loss: 0.3553 - val_accuracy: 0.8528\n",
      "Epoch 9/10\n",
      "247/247 [==============================] - 2s 6ms/step - loss: 0.2375 - accuracy: 0.9066 - val_loss: 0.3642 - val_accuracy: 0.8529\n",
      "Epoch 10/10\n",
      "247/247 [==============================] - 2s 6ms/step - loss: 0.2262 - accuracy: 0.9119 - val_loss: 0.3706 - val_accuracy: 0.8528\n"
     ]
    }
   ],
   "source": [
    "lstmk.compile(optimizer='adam',\n",
    "              loss='binary_crossentropy',\n",
    "              metrics=['accuracy'])\n",
    "              \n",
    "epochs=10 \n",
    "\n",
    "history_lstmk = lstmk.fit(partial_X_train,\n",
    "                    partial_y_train,\n",
    "                    epochs=epochs,\n",
    "                    batch_size=512,\n",
    "                    validation_data=(X_val, y_val),\n",
    "                    verbose=1)"
   ]
  },
  {
   "cell_type": "code",
   "execution_count": 46,
   "id": "3cfa9e04",
   "metadata": {},
   "outputs": [
    {
     "name": "stdout",
     "output_type": "stream",
     "text": [
      "1537/1537 - 3s - loss: 0.3777 - accuracy: 0.8483\n",
      "[0.3776867389678955, 0.8483430743217468]\n"
     ]
    }
   ],
   "source": [
    "lstmk_results = lstmk.evaluate(X_test,  y_test, verbose=2)\n",
    "\n",
    "print(lstmk_results)"
   ]
  },
  {
   "cell_type": "code",
   "execution_count": 47,
   "id": "1e3792a0",
   "metadata": {
    "scrolled": true
   },
   "outputs": [
    {
     "data": {
      "image/png": "[encoded data removed]",
      "text/plain": [
       "<Figure size 720x288 with 2 Axes>"
      ]
     },
     "metadata": {
      "needs_background": "light"
     },
     "output_type": "display_data"
    }
   ],
   "source": [
    "history_lstmk_dict = history_lstmk.history\n",
    "\n",
    "acc = history_lstmk_dict['accuracy']\n",
    "val_acc = history_lstmk_dict['val_accuracy']\n",
    "loss = history_lstmk_dict['loss']\n",
    "val_loss = history_lstmk_dict['val_loss']\n",
    "\n",
    "epochs = range(1, len(acc) + 1)\n",
    "\n",
    "\n",
    "plt.figure(figsize=(10, 4))\n",
    "\n",
    "# Loss 그래프\n",
    "plt.subplot(1, 2, 1)\n",
    "plt.plot(epochs, loss, 'bo', label='Training loss') # \"bo\"는 \"파란색 점\"\n",
    "plt.plot(epochs, val_loss, 'b', label='Validation loss') # \"b\"는 \"파란 실선\"\n",
    "plt.title('Training and validation loss')\n",
    "plt.xlabel('Epochs')\n",
    "plt.ylabel('Loss')\n",
    "plt.legend()\n",
    "\n",
    "# Accuracy 그래프\n",
    "plt.subplot(1, 2, 2)\n",
    "plt.plot(epochs, acc, 'bo', label='Training acc')\n",
    "plt.plot(epochs, val_acc, 'b', label='Validation acc')\n",
    "plt.title('Training and validation accuracy')\n",
    "plt.xlabel('Epochs')\n",
    "plt.ylabel('Accuracy')\n",
    "plt.legend()\n",
    "plt.show()"
   ]
  },
  {
   "cell_type": "markdown",
   "id": "aced197a",
   "metadata": {},
   "source": [
    "### 2) 1-D CNN"
   ]
  },
  {
   "cell_type": "code",
   "execution_count": 48,
   "id": "e3a776dc",
   "metadata": {},
   "outputs": [
    {
     "name": "stdout",
     "output_type": "stream",
     "text": [
      "Model: \"sequential_4\"\n",
      "_________________________________________________________________\n",
      "Layer (type)                 Output Shape              Param #   \n",
      "=================================================================\n",
      "embedding_4 (Embedding)      (None, 41, 200)           2000000   \n",
      "_________________________________________________________________\n",
      "conv1d_2 (Conv1D)            (None, 35, 16)            22416     \n",
      "_________________________________________________________________\n",
      "max_pooling1d_1 (MaxPooling1 (None, 7, 16)             0         \n",
      "_________________________________________________________________\n",
      "conv1d_3 (Conv1D)            (None, 1, 16)             1808      \n",
      "_________________________________________________________________\n",
      "global_max_pooling1d_2 (Glob (None, 16)                0         \n",
      "_________________________________________________________________\n",
      "dense_8 (Dense)              (None, 8)                 136       \n",
      "_________________________________________________________________\n",
      "dense_9 (Dense)              (None, 1)                 9         \n",
      "=================================================================\n",
      "Total params: 2,024,369\n",
      "Trainable params: 2,024,369\n",
      "Non-trainable params: 0\n",
      "_________________________________________________________________\n"
     ]
    }
   ],
   "source": [
    "cnnk = keras.Sequential()\n",
    "cnnk.add(keras.layers.Embedding(vocab_size,\n",
    "                               word_vector_dim,\n",
    "                               embeddings_initializer=Constant(embedding_matrix), \n",
    "                               input_length=maxlen, \n",
    "                               trainable=True))\n",
    "cnnk.add(keras.layers.Conv1D(16, 7, activation='relu'))\n",
    "cnnk.add(keras.layers.MaxPooling1D(5))\n",
    "cnnk.add(keras.layers.Conv1D(16, 7, activation='relu'))\n",
    "cnnk.add(keras.layers.GlobalMaxPooling1D())\n",
    "cnnk.add(keras.layers.Dense(8, activation='relu'))\n",
    "cnnk.add(keras.layers.Dense(1, activation='sigmoid'))\n",
    "\n",
    "cnnk.summary()"
   ]
  },
  {
   "cell_type": "code",
   "execution_count": 49,
   "id": "a8deaad3",
   "metadata": {},
   "outputs": [
    {
     "name": "stdout",
     "output_type": "stream",
     "text": [
      "Epoch 1/10\n",
      "247/247 [==============================] - 2s 7ms/step - loss: 0.5257 - accuracy: 0.7313 - val_loss: 0.4312 - val_accuracy: 0.8012\n",
      "Epoch 2/10\n",
      "247/247 [==============================] - 1s 6ms/step - loss: 0.3833 - accuracy: 0.8296 - val_loss: 0.3742 - val_accuracy: 0.8347\n",
      "Epoch 3/10\n",
      "247/247 [==============================] - 2s 6ms/step - loss: 0.3285 - accuracy: 0.8594 - val_loss: 0.3549 - val_accuracy: 0.8443\n",
      "Epoch 4/10\n",
      "247/247 [==============================] - 1s 6ms/step - loss: 0.2912 - accuracy: 0.8785 - val_loss: 0.3539 - val_accuracy: 0.8459\n",
      "Epoch 5/10\n",
      "247/247 [==============================] - 1s 6ms/step - loss: 0.2660 - accuracy: 0.8911 - val_loss: 0.3723 - val_accuracy: 0.8427\n",
      "Epoch 6/10\n",
      "247/247 [==============================] - 1s 6ms/step - loss: 0.2422 - accuracy: 0.9029 - val_loss: 0.3661 - val_accuracy: 0.8475\n",
      "Epoch 7/10\n",
      "247/247 [==============================] - 1s 6ms/step - loss: 0.2197 - accuracy: 0.9138 - val_loss: 0.3857 - val_accuracy: 0.8442\n",
      "Epoch 8/10\n",
      "247/247 [==============================] - 1s 6ms/step - loss: 0.2003 - accuracy: 0.9226 - val_loss: 0.4142 - val_accuracy: 0.8410\n",
      "Epoch 9/10\n",
      "247/247 [==============================] - 1s 6ms/step - loss: 0.1778 - accuracy: 0.9339 - val_loss: 0.4256 - val_accuracy: 0.8415\n",
      "Epoch 10/10\n",
      "247/247 [==============================] - 1s 6ms/step - loss: 0.1581 - accuracy: 0.9428 - val_loss: 0.4716 - val_accuracy: 0.8384\n"
     ]
    }
   ],
   "source": [
    "cnnk.compile(optimizer='adam',\n",
    "              loss='binary_crossentropy',\n",
    "              metrics=['accuracy'])\n",
    "              \n",
    "epochs=10 \n",
    "\n",
    "history_cnnk = cnnk.fit(partial_X_train,\n",
    "                    partial_y_train,\n",
    "                    epochs=epochs,\n",
    "                    batch_size=512,\n",
    "                    validation_data=(X_val, y_val),\n",
    "                    verbose=1)"
   ]
  },
  {
   "cell_type": "code",
   "execution_count": 50,
   "id": "ee73192e",
   "metadata": {},
   "outputs": [
    {
     "name": "stdout",
     "output_type": "stream",
     "text": [
      "1537/1537 - 2s - loss: 0.4791 - accuracy: 0.8369\n",
      "[0.4790605902671814, 0.8369103074073792]\n"
     ]
    }
   ],
   "source": [
    "cnnk_results = cnnk.evaluate(X_test,  y_test, verbose=2)\n",
    "\n",
    "print(cnnk_results)"
   ]
  },
  {
   "cell_type": "code",
   "execution_count": 51,
   "id": "944e4db3",
   "metadata": {},
   "outputs": [
    {
     "data": {
      "image/png": "[encoded data removed]",
      "text/plain": [
       "<Figure size 720x288 with 2 Axes>"
      ]
     },
     "metadata": {
      "needs_background": "light"
     },
     "output_type": "display_data"
    }
   ],
   "source": [
    "history_cnnk_dict = history_cnnk.history\n",
    "\n",
    "acc = history_cnnk_dict['accuracy']\n",
    "val_acc = history_cnnk_dict['val_accuracy']\n",
    "loss = history_cnnk_dict['loss']\n",
    "val_loss = history_cnnk_dict['val_loss']\n",
    "\n",
    "epochs = range(1, len(acc) + 1)\n",
    "\n",
    "\n",
    "plt.figure(figsize=(10, 4))\n",
    "\n",
    "# Loss 그래프\n",
    "plt.subplot(1, 2, 1)\n",
    "plt.plot(epochs, loss, 'bo', label='Training loss') # \"bo\"는 \"파란색 점\"\n",
    "plt.plot(epochs, val_loss, 'b', label='Validation loss') # \"b\"는 \"파란 실선\"\n",
    "plt.title('Training and validation loss')\n",
    "plt.xlabel('Epochs')\n",
    "plt.ylabel('Loss')\n",
    "plt.legend()\n",
    "\n",
    "# Accuracy 그래프\n",
    "plt.subplot(1, 2, 2)\n",
    "plt.plot(epochs, acc, 'bo', label='Training acc')\n",
    "plt.plot(epochs, val_acc, 'b', label='Validation acc')\n",
    "plt.title('Training and validation accuracy')\n",
    "plt.xlabel('Epochs')\n",
    "plt.ylabel('Accuracy')\n",
    "plt.legend()\n",
    "plt.show()"
   ]
  },
  {
   "cell_type": "markdown",
   "id": "12b722a1",
   "metadata": {},
   "source": [
    "### 3) MaxPooling1D"
   ]
  },
  {
   "cell_type": "code",
   "execution_count": 52,
   "id": "36aa1437",
   "metadata": {},
   "outputs": [
    {
     "name": "stdout",
     "output_type": "stream",
     "text": [
      "Model: \"sequential_5\"\n",
      "_________________________________________________________________\n",
      "Layer (type)                 Output Shape              Param #   \n",
      "=================================================================\n",
      "embedding_5 (Embedding)      (None, 41, 200)           2000000   \n",
      "_________________________________________________________________\n",
      "global_max_pooling1d_3 (Glob (None, 200)               0         \n",
      "_________________________________________________________________\n",
      "dense_10 (Dense)             (None, 8)                 1608      \n",
      "_________________________________________________________________\n",
      "dense_11 (Dense)             (None, 1)                 9         \n",
      "=================================================================\n",
      "Total params: 2,001,617\n",
      "Trainable params: 2,001,617\n",
      "Non-trainable params: 0\n",
      "_________________________________________________________________\n"
     ]
    }
   ],
   "source": [
    "maxpoolingk = tf.keras.Sequential()\n",
    "maxpoolingk.add(tf.keras.layers.Embedding(vocab_size, \n",
    "                                          word_vector_dim, \n",
    "                                          embeddings_initializer=Constant(embedding_matrix),  \n",
    "                                          input_length=maxlen, \n",
    "                                          trainable=True))\n",
    "maxpoolingk.add(tf.keras.layers.GlobalMaxPooling1D())\n",
    "maxpoolingk.add(tf.keras.layers.Dense(8, activation='relu'))\n",
    "maxpoolingk.add(tf.keras.layers.Dense(1, activation='sigmoid')) \n",
    "\n",
    "maxpoolingk.summary()"
   ]
  },
  {
   "cell_type": "code",
   "execution_count": 53,
   "id": "bca2efd1",
   "metadata": {},
   "outputs": [
    {
     "name": "stdout",
     "output_type": "stream",
     "text": [
      "Epoch 1/10\n",
      "247/247 [==============================] - 2s 5ms/step - loss: 0.7242 - accuracy: 0.5340 - val_loss: 0.6696 - val_accuracy: 0.5996\n",
      "Epoch 2/10\n",
      "247/247 [==============================] - 1s 4ms/step - loss: 0.6144 - accuracy: 0.6629 - val_loss: 0.5569 - val_accuracy: 0.7158\n",
      "Epoch 3/10\n",
      "247/247 [==============================] - 1s 4ms/step - loss: 0.5188 - accuracy: 0.7437 - val_loss: 0.5020 - val_accuracy: 0.7534\n",
      "Epoch 4/10\n",
      "247/247 [==============================] - 1s 4ms/step - loss: 0.4695 - accuracy: 0.7766 - val_loss: 0.4724 - val_accuracy: 0.7742\n",
      "Epoch 5/10\n",
      "247/247 [==============================] - 1s 4ms/step - loss: 0.4351 - accuracy: 0.7981 - val_loss: 0.4461 - val_accuracy: 0.7894\n",
      "Epoch 6/10\n",
      "247/247 [==============================] - 1s 4ms/step - loss: 0.4094 - accuracy: 0.8141 - val_loss: 0.4395 - val_accuracy: 0.7947\n",
      "Epoch 7/10\n",
      "247/247 [==============================] - 1s 4ms/step - loss: 0.3887 - accuracy: 0.8265 - val_loss: 0.4188 - val_accuracy: 0.8072\n",
      "Epoch 8/10\n",
      "247/247 [==============================] - 1s 4ms/step - loss: 0.3697 - accuracy: 0.8371 - val_loss: 0.4104 - val_accuracy: 0.8134\n",
      "Epoch 9/10\n",
      "247/247 [==============================] - 1s 4ms/step - loss: 0.3529 - accuracy: 0.8464 - val_loss: 0.4096 - val_accuracy: 0.8155\n",
      "Epoch 10/10\n",
      "247/247 [==============================] - 1s 4ms/step - loss: 0.3371 - accuracy: 0.8546 - val_loss: 0.4006 - val_accuracy: 0.8181\n"
     ]
    }
   ],
   "source": [
    "maxpoolingk.compile(optimizer='adam',\n",
    "              loss='binary_crossentropy',\n",
    "              metrics=['accuracy'])\n",
    "              \n",
    "epochs=10 \n",
    "\n",
    "history_maxpoolingk = maxpoolingk.fit(partial_X_train,\n",
    "                    partial_y_train,\n",
    "                    epochs=epochs,\n",
    "                    batch_size=512,\n",
    "                    validation_data=(X_val, y_val),\n",
    "                    verbose=1)"
   ]
  },
  {
   "cell_type": "code",
   "execution_count": 54,
   "id": "d94567a0",
   "metadata": {},
   "outputs": [
    {
     "name": "stdout",
     "output_type": "stream",
     "text": [
      "1537/1537 - 2s - loss: 0.4076 - accuracy: 0.8150\n",
      "[0.4075576663017273, 0.815021276473999]\n"
     ]
    }
   ],
   "source": [
    "maxpoolingk_results = maxpoolingk.evaluate(X_test,  y_test, verbose=2)\n",
    "\n",
    "print(maxpoolingk_results)"
   ]
  },
  {
   "cell_type": "code",
   "execution_count": 55,
   "id": "262e766e",
   "metadata": {},
   "outputs": [
    {
     "data": {
      "image/png": "[encoded data removed]",
      "text/plain": [
       "<Figure size 720x288 with 2 Axes>"
      ]
     },
     "metadata": {
      "needs_background": "light"
     },
     "output_type": "display_data"
    }
   ],
   "source": [
    "history_maxpoolingk_dict = history_maxpoolingk.history\n",
    "\n",
    "acc = history_maxpoolingk_dict['accuracy']\n",
    "val_acc = history_maxpoolingk_dict['val_accuracy']\n",
    "loss = history_maxpoolingk_dict['loss']\n",
    "val_loss = history_maxpoolingk_dict['val_loss']\n",
    "\n",
    "epochs = range(1, len(acc) + 1)\n",
    "\n",
    "\n",
    "plt.figure(figsize=(10, 4))\n",
    "\n",
    "# Loss 그래프\n",
    "plt.subplot(1, 2, 1)\n",
    "plt.plot(epochs, loss, 'bo', label='Training loss') # \"bo\"는 \"파란색 점\"\n",
    "plt.plot(epochs, val_loss, 'b', label='Validation loss') # \"b\"는 \"파란 실선\"\n",
    "plt.title('Training and validation loss')\n",
    "plt.xlabel('Epochs')\n",
    "plt.ylabel('Loss')\n",
    "plt.legend()\n",
    "\n",
    "# Accuracy 그래프\n",
    "plt.subplot(1, 2, 2)\n",
    "plt.plot(epochs, acc, 'bo', label='Training acc')\n",
    "plt.plot(epochs, val_acc, 'b', label='Validation acc')\n",
    "plt.title('Training and validation accuracy')\n",
    "plt.xlabel('Epochs')\n",
    "plt.ylabel('Accuracy')\n",
    "plt.legend()\n",
    "plt.show()"
   ]
  },
  {
   "cell_type": "markdown",
   "id": "a400e90c",
   "metadata": {},
   "source": [
    "세 모델 다시 비교해보자."
   ]
  },
  {
   "cell_type": "code",
   "execution_count": 56,
   "id": "814c33bf",
   "metadata": {},
   "outputs": [
    {
     "name": "stdout",
     "output_type": "stream",
     "text": [
      "[0.3776867389678955, 0.8483430743217468]\n",
      "[0.4790605902671814, 0.8369103074073792]\n",
      "[0.4075576663017273, 0.815021276473999]\n"
     ]
    }
   ],
   "source": [
    "print(lstmk_results)\n",
    "print(cnnk_results)\n",
    "print(maxpoolingk_results)"
   ]
  },
  {
   "cell_type": "markdown",
   "id": "5001c74c",
   "metadata": {},
   "source": [
    "accuracy가 더 안좋아졌다. 아무래도 시각화해서 보니 과적합때문에 그런것 같아서 계속해서 제일 성능이 좋은 LSTM의 에포크 수를 줄여서 다시해봐야겠다. 그리고 batch_size도 줄여봐야겠다. optimizer 종류도 바꿔봐야겠다."
   ]
  },
  {
   "cell_type": "markdown",
   "id": "833965a5",
   "metadata": {},
   "source": [
    "#### optimizer, epochs, batch_size 변경 후 LSTM으로 다시 시도 (결국은 validation set 다시 분배 후 성공)"
   ]
  },
  {
   "cell_type": "code",
   "execution_count": 57,
   "id": "fd5f6136",
   "metadata": {},
   "outputs": [
    {
     "name": "stdout",
     "output_type": "stream",
     "text": [
      "Epoch 1/8\n",
      "1972/1972 [==============================] - 13s 6ms/step - loss: 0.2400 - accuracy: 0.9045 - val_loss: 0.3502 - val_accuracy: 0.8556\n",
      "Epoch 2/8\n",
      "1972/1972 [==============================] - 11s 6ms/step - loss: 0.2429 - accuracy: 0.9031 - val_loss: 0.3534 - val_accuracy: 0.8540\n",
      "Epoch 3/8\n",
      "1972/1972 [==============================] - 11s 5ms/step - loss: 0.2439 - accuracy: 0.9034 - val_loss: 0.3440 - val_accuracy: 0.8548\n",
      "Epoch 4/8\n",
      "1972/1972 [==============================] - 11s 6ms/step - loss: 0.2439 - accuracy: 0.9030 - val_loss: 0.3415 - val_accuracy: 0.8582\n",
      "Epoch 5/8\n",
      "1972/1972 [==============================] - 11s 5ms/step - loss: 0.2428 - accuracy: 0.9035 - val_loss: 0.3494 - val_accuracy: 0.8564\n",
      "Epoch 6/8\n",
      "1972/1972 [==============================] - 11s 5ms/step - loss: 0.2413 - accuracy: 0.9045 - val_loss: 0.3553 - val_accuracy: 0.8534\n",
      "Epoch 7/8\n",
      "1972/1972 [==============================] - 11s 5ms/step - loss: 0.2398 - accuracy: 0.9051 - val_loss: 0.3526 - val_accuracy: 0.8520\n",
      "Epoch 8/8\n",
      "1972/1972 [==============================] - 11s 5ms/step - loss: 0.2369 - accuracy: 0.9059 - val_loss: 0.3443 - val_accuracy: 0.8555\n"
     ]
    }
   ],
   "source": [
    "lstmk.compile(optimizer='rmsprop',\n",
    "              loss='binary_crossentropy',\n",
    "              metrics=['accuracy'])\n",
    "              \n",
    "epochs=8\n",
    "\n",
    "history_lstmk = lstmk.fit(partial_X_train,\n",
    "                    partial_y_train,\n",
    "                    epochs=epochs,\n",
    "                    batch_size=64,\n",
    "                    validation_data=(X_val, y_val),\n",
    "                    verbose=1)"
   ]
  },
  {
   "cell_type": "code",
   "execution_count": 59,
   "id": "5c0ec341",
   "metadata": {},
   "outputs": [
    {
     "name": "stdout",
     "output_type": "stream",
     "text": [
      "1537/1537 - 3s - loss: 0.3535 - accuracy: 0.8531\n",
      "[0.353481650352478, 0.853123664855957]\n"
     ]
    }
   ],
   "source": [
    "lstmk_results = lstmk.evaluate(X_test,  y_test, verbose=2)\n",
    "\n",
    "print(lstmk_results)"
   ]
  },
  {
   "cell_type": "markdown",
   "id": "cac1ff14",
   "metadata": {},
   "source": [
    "## 회고"
   ]
  },
  {
   "cell_type": "markdown",
   "id": "7bac2ce8",
   "metadata": {},
   "source": [
    "- 여러 시도를 해봤는데 accuracy가 85%를 넘지 못해서 너무 힘들었다. 처음에는 단순하게 epoch 수를 줄이고, batch_size를 줄이는 방식으로만 계속 해봤다. 여러 파라미터들을 바꿔가면서 계속 돌려봤는데 계속 84% 언저리에서만 왔다갔다했다.\n",
    "- 정말 열심히 발버둥쳤는데 안나와서 구글링하던 중, 데이터에서 정규표현식을 통해 한글이 아닌 것들이나 특수문자를 제거해보기로 했다. 그렇게 해서 load_data 함수의 train data와 test data에서 열심히 특수문자를 공백으로 바꾸고 지워줬는데, LSTM 모델까지 잘되다가 CNN 모델에서 에러가 났다. 당연한 것이었고 바보같았지만 그때 정규표현식이 RNN에서만 써야한다는 것을 깨달았다. RNN은 시퀀스 데이터를 하나하나씩 훑는 느낌이고 CNN은 필터 단위로 처리돼서 이미지 분류에서 많이 쓰니깐.<br>\n",
    "- 정규표현식 썼던 것을 다시 지우고, 고민하던 차에 optimizer를 바꿔봐야겠다는 생각이 들었다. 그래서 LSTM에서 쓸 수 있는 optimizer를 찾아보다가 SGD, rmsprop이 추가로 있는 것을 보고 넣어봤는데도 85%를 넘지 못했다.\n",
    "- 고민하다가, 혹시 데이터셋이 적어서 그런건가라는 생각이 들었다. 근데 한정된 데이터셋을 받아온 것이기 때문에 데이터양을 더 늘릴 수는 없고, 쭉 보다가 내가 validation set를 너무 많이 설정한 것이 아닌가라는 생각이 들었다. 처음에는 훈련데이터의 30%인 40000을 지정했는데, 그것을 반으로 줄였다. 그렇게 해서 하이퍼파라미터도 바꿔보고 돌려보니깐 85%를 겨우 넘겼다."
   ]
  },
  {
   "cell_type": "markdown",
   "id": "21a35b8e",
   "metadata": {},
   "source": [
    "- 이번에 load_data 함수를 혼자서 써보고 싶었는데 아예 엄두가 나질 않았다. 이런 코드를 혼자서 생각해내기 위해서는 정말 지겹도록 말하는 것이지만 꾸준한 공부와 자꾸 혼자서 코드를 지어보려는 노력이 필요하다는 것이다. 시간이 없다는 핑계로 잘 안되는데, 언젠가는 꼭 저런 코드를 통해 함수를 혼자서 써보는 능력을 기르고 싶다. (특수 토큰 4개 앞에 붙여주는 것 꼭 복습!!)\n",
    "- 똑같은 데이터로 padding을 pre에 붙이는 것과 post에 붙이는 것 둘의 차이가 얼마나 나는지 실험해보고 싶었는데, 이 노드를 완성하는데에 너무 오래걸렸고, 85%에 집착하다보니깐 일단 점수부터 내고보자는 생각 때문에 그런 실험을 못했다. 다음에 다시 이 노드를 복습할 때 꼭 해봐야겠다.\n",
    "- gensim에서 계속 오류가 났는데, 다운그레이드를 시켜줘야 한국어 word2vec이 제대로 작동할 수 있었다. 버전이 바뀌면서 메소드와 인자들을 쓰는 방법이 바뀐다는 것을 알았다. 구글링과 버전의 중요성을 실감할 수 있었다.\n",
    "- 자연어 처리는 지난번에도 느낀 것이지만, 굉장히 재미있는 작업이고 흥미로운 지점이 상당히 많다. 모델이 학습을 해서 유사한 단어를 찾는 과정이 진짜 재밌다. 근데 재밌으면서도 너무 어렵다. 까다로운 부분이 많고, 신경써야 할 부분이 많고, 그래서 더욱 응용을 하기가 힘들다. 다양한 모델을 써본다는 것에 의의를 두고싶다.\n",
    "- 자꾸 이것저것 시도해보고 실패하다보니 노드가 많이 밀렸다. 파이썬에서 부족한 부분이 너무 많은데 그 공부는 언제할 수 있을까?"
   ]
  },
  {
   "cell_type": "code",
   "execution_count": null,
   "id": "abdc622a",
   "metadata": {},
   "outputs": [],
   "source": []
  }
 ],
 "metadata": {
  "kernelspec": {
   "display_name": "Python 3 (ipykernel)",
   "language": "python",
   "name": "python3"
  },
  "language_info": {
   "codemirror_mode": {
    "name": "ipython",
    "version": 3
   },
   "file_extension": ".py",
   "mimetype": "text/x-python",
   "name": "python",
   "nbconvert_exporter": "python",
   "pygments_lexer": "ipython3",
   "version": "3.9.7"
  }
 },
 "nbformat": 4,
 "nbformat_minor": 5
}
